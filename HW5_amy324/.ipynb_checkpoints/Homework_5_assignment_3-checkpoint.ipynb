{
 "cells": [
  {
   "cell_type": "markdown",
   "metadata": {},
   "source": [
    "Author: Adriano M. Yoshino - amy324@nyu.edu"
   ]
  },
  {
   "cell_type": "markdown",
   "metadata": {},
   "source": [
    "## Assignment 3: Practice formulating the null hypothesis"
   ]
  },
  {
   "cell_type": "markdown",
   "metadata": {},
   "source": [
    "### 1. Do diets help lose more fat than the exercise?\n",
    "\n",
    "Experimental setup: you have a test and a control sample.\n",
    "\n",
    "$$\n",
    "H_0: P_{exercise} - P_{diet} >= 0 \\\\\n",
    "H_a: P_{exercise} - P_{diet} < 0\n",
    "$$\n",
    "\n",
    "#### Assuming Test and control sample have the same habits and similar health conditions, the Null Hypothesis is: \n",
    "- People that exercise and don't diet (keep the previous regular eating habits) lose same or more % of fat that those who diets (change eating habits to a diet focused on losing fat) and don't exercise. Significance level p = 0.05.\n",
    "\n",
    "#### Alternative Hypothesis:\n",
    "- People within the experimental setup who diet and don't exercise lose signifficantly more % of fat that those who exercise but don't diet.\n"
   ]
  },
  {
   "cell_type": "markdown",
   "metadata": {},
   "source": [
    "### 2. Do American trust the president?\n",
    "\n",
    "POLL RESULTS: On May 16, 1994, Newsweek reported the results of a public opinion poll that asked: “From everything you know about Bill Clinton, does he have the honesty and integrity you expect in a president?” (p. 23). Poll surveyed 518 adults and 233, or 0.45 of them answered yes.\n",
    "\n",
    "$$\n",
    "H_0: P_{no} - P_{yes} >= 0 \\\\\n",
    "H_a: P_{yes} - P_{no} > 0\n",
    "$$\n",
    "\n",
    "#### The Null Hypothesis is: \n",
    "- American Poll Surveyed peole who said 'no' (don't trust) is more or equal to American Survered people who said 'yes' (trust). Significance level p=0.05\n",
    "\n",
    "#### Alternative Hypothesis:\n",
    "- American Poll Surveyed peole who said 'yes' (trust) is signifficantly higher than American Survered people who said 'no' (don't trust)."
   ]
  },
  {
   "cell_type": "markdown",
   "metadata": {},
   "source": [
    "### 3. Effectiveness of nicotine patches to quit smoking.\n",
    "\n",
    "Experimental setup: measure cessation rates for smokers randomly assigned to use a nicotine patch versus a placebo patch.\n",
    "\n",
    "$$\n",
    "H_0: P_{placebo} - P_{nicotine} >= 0 \\\\\n",
    "H_a: P_{placebo} - P_{nicotine} < 0\n",
    "$$\n",
    "\n",
    "#### The Null Hypothesis is: \n",
    "- The cessation rates for smokers randomly assigned to use placebo patch is higher or equal to cessation rates for smokers using nicotine patch. Significance level p=0.05\n",
    "\n",
    "\n",
    "#### The Alternative Hypothesis is: \n",
    "- The cessation rates for smokers randomly assigned to use nicotine patch is signifficantly higher than cessation rates for smokers using placebo patch."
   ]
  },
  {
   "cell_type": "markdown",
   "metadata": {},
   "source": [
    "### 4. Quantify the danger of smoking for pregnant women.\n",
    "\n",
    "Experimemtal setup: measure IQ of children at ages 1, 2, 3, and 4 years of age.\n",
    "\n",
    "$$\n",
    "H_0: P_{Children IQ - smoker} - P_{Children IQ - non smoker} >= 0 \\\\\n",
    "H_a: P_{Children IQ - smoker} - P_{Children IQ - non smoker} < 0\n",
    "$$\n",
    "\n",
    "#### The Null Hypothesis is:\n",
    "- The mean of measured IQ of children at ages 1, 2, 3 and 4 born from smoker mothers is higher or equal to children at same ages born from non smoker mothers. Significance level p = 0.05\n",
    "\n",
    "#### The Alternative Hypothesis is: \n",
    "- The mean of measured IQ of children at ages 1, 2, 3 and 4 born from non smoker mothers is signifficantly higher than children at same ages born from smoker mothers."
   ]
  }
 ],
 "metadata": {
  "kernelspec": {
   "display_name": "PUI2016_Python2",
   "language": "python",
   "name": "pui2016_python2"
  },
  "language_info": {
   "codemirror_mode": {
    "name": "ipython",
    "version": 2
   },
   "file_extension": ".py",
   "mimetype": "text/x-python",
   "name": "python",
   "nbconvert_exporter": "python",
   "pygments_lexer": "ipython2",
   "version": "2.7.12"
  }
 },
 "nbformat": 4,
 "nbformat_minor": 0
}
