{
 "cells": [
  {
   "cell_type": "markdown",
   "metadata": {},
   "source": [
    "# Working with Data - Computer Lab for Guest Lecture Julia Lane\n",
    "\n",
    "In this computer lab we will learn more more details and practice data work to enhance the content of the lecture presented by Julia Lane on responsible data use. We will address a research question, think about data and measurement errors, and manipulate data. \n",
    "\n",
    "OUTLINE: \n",
    "1. Define a research question \n",
    "2. Think about what data are available \n",
    "3. Think about possible measurement errors \n",
    "4. Think about the interpretation of your results \n",
    "5. Inform your results by linking datasets "
   ]
  },
  {
   "cell_type": "markdown",
   "metadata": {
    "raw_mimetype": "text/markdown"
   },
   "source": [
    "# 1. Define a reserach question\n",
    "Which Community Districts in NYC show the highest number of complaints?\n",
    "\n",
    "# 2. Think about what data are available\n",
    "Find suitable data by searching the CUSP Data Catalog https://datahub.cusp.nyu.edu/catalog. You can use Urban Profiler to investigate the Metadata associated with each dataset. Using this tool will help you to decide which attributes of the data you need to answer your question so you don't have to load the entire dataset. "
   ]
  },
  {
   "cell_type": "code",
   "execution_count": 223,
   "metadata": {
    "collapsed": false
   },
   "outputs": [
    {
     "name": "stdout",
     "output_type": "stream",
     "text": [
      "Populating the interactive namespace from numpy and matplotlib\n"
     ]
    },
    {
     "name": "stderr",
     "output_type": "stream",
     "text": [
      "/opt/rh/anaconda/root/envs/PUI2016_Python2/lib/python2.7/site-packages/IPython/core/magics/pylab.py:161: UserWarning: pylab import has clobbered these variables: ['plt']\n",
      "`%matplotlib` prevents importing * from pylab and numpy\n",
      "  \"\\n`%matplotlib` prevents importing * from pylab and numpy\"\n"
     ]
    }
   ],
   "source": [
    "import os\n",
    "import pandas as pd\n",
    "import numpy as np\n",
    "import re\n",
    "import pylab as pl\n",
    "import matplotlib as plt\n",
    "PUIdata = os.getenv('PUIDATA')\n",
    "\n",
    "%pylab inline"
   ]
  },
  {
   "cell_type": "code",
   "execution_count": 3,
   "metadata": {
    "collapsed": false,
    "scrolled": true
   },
   "outputs": [
    {
     "name": "stderr",
     "output_type": "stream",
     "text": [
      "/opt/rh/anaconda/root/envs/PUI2016_Python2/lib/python2.7/site-packages/IPython/core/interactiveshell.py:2717: DtypeWarning: Columns (8,17,39,40,47,48) have mixed types. Specify dtype option on import or set low_memory=False.\n",
      "  interactivity=interactivity, compiler=compiler, result=result)\n"
     ]
    }
   ],
   "source": [
    "# Load dataset\n",
    "complaints = pd.read_csv('/projects/open/NYCOpenData/nycopendata/data/erm2-nwe9/1446832678/erm2-nwe9')"
   ]
  },
  {
   "cell_type": "code",
   "execution_count": 62,
   "metadata": {
    "collapsed": true
   },
   "outputs": [],
   "source": [
    "c = complaints.copy()"
   ]
  },
  {
   "cell_type": "code",
   "execution_count": 4,
   "metadata": {
    "collapsed": false
   },
   "outputs": [
    {
     "data": {
      "text/html": [
       "<div>\n",
       "<table border=\"1\" class=\"dataframe\">\n",
       "  <thead>\n",
       "    <tr style=\"text-align: right;\">\n",
       "      <th></th>\n",
       "      <th>Unique Key</th>\n",
       "      <th>Created Date</th>\n",
       "      <th>Closed Date</th>\n",
       "      <th>Agency</th>\n",
       "      <th>Agency Name</th>\n",
       "      <th>Complaint Type</th>\n",
       "      <th>Descriptor</th>\n",
       "      <th>Location Type</th>\n",
       "      <th>Incident Zip</th>\n",
       "      <th>Incident Address</th>\n",
       "      <th>...</th>\n",
       "      <th>Bridge Highway Name</th>\n",
       "      <th>Bridge Highway Direction</th>\n",
       "      <th>Road Ramp</th>\n",
       "      <th>Bridge Highway Segment</th>\n",
       "      <th>Garage Lot Name</th>\n",
       "      <th>Ferry Direction</th>\n",
       "      <th>Ferry Terminal Name</th>\n",
       "      <th>Latitude</th>\n",
       "      <th>Longitude</th>\n",
       "      <th>Location</th>\n",
       "    </tr>\n",
       "  </thead>\n",
       "  <tbody>\n",
       "    <tr>\n",
       "      <th>0</th>\n",
       "      <td>31911011</td>\n",
       "      <td>11/05/2015 02:59:15 AM</td>\n",
       "      <td>NaN</td>\n",
       "      <td>DOT</td>\n",
       "      <td>Department of Transportation</td>\n",
       "      <td>Street Condition</td>\n",
       "      <td>Pothole</td>\n",
       "      <td>NaN</td>\n",
       "      <td>11224</td>\n",
       "      <td>NaN</td>\n",
       "      <td>...</td>\n",
       "      <td>NaN</td>\n",
       "      <td>NaN</td>\n",
       "      <td>NaN</td>\n",
       "      <td>NaN</td>\n",
       "      <td>NaN</td>\n",
       "      <td>NaN</td>\n",
       "      <td>NaN</td>\n",
       "      <td>40.573431</td>\n",
       "      <td>-73.991742</td>\n",
       "      <td>(40.57343122248129, -73.99174247588253)</td>\n",
       "    </tr>\n",
       "    <tr>\n",
       "      <th>1</th>\n",
       "      <td>31908754</td>\n",
       "      <td>11/05/2015 02:09:49 AM</td>\n",
       "      <td>NaN</td>\n",
       "      <td>CHALL</td>\n",
       "      <td>CHALL</td>\n",
       "      <td>Opinion for the Mayor</td>\n",
       "      <td>HOUSING</td>\n",
       "      <td>NaN</td>\n",
       "      <td>NaN</td>\n",
       "      <td>NaN</td>\n",
       "      <td>...</td>\n",
       "      <td>NaN</td>\n",
       "      <td>NaN</td>\n",
       "      <td>NaN</td>\n",
       "      <td>1-1-1173130914</td>\n",
       "      <td>NaN</td>\n",
       "      <td>NaN</td>\n",
       "      <td>NaN</td>\n",
       "      <td>NaN</td>\n",
       "      <td>NaN</td>\n",
       "      <td>NaN</td>\n",
       "    </tr>\n",
       "    <tr>\n",
       "      <th>2</th>\n",
       "      <td>31910423</td>\n",
       "      <td>11/05/2015 02:06:51 AM</td>\n",
       "      <td>NaN</td>\n",
       "      <td>DPR</td>\n",
       "      <td>Department of Parks and Recreation</td>\n",
       "      <td>Root/Sewer/Sidewalk Condition</td>\n",
       "      <td>Trees and Sidewalks Program</td>\n",
       "      <td>Street</td>\n",
       "      <td>11234</td>\n",
       "      <td>1157 EAST 57 STREET</td>\n",
       "      <td>...</td>\n",
       "      <td>NaN</td>\n",
       "      <td>NaN</td>\n",
       "      <td>NaN</td>\n",
       "      <td>NaN</td>\n",
       "      <td>NaN</td>\n",
       "      <td>NaN</td>\n",
       "      <td>NaN</td>\n",
       "      <td>40.625004</td>\n",
       "      <td>-73.920726</td>\n",
       "      <td>(40.62500363580505, -73.92072558378698)</td>\n",
       "    </tr>\n",
       "    <tr>\n",
       "      <th>3</th>\n",
       "      <td>31909924</td>\n",
       "      <td>11/05/2015 02:02:20 AM</td>\n",
       "      <td>NaN</td>\n",
       "      <td>NYPD</td>\n",
       "      <td>New York City Police Department</td>\n",
       "      <td>Illegal Parking</td>\n",
       "      <td>Blocked Hydrant</td>\n",
       "      <td>Street/Sidewalk</td>\n",
       "      <td>11218</td>\n",
       "      <td>722 EAST 4 STREET</td>\n",
       "      <td>...</td>\n",
       "      <td>NaN</td>\n",
       "      <td>NaN</td>\n",
       "      <td>NaN</td>\n",
       "      <td>NaN</td>\n",
       "      <td>NaN</td>\n",
       "      <td>NaN</td>\n",
       "      <td>NaN</td>\n",
       "      <td>40.634522</td>\n",
       "      <td>-73.974790</td>\n",
       "      <td>(40.634522428879706, -73.97479041437481)</td>\n",
       "    </tr>\n",
       "    <tr>\n",
       "      <th>4</th>\n",
       "      <td>31913310</td>\n",
       "      <td>11/05/2015 01:57:20 AM</td>\n",
       "      <td>11/05/2015 01:57:31 AM</td>\n",
       "      <td>HRA</td>\n",
       "      <td>HRA Benefit Card Replacement</td>\n",
       "      <td>Benefit Card Replacement</td>\n",
       "      <td>Medicaid</td>\n",
       "      <td>NYC Street Address</td>\n",
       "      <td>NaN</td>\n",
       "      <td>NaN</td>\n",
       "      <td>...</td>\n",
       "      <td>NaN</td>\n",
       "      <td>NaN</td>\n",
       "      <td>NaN</td>\n",
       "      <td>NaN</td>\n",
       "      <td>NaN</td>\n",
       "      <td>NaN</td>\n",
       "      <td>NaN</td>\n",
       "      <td>NaN</td>\n",
       "      <td>NaN</td>\n",
       "      <td>NaN</td>\n",
       "    </tr>\n",
       "  </tbody>\n",
       "</table>\n",
       "<p>5 rows × 53 columns</p>\n",
       "</div>"
      ],
      "text/plain": [
       "   Unique Key            Created Date             Closed Date Agency  \\\n",
       "0    31911011  11/05/2015 02:59:15 AM                     NaN    DOT   \n",
       "1    31908754  11/05/2015 02:09:49 AM                     NaN  CHALL   \n",
       "2    31910423  11/05/2015 02:06:51 AM                     NaN    DPR   \n",
       "3    31909924  11/05/2015 02:02:20 AM                     NaN   NYPD   \n",
       "4    31913310  11/05/2015 01:57:20 AM  11/05/2015 01:57:31 AM    HRA   \n",
       "\n",
       "                          Agency Name                 Complaint Type  \\\n",
       "0        Department of Transportation               Street Condition   \n",
       "1                               CHALL          Opinion for the Mayor   \n",
       "2  Department of Parks and Recreation  Root/Sewer/Sidewalk Condition   \n",
       "3     New York City Police Department                Illegal Parking   \n",
       "4        HRA Benefit Card Replacement       Benefit Card Replacement   \n",
       "\n",
       "                    Descriptor       Location Type Incident Zip  \\\n",
       "0                      Pothole                 NaN        11224   \n",
       "1                      HOUSING                 NaN          NaN   \n",
       "2  Trees and Sidewalks Program              Street        11234   \n",
       "3              Blocked Hydrant     Street/Sidewalk        11218   \n",
       "4                     Medicaid  NYC Street Address          NaN   \n",
       "\n",
       "      Incident Address                    ...                     \\\n",
       "0                  NaN                    ...                      \n",
       "1                  NaN                    ...                      \n",
       "2  1157 EAST 57 STREET                    ...                      \n",
       "3    722 EAST 4 STREET                    ...                      \n",
       "4                  NaN                    ...                      \n",
       "\n",
       "  Bridge Highway Name Bridge Highway Direction Road Ramp  \\\n",
       "0                 NaN                      NaN       NaN   \n",
       "1                 NaN                      NaN       NaN   \n",
       "2                 NaN                      NaN       NaN   \n",
       "3                 NaN                      NaN       NaN   \n",
       "4                 NaN                      NaN       NaN   \n",
       "\n",
       "  Bridge Highway Segment Garage Lot Name Ferry Direction Ferry Terminal Name  \\\n",
       "0                    NaN             NaN             NaN                 NaN   \n",
       "1         1-1-1173130914             NaN             NaN                 NaN   \n",
       "2                    NaN             NaN             NaN                 NaN   \n",
       "3                    NaN             NaN             NaN                 NaN   \n",
       "4                    NaN             NaN             NaN                 NaN   \n",
       "\n",
       "    Latitude  Longitude                                  Location  \n",
       "0  40.573431 -73.991742   (40.57343122248129, -73.99174247588253)  \n",
       "1        NaN        NaN                                       NaN  \n",
       "2  40.625004 -73.920726   (40.62500363580505, -73.92072558378698)  \n",
       "3  40.634522 -73.974790  (40.634522428879706, -73.97479041437481)  \n",
       "4        NaN        NaN                                       NaN  \n",
       "\n",
       "[5 rows x 53 columns]"
      ]
     },
     "execution_count": 4,
     "metadata": {},
     "output_type": "execute_result"
    }
   ],
   "source": [
    "complaints.head()"
   ]
  },
  {
   "cell_type": "code",
   "execution_count": 6,
   "metadata": {
    "collapsed": false,
    "scrolled": true
   },
   "outputs": [
    {
     "data": {
      "text/plain": [
       "Index([u'Unique Key', u'Created Date', u'Closed Date', u'Agency',\n",
       "       u'Agency Name', u'Complaint Type', u'Descriptor', u'Location Type',\n",
       "       u'Incident Zip', u'Incident Address', u'Street Name', u'Cross Street 1',\n",
       "       u'Cross Street 2', u'Intersection Street 1', u'Intersection Street 2',\n",
       "       u'Address Type', u'City', u'Landmark', u'Facility Type', u'Status',\n",
       "       u'Due Date', u'Resolution Description',\n",
       "       u'Resolution Action Updated Date', u'Community Board', u'Borough',\n",
       "       u'X Coordinate (State Plane)', u'Y Coordinate (State Plane)',\n",
       "       u'Park Facility Name', u'Park Borough', u'School Name',\n",
       "       u'School Number', u'School Region', u'School Code',\n",
       "       u'School Phone Number', u'School Address', u'School City',\n",
       "       u'School State', u'School Zip', u'School Not Found',\n",
       "       u'School or Citywide Complaint', u'Vehicle Type',\n",
       "       u'Taxi Company Borough', u'Taxi Pick Up Location',\n",
       "       u'Bridge Highway Name', u'Bridge Highway Direction', u'Road Ramp',\n",
       "       u'Bridge Highway Segment', u'Garage Lot Name', u'Ferry Direction',\n",
       "       u'Ferry Terminal Name', u'Latitude', u'Longitude', u'Location'],\n",
       "      dtype='object')"
      ]
     },
     "execution_count": 6,
     "metadata": {},
     "output_type": "execute_result"
    }
   ],
   "source": [
    "# Checking all columns of the complaint data\n",
    "complaints.columns"
   ]
  },
  {
   "cell_type": "code",
   "execution_count": 184,
   "metadata": {
    "collapsed": false
   },
   "outputs": [
    {
     "data": {
      "text/plain": [
       "['01 BRONX',\n",
       " '01 BROOKLYN',\n",
       " '01 MANHATTAN',\n",
       " '01 QUEENS',\n",
       " '01 STATEN ISLAND',\n",
       " '02 BRONX',\n",
       " '02 BROOKLYN',\n",
       " '02 MANHATTAN',\n",
       " '02 QUEENS',\n",
       " '02 STATEN ISLAND',\n",
       " '03 BRONX',\n",
       " '03 BROOKLYN',\n",
       " '03 MANHATTAN',\n",
       " '03 QUEENS',\n",
       " '03 STATEN ISLAND',\n",
       " '04 BRONX',\n",
       " '04 BROOKLYN',\n",
       " '04 MANHATTAN',\n",
       " '04 QUEENS',\n",
       " '05 BRONX',\n",
       " '05 BROOKLYN',\n",
       " '05 MANHATTAN',\n",
       " '05 QUEENS',\n",
       " '06 BRONX',\n",
       " '06 BROOKLYN',\n",
       " '06 MANHATTAN',\n",
       " '06 QUEENS',\n",
       " '07 BRONX',\n",
       " '07 BROOKLYN',\n",
       " '07 MANHATTAN',\n",
       " '07 QUEENS',\n",
       " '08 BRONX',\n",
       " '08 BROOKLYN',\n",
       " '08 MANHATTAN',\n",
       " '08 QUEENS',\n",
       " '09 BRONX',\n",
       " '09 BROOKLYN',\n",
       " '09 MANHATTAN',\n",
       " '09 QUEENS',\n",
       " '10 BRONX',\n",
       " '10 BROOKLYN',\n",
       " '10 MANHATTAN',\n",
       " '10 QUEENS',\n",
       " '11 BRONX',\n",
       " '11 BROOKLYN',\n",
       " '11 MANHATTAN',\n",
       " '11 QUEENS',\n",
       " '12 BRONX',\n",
       " '12 BROOKLYN',\n",
       " '12 MANHATTAN',\n",
       " '12 QUEENS',\n",
       " '13 BROOKLYN',\n",
       " '13 QUEENS',\n",
       " '14 BROOKLYN',\n",
       " '14 QUEENS',\n",
       " '15 BROOKLYN',\n",
       " '16 BROOKLYN',\n",
       " '17 BROOKLYN',\n",
       " '18 BROOKLYN',\n",
       " '26 BRONX',\n",
       " '27 BRONX',\n",
       " '28 BRONX',\n",
       " '55 BROOKLYN',\n",
       " '56 BROOKLYN',\n",
       " '64 MANHATTAN',\n",
       " '80 QUEENS',\n",
       " '81 QUEENS',\n",
       " '82 QUEENS',\n",
       " '83 QUEENS',\n",
       " '84 QUEENS',\n",
       " '95 STATEN ISLAND']"
      ]
     },
     "execution_count": 184,
     "metadata": {},
     "output_type": "execute_result"
    }
   ],
   "source": [
    "# Community Districts can be found in column u'Community Board'\n",
    "# Let's display it and count the unique values\n",
    "unComDist = sorted(complaints[u'Community Board'].unique())\n",
    "unComDist"
   ]
  },
  {
   "cell_type": "code",
   "execution_count": 8,
   "metadata": {
    "collapsed": false
   },
   "outputs": [
    {
     "data": {
      "text/plain": [
       "['BRONX', 'BROOKLYN', 'MANHATTAN', 'QUEENS', 'STATEN ISLAND', 'Unspecified']"
      ]
     },
     "execution_count": 8,
     "metadata": {},
     "output_type": "execute_result"
    }
   ],
   "source": [
    "# Boroughs can be found in column u'Community Board'\n",
    "# Let's display it and count the unique values\n",
    "\n",
    "unBoroughs = sorted(complaints[u'Borough'].unique())\n",
    "unBoroughs"
   ]
  },
  {
   "cell_type": "markdown",
   "metadata": {},
   "source": [
    "# 3. Think about possible measurement errors\n",
    "Do you see any problems regarding possible measurement error? Think about who is represented in the data, ommissions, duplications, content error, missing data, etc. "
   ]
  },
  {
   "cell_type": "markdown",
   "metadata": {
    "collapsed": false
   },
   "source": [
    "#### Check if all Boroughs and Community Districts are represented in the Data "
   ]
  },
  {
   "cell_type": "code",
   "execution_count": 9,
   "metadata": {
    "collapsed": false,
    "scrolled": true
   },
   "outputs": [
    {
     "data": {
      "text/html": [
       "<div>\n",
       "<table border=\"1\" class=\"dataframe\">\n",
       "  <thead>\n",
       "    <tr style=\"text-align: right;\">\n",
       "      <th></th>\n",
       "      <th>JURISDICTION NAME</th>\n",
       "      <th>COUNT PARTICIPANTS</th>\n",
       "      <th>COUNT FEMALE</th>\n",
       "      <th>PERCENT FEMALE</th>\n",
       "      <th>COUNT MALE</th>\n",
       "      <th>PERCENT MALE</th>\n",
       "      <th>COUNT GENDER UNKNOWN</th>\n",
       "      <th>PERCENT GENDER UNKNOWN</th>\n",
       "      <th>COUNT GENDER TOTAL</th>\n",
       "      <th>PERCENT GENDER TOTAL</th>\n",
       "      <th>...</th>\n",
       "      <th>PERCENT CITIZEN STATUS UNKNOWN</th>\n",
       "      <th>COUNT CITIZEN STATUS TOTAL</th>\n",
       "      <th>PERCENT CITIZEN STATUS TOTAL</th>\n",
       "      <th>COUNT RECEIVES PUBLIC ASSISTANCE</th>\n",
       "      <th>PERCENT RECEIVES PUBLIC ASSISTANCE</th>\n",
       "      <th>COUNT NRECEIVES PUBLIC ASSISTANCE</th>\n",
       "      <th>PERCENT NRECEIVES PUBLIC ASSISTANCE</th>\n",
       "      <th>COUNT PUBLIC ASSISTANCE UNKNOWN</th>\n",
       "      <th>PERCENT PUBLIC ASSISTANCE UNKNOWN</th>\n",
       "      <th>COUNT PUBLIC ASSISTANCE TOTAL</th>\n",
       "    </tr>\n",
       "  </thead>\n",
       "  <tbody>\n",
       "    <tr>\n",
       "      <th>0</th>\n",
       "      <td>Bronx CD 001</td>\n",
       "      <td>59</td>\n",
       "      <td>31</td>\n",
       "      <td>0.53</td>\n",
       "      <td>28</td>\n",
       "      <td>0.47</td>\n",
       "      <td>0</td>\n",
       "      <td>0</td>\n",
       "      <td>59</td>\n",
       "      <td>100</td>\n",
       "      <td>...</td>\n",
       "      <td>0</td>\n",
       "      <td>59</td>\n",
       "      <td>100</td>\n",
       "      <td>20</td>\n",
       "      <td>0.34</td>\n",
       "      <td>39</td>\n",
       "      <td>0.66</td>\n",
       "      <td>0</td>\n",
       "      <td>0</td>\n",
       "      <td>59</td>\n",
       "    </tr>\n",
       "    <tr>\n",
       "      <th>1</th>\n",
       "      <td>Bronx CD 002</td>\n",
       "      <td>7</td>\n",
       "      <td>5</td>\n",
       "      <td>0.71</td>\n",
       "      <td>2</td>\n",
       "      <td>0.29</td>\n",
       "      <td>0</td>\n",
       "      <td>0</td>\n",
       "      <td>7</td>\n",
       "      <td>100</td>\n",
       "      <td>...</td>\n",
       "      <td>0</td>\n",
       "      <td>7</td>\n",
       "      <td>100</td>\n",
       "      <td>3</td>\n",
       "      <td>0.43</td>\n",
       "      <td>4</td>\n",
       "      <td>0.57</td>\n",
       "      <td>0</td>\n",
       "      <td>0</td>\n",
       "      <td>7</td>\n",
       "    </tr>\n",
       "    <tr>\n",
       "      <th>2</th>\n",
       "      <td>Bronx CD 003</td>\n",
       "      <td>15</td>\n",
       "      <td>12</td>\n",
       "      <td>0.80</td>\n",
       "      <td>3</td>\n",
       "      <td>0.20</td>\n",
       "      <td>0</td>\n",
       "      <td>0</td>\n",
       "      <td>15</td>\n",
       "      <td>100</td>\n",
       "      <td>...</td>\n",
       "      <td>0</td>\n",
       "      <td>15</td>\n",
       "      <td>100</td>\n",
       "      <td>6</td>\n",
       "      <td>0.40</td>\n",
       "      <td>9</td>\n",
       "      <td>0.60</td>\n",
       "      <td>0</td>\n",
       "      <td>0</td>\n",
       "      <td>15</td>\n",
       "    </tr>\n",
       "    <tr>\n",
       "      <th>3</th>\n",
       "      <td>Bronx CD 004</td>\n",
       "      <td>44</td>\n",
       "      <td>27</td>\n",
       "      <td>0.61</td>\n",
       "      <td>17</td>\n",
       "      <td>0.39</td>\n",
       "      <td>0</td>\n",
       "      <td>0</td>\n",
       "      <td>44</td>\n",
       "      <td>100</td>\n",
       "      <td>...</td>\n",
       "      <td>0</td>\n",
       "      <td>44</td>\n",
       "      <td>100</td>\n",
       "      <td>13</td>\n",
       "      <td>0.30</td>\n",
       "      <td>31</td>\n",
       "      <td>0.70</td>\n",
       "      <td>0</td>\n",
       "      <td>0</td>\n",
       "      <td>44</td>\n",
       "    </tr>\n",
       "    <tr>\n",
       "      <th>4</th>\n",
       "      <td>Bronx CD 005</td>\n",
       "      <td>18</td>\n",
       "      <td>7</td>\n",
       "      <td>0.39</td>\n",
       "      <td>11</td>\n",
       "      <td>0.61</td>\n",
       "      <td>0</td>\n",
       "      <td>0</td>\n",
       "      <td>18</td>\n",
       "      <td>100</td>\n",
       "      <td>...</td>\n",
       "      <td>0</td>\n",
       "      <td>18</td>\n",
       "      <td>100</td>\n",
       "      <td>8</td>\n",
       "      <td>0.44</td>\n",
       "      <td>10</td>\n",
       "      <td>0.56</td>\n",
       "      <td>0</td>\n",
       "      <td>0</td>\n",
       "      <td>18</td>\n",
       "    </tr>\n",
       "  </tbody>\n",
       "</table>\n",
       "<p>5 rows × 45 columns</p>\n",
       "</div>"
      ],
      "text/plain": [
       "  JURISDICTION NAME  COUNT PARTICIPANTS  COUNT FEMALE  PERCENT FEMALE  \\\n",
       "0      Bronx CD 001                  59            31            0.53   \n",
       "1      Bronx CD 002                   7             5            0.71   \n",
       "2      Bronx CD 003                  15            12            0.80   \n",
       "3      Bronx CD 004                  44            27            0.61   \n",
       "4      Bronx CD 005                  18             7            0.39   \n",
       "\n",
       "   COUNT MALE  PERCENT MALE  COUNT GENDER UNKNOWN  PERCENT GENDER UNKNOWN  \\\n",
       "0          28          0.47                     0                       0   \n",
       "1           2          0.29                     0                       0   \n",
       "2           3          0.20                     0                       0   \n",
       "3          17          0.39                     0                       0   \n",
       "4          11          0.61                     0                       0   \n",
       "\n",
       "   COUNT GENDER TOTAL  PERCENT GENDER TOTAL              ...                \\\n",
       "0                  59                   100              ...                 \n",
       "1                   7                   100              ...                 \n",
       "2                  15                   100              ...                 \n",
       "3                  44                   100              ...                 \n",
       "4                  18                   100              ...                 \n",
       "\n",
       "   PERCENT CITIZEN STATUS UNKNOWN  COUNT CITIZEN STATUS TOTAL  \\\n",
       "0                               0                          59   \n",
       "1                               0                           7   \n",
       "2                               0                          15   \n",
       "3                               0                          44   \n",
       "4                               0                          18   \n",
       "\n",
       "   PERCENT CITIZEN STATUS TOTAL  COUNT RECEIVES PUBLIC ASSISTANCE  \\\n",
       "0                           100                                20   \n",
       "1                           100                                 3   \n",
       "2                           100                                 6   \n",
       "3                           100                                13   \n",
       "4                           100                                 8   \n",
       "\n",
       "   PERCENT RECEIVES PUBLIC ASSISTANCE  COUNT NRECEIVES PUBLIC ASSISTANCE  \\\n",
       "0                                0.34                                 39   \n",
       "1                                0.43                                  4   \n",
       "2                                0.40                                  9   \n",
       "3                                0.30                                 31   \n",
       "4                                0.44                                 10   \n",
       "\n",
       "   PERCENT NRECEIVES PUBLIC ASSISTANCE  COUNT PUBLIC ASSISTANCE UNKNOWN  \\\n",
       "0                                 0.66                                0   \n",
       "1                                 0.57                                0   \n",
       "2                                 0.60                                0   \n",
       "3                                 0.70                                0   \n",
       "4                                 0.56                                0   \n",
       "\n",
       "   PERCENT PUBLIC ASSISTANCE UNKNOWN  COUNT PUBLIC ASSISTANCE TOTAL  \n",
       "0                                  0                             59  \n",
       "1                                  0                              7  \n",
       "2                                  0                             15  \n",
       "3                                  0                             44  \n",
       "4                                  0                             18  \n",
       "\n",
       "[5 rows x 45 columns]"
      ]
     },
     "execution_count": 9,
     "metadata": {},
     "output_type": "execute_result"
    }
   ],
   "source": [
    "#To check if all community Districts are represented, let's access the Community District Breakdowns\n",
    "comDistricts = pd.read_csv('/projects/open/NYCOpenData/nycopendata/data/w3c6-35wg/1422440891/w3c6-35wg')\n",
    "comDistricts.head()"
   ]
  },
  {
   "cell_type": "code",
   "execution_count": 10,
   "metadata": {
    "collapsed": false
   },
   "outputs": [
    {
     "data": {
      "text/plain": [
       "['Bronx CD 001',\n",
       " 'Bronx CD 002',\n",
       " 'Bronx CD 003',\n",
       " 'Bronx CD 004',\n",
       " 'Bronx CD 005',\n",
       " 'Bronx CD 006',\n",
       " 'Bronx CD 007',\n",
       " 'Bronx CD 008',\n",
       " 'Bronx CD 009',\n",
       " 'Bronx CD 010']"
      ]
     },
     "execution_count": 10,
     "metadata": {},
     "output_type": "execute_result"
    }
   ],
   "source": [
    "unComBreak = sorted(comDistricts[u'JURISDICTION NAME'].unique())\n",
    "unComBreak[:10]\n"
   ]
  },
  {
   "cell_type": "markdown",
   "metadata": {
    "collapsed": false
   },
   "source": [
    "#### How many unique values do we have? "
   ]
  },
  {
   "cell_type": "markdown",
   "metadata": {
    "collapsed": false
   },
   "source": [
    "#### Why do we have so many? Some of them are unspecified, missing. Some might be invalid entries. \n",
    "#### We should have 59 Community Districts."
   ]
  },
  {
   "cell_type": "code",
   "execution_count": 11,
   "metadata": {
    "collapsed": false,
    "scrolled": true
   },
   "outputs": [
    {
     "name": "stdout",
     "output_type": "stream",
     "text": [
      "There are 77 unique values on Complaints data\n",
      "There are 59 unique Community Districts\n"
     ]
    }
   ],
   "source": [
    "# Checking the number of unique values\n",
    "print(\"There are %d unique values on Complaints data\" %(len(unComDist)))\n",
    "print(\"There are %d unique Community Districts\" %(len(unComBreak)))"
   ]
  },
  {
   "cell_type": "markdown",
   "metadata": {},
   "source": [
    "Looking at the data, we do found some unspecified data that sholdbe rising the Community Districts count on our complaint data"
   ]
  },
  {
   "cell_type": "code",
   "execution_count": 12,
   "metadata": {
    "collapsed": false,
    "scrolled": true
   },
   "outputs": [
    {
     "name": "stdout",
     "output_type": "stream",
     "text": [
      "There are 6 unique Boroughs on Complaints data\n",
      "There are 5 unique Boroughs\n"
     ]
    }
   ],
   "source": [
    "# Checking the number of unique values\n",
    "print(\"There are %d unique Boroughs on Complaints data\" %(len(unBoroughs)))\n",
    "print(\"There are 5 unique Boroughs\")"
   ]
  },
  {
   "cell_type": "markdown",
   "metadata": {},
   "source": [
    "Looking at the data, we do found a unspecified data that sholdbe rising the Boroughs count on our complaint data"
   ]
  },
  {
   "cell_type": "markdown",
   "metadata": {
    "collapsed": true
   },
   "source": [
    "#### Check for duplicates? Are these plausible?"
   ]
  },
  {
   "cell_type": "code",
   "execution_count": 13,
   "metadata": {
    "collapsed": true
   },
   "outputs": [],
   "source": [
    "dedupComplaints = complaints[u'Unique Key'].drop_duplicates()"
   ]
  },
  {
   "cell_type": "code",
   "execution_count": 14,
   "metadata": {
    "collapsed": false
   },
   "outputs": [
    {
     "name": "stdout",
     "output_type": "stream",
     "text": [
      "10187744\n",
      "10187766\n",
      "There are 22 duplicated values on complaints data\n"
     ]
    }
   ],
   "source": [
    "print(len(dedupComplaints))\n",
    "print(len(complaints))\n",
    "print(\"There are %d duplicated values on complaints data\" %(len(complaints) - len(dedupComplaints)))"
   ]
  },
  {
   "cell_type": "markdown",
   "metadata": {
    "collapsed": false
   },
   "source": [
    "#### What about missing values? Can you detect any patterns? "
   ]
  },
  {
   "cell_type": "markdown",
   "metadata": {},
   "source": [
    "There are some columns that has almost all missing values as Vehicle Type, Taxi Company Borough... these information may not apply to majority or simply are not collected by complaint takers. We also notice that there are some missing values on Closed Date, meaning that or there are pelnty of non closed cases or they don't follow up and update the system."
   ]
  },
  {
   "cell_type": "code",
   "execution_count": 15,
   "metadata": {
    "collapsed": false
   },
   "outputs": [
    {
     "data": {
      "text/plain": [
       "Unique Key                               0\n",
       "Created Date                             0\n",
       "Closed Date                         450879\n",
       "Agency                                   0\n",
       "Agency Name                              0\n",
       "Complaint Type                           0\n",
       "Descriptor                           31057\n",
       "Location Type                      3067596\n",
       "Incident Zip                        794159\n",
       "Incident Address                   2197706\n",
       "Street Name                        2198559\n",
       "Cross Street 1                     2375943\n",
       "Cross Street 2                     2425793\n",
       "Intersection Street 1              8345288\n",
       "Intersection Street 2              8346302\n",
       "Address Type                        490299\n",
       "City                                788712\n",
       "Landmark                          10180456\n",
       "Facility Type                      8579485\n",
       "Status                                   0\n",
       "Due Date                           7120286\n",
       "Resolution Description             3786751\n",
       "Resolution Action Updated Date      250934\n",
       "Community Board                          0\n",
       "Borough                                  0\n",
       "X Coordinate (State Plane)          878752\n",
       "Y Coordinate (State Plane)          878752\n",
       "Park Facility Name                       0\n",
       "Park Borough                             0\n",
       "School Name                              0\n",
       "School Number                         2283\n",
       "School Region                        56197\n",
       "School Code                          56196\n",
       "School Phone Number                      0\n",
       "School Address                           6\n",
       "School City                              0\n",
       "School State                             0\n",
       "School Zip                               5\n",
       "School Not Found                   7151698\n",
       "School or Citywide Complaint      10185412\n",
       "Vehicle Type                      10180264\n",
       "Taxi Company Borough              10177601\n",
       "Taxi Pick Up Location             10089207\n",
       "Bridge Highway Name               10152671\n",
       "Bridge Highway Direction          10152723\n",
       "Road Ramp                         10152986\n",
       "Bridge Highway Segment            10135780\n",
       "Garage Lot Name                   10183433\n",
       "Ferry Direction                   10185023\n",
       "Ferry Terminal Name               10181242\n",
       "Latitude                            878752\n",
       "Longitude                           878752\n",
       "Location                            878752\n",
       "dtype: int64"
      ]
     },
     "execution_count": 15,
     "metadata": {},
     "output_type": "execute_result"
    }
   ],
   "source": [
    "complaints.isnull().sum()"
   ]
  },
  {
   "cell_type": "markdown",
   "metadata": {
    "collapsed": true
   },
   "source": [
    "#### Data Editing: Is it possible to replace missing values? Is it possible to use Complaint Type to fill missings in Resolution Descriptor?"
   ]
  },
  {
   "cell_type": "markdown",
   "metadata": {},
   "source": [
    "- There are some fields that are not possible, because there is no way to imply the information using other fields, for example \"ferry terminal name\".\n",
    "- In the case of Resolution Description, in case of Missing values, it could be filled with Complaint Type information, as it give an idea of the complaint subject"
   ]
  },
  {
   "cell_type": "code",
   "execution_count": 16,
   "metadata": {
    "collapsed": false
   },
   "outputs": [
    {
     "data": {
      "text/plain": [
       "0                 Street Condition\n",
       "1            Opinion for the Mayor\n",
       "2    Root/Sewer/Sidewalk Condition\n",
       "3                  Illegal Parking\n",
       "4         Benefit Card Replacement\n",
       "5                Highway Condition\n",
       "6                    Agency Issues\n",
       "7               Noise - Commercial\n",
       "8               Noise - Commercial\n",
       "9               Noise - Commercial\n",
       "Name: Complaint Type, dtype: object"
      ]
     },
     "execution_count": 16,
     "metadata": {},
     "output_type": "execute_result"
    }
   ],
   "source": [
    "complaints['Complaint Type'][:10]"
   ]
  },
  {
   "cell_type": "code",
   "execution_count": 17,
   "metadata": {
    "collapsed": false
   },
   "outputs": [
    {
     "data": {
      "text/plain": [
       "0                                                  NaN\n",
       "1    Your comments have been submitted to the Mayor...\n",
       "2    The Department of Parks and Recreation usually...\n",
       "3    Your complaint has been received by the Police...\n",
       "4    The Human Resources Administration received yo...\n",
       "5    The Department of Transportation requires 10 d...\n",
       "6    Your comments have been submitted to the Depar...\n",
       "7    Your complaint has been forwarded to the New Y...\n",
       "8    The Police Department responded to the complai...\n",
       "9    The Police Department responded to the complai...\n",
       "Name: Resolution Description, dtype: object"
      ]
     },
     "execution_count": 17,
     "metadata": {},
     "output_type": "execute_result"
    }
   ],
   "source": [
    "complaints['Resolution Description'][:10]"
   ]
  },
  {
   "cell_type": "code",
   "execution_count": 18,
   "metadata": {
    "collapsed": false
   },
   "outputs": [
    {
     "data": {
      "text/plain": [
       "0                                     Street Condition\n",
       "1    Your comments have been submitted to the Mayor...\n",
       "2    The Department of Parks and Recreation usually...\n",
       "3    Your complaint has been received by the Police...\n",
       "4    The Human Resources Administration received yo...\n",
       "Name: Resolution Description, dtype: object"
      ]
     },
     "execution_count": 18,
     "metadata": {},
     "output_type": "execute_result"
    }
   ],
   "source": [
    "complaints['Resolution Description'] = complaints['Resolution Description'].fillna(complaints['Complaint Type'])\n",
    "complaints['Resolution Description'].head()"
   ]
  },
  {
   "cell_type": "markdown",
   "metadata": {
    "collapsed": false
   },
   "source": [
    "#### Generate marker for unplausible Community Districts\n",
    "#### How do these districts look like? "
   ]
  },
  {
   "cell_type": "markdown",
   "metadata": {},
   "source": [
    "The unplausible Community districts are those who has Unespecified in it's name. We created a column with value True to each unplausible row and False to pausibles. Let's clean this data and exclude the unplausible."
   ]
  },
  {
   "cell_type": "code",
   "execution_count": 19,
   "metadata": {
    "collapsed": true
   },
   "outputs": [],
   "source": [
    "complaints['Unplausible Marker'] = complaints['Community Board'].str.contains(\"Unspecified\")"
   ]
  },
  {
   "cell_type": "code",
   "execution_count": 20,
   "metadata": {
    "collapsed": false,
    "scrolled": true
   },
   "outputs": [
    {
     "data": {
      "text/plain": [
       "0    False\n",
       "1     True\n",
       "2    False\n",
       "3    False\n",
       "4     True\n",
       "Name: Unplausible Marker, dtype: bool"
      ]
     },
     "execution_count": 20,
     "metadata": {},
     "output_type": "execute_result"
    }
   ],
   "source": [
    "complaints['Unplausible Marker'].head()"
   ]
  },
  {
   "cell_type": "code",
   "execution_count": 21,
   "metadata": {
    "collapsed": false
   },
   "outputs": [],
   "source": [
    "complaints = complaints[(complaints['Unplausible Marker']==False)]"
   ]
  },
  {
   "cell_type": "markdown",
   "metadata": {
    "collapsed": true
   },
   "source": [
    "#### Drop the marked districts"
   ]
  },
  {
   "cell_type": "code",
   "execution_count": 185,
   "metadata": {
    "collapsed": false
   },
   "outputs": [
    {
     "data": {
      "text/plain": [
       "['01 BRONX',\n",
       " '01 BROOKLYN',\n",
       " '01 MANHATTAN',\n",
       " '01 QUEENS',\n",
       " '01 STATEN ISLAND',\n",
       " '02 BRONX',\n",
       " '02 BROOKLYN',\n",
       " '02 MANHATTAN',\n",
       " '02 QUEENS',\n",
       " '02 STATEN ISLAND',\n",
       " '03 BRONX',\n",
       " '03 BROOKLYN',\n",
       " '03 MANHATTAN',\n",
       " '03 QUEENS',\n",
       " '03 STATEN ISLAND',\n",
       " '04 BRONX',\n",
       " '04 BROOKLYN',\n",
       " '04 MANHATTAN',\n",
       " '04 QUEENS',\n",
       " '05 BRONX',\n",
       " '05 BROOKLYN',\n",
       " '05 MANHATTAN',\n",
       " '05 QUEENS',\n",
       " '06 BRONX',\n",
       " '06 BROOKLYN',\n",
       " '06 MANHATTAN',\n",
       " '06 QUEENS',\n",
       " '07 BRONX',\n",
       " '07 BROOKLYN',\n",
       " '07 MANHATTAN',\n",
       " '07 QUEENS',\n",
       " '08 BRONX',\n",
       " '08 BROOKLYN',\n",
       " '08 MANHATTAN',\n",
       " '08 QUEENS',\n",
       " '09 BRONX',\n",
       " '09 BROOKLYN',\n",
       " '09 MANHATTAN',\n",
       " '09 QUEENS',\n",
       " '10 BRONX',\n",
       " '10 BROOKLYN',\n",
       " '10 MANHATTAN',\n",
       " '10 QUEENS',\n",
       " '11 BRONX',\n",
       " '11 BROOKLYN',\n",
       " '11 MANHATTAN',\n",
       " '11 QUEENS',\n",
       " '12 BRONX',\n",
       " '12 BROOKLYN',\n",
       " '12 MANHATTAN',\n",
       " '12 QUEENS',\n",
       " '13 BROOKLYN',\n",
       " '13 QUEENS',\n",
       " '14 BROOKLYN',\n",
       " '14 QUEENS',\n",
       " '15 BROOKLYN',\n",
       " '16 BROOKLYN',\n",
       " '17 BROOKLYN',\n",
       " '18 BROOKLYN',\n",
       " '26 BRONX',\n",
       " '27 BRONX',\n",
       " '28 BRONX',\n",
       " '55 BROOKLYN',\n",
       " '56 BROOKLYN',\n",
       " '64 MANHATTAN',\n",
       " '80 QUEENS',\n",
       " '81 QUEENS',\n",
       " '82 QUEENS',\n",
       " '83 QUEENS',\n",
       " '84 QUEENS',\n",
       " '95 STATEN ISLAND']"
      ]
     },
     "execution_count": 185,
     "metadata": {},
     "output_type": "execute_result"
    }
   ],
   "source": [
    "unComDist = sorted(complaints[u'Community Board'].unique())\n",
    "unComDist"
   ]
  },
  {
   "cell_type": "markdown",
   "metadata": {
    "collapsed": true
   },
   "source": [
    "####  Produce your result: Generate an indicator which ranks the Community District by complaint numbers on the Community district level"
   ]
  },
  {
   "cell_type": "code",
   "execution_count": 187,
   "metadata": {
    "collapsed": false
   },
   "outputs": [],
   "source": [
    "rank = dict()\n",
    "for i in unComDist:\n",
    "    rank[i] = complaints['Community Board'].str.contains(i).sum()\n"
   ]
  },
  {
   "cell_type": "code",
   "execution_count": 188,
   "metadata": {
    "collapsed": false
   },
   "outputs": [
    {
     "data": {
      "text/plain": [
       "[('12 MANHATTAN', 268053),\n",
       " ('12 QUEENS', 229383),\n",
       " ('03 BROOKLYN', 197306),\n",
       " ('07 QUEENS', 195961),\n",
       " ('17 BROOKLYN', 191720),\n",
       " ('05 BROOKLYN', 189765),\n",
       " ('14 BROOKLYN', 187794),\n",
       " ('07 BRONX', 185729),\n",
       " ('01 BROOKLYN', 185057),\n",
       " ('01 STATEN ISLAND', 182713),\n",
       " ('04 BRONX', 181953),\n",
       " ('01 QUEENS', 171484),\n",
       " ('05 QUEENS', 168570),\n",
       " ('12 BRONX', 168455),\n",
       " ('13 QUEENS', 163851),\n",
       " ('05 BRONX', 161078),\n",
       " ('18 BROOKLYN', 156100),\n",
       " ('07 MANHATTAN', 151419),\n",
       " ('09 QUEENS', 151242),\n",
       " ('12 BROOKLYN', 150320),\n",
       " ('03 MANHATTAN', 150296),\n",
       " ('08 MANHATTAN', 149076),\n",
       " ('09 BRONX', 147457),\n",
       " ('15 BROOKLYN', 146129),\n",
       " ('05 MANHATTAN', 142028),\n",
       " ('08 BROOKLYN', 141119),\n",
       " ('11 BROOKLYN', 139890),\n",
       " ('04 BROOKLYN', 139706),\n",
       " ('10 MANHATTAN', 137344),\n",
       " ('03 STATEN ISLAND', 136487),\n",
       " ('09 BROOKLYN', 135833),\n",
       " ('02 MANHATTAN', 133860),\n",
       " ('04 MANHATTAN', 132660),\n",
       " ('10 QUEENS', 128116),\n",
       " ('09 MANHATTAN', 127565),\n",
       " ('08 QUEENS', 123131),\n",
       " ('11 BRONX', 122081),\n",
       " ('03 QUEENS', 122009),\n",
       " ('02 STATEN ISLAND', 121132),\n",
       " ('02 BROOKLYN', 121022),\n",
       " ('02 QUEENS', 114333),\n",
       " ('06 BROOKLYN', 114029),\n",
       " ('10 BROOKLYN', 111837),\n",
       " ('07 BROOKLYN', 107031),\n",
       " ('06 MANHATTAN', 104249),\n",
       " ('14 QUEENS', 103396),\n",
       " ('11 QUEENS', 101908),\n",
       " ('06 BRONX', 99547),\n",
       " ('04 QUEENS', 99316),\n",
       " ('10 BRONX', 95496),\n",
       " ('11 MANHATTAN', 95413),\n",
       " ('08 BRONX', 92733),\n",
       " ('06 QUEENS', 90938),\n",
       " ('16 BROOKLYN', 85467),\n",
       " ('01 MANHATTAN', 77974),\n",
       " ('03 BRONX', 75134),\n",
       " ('01 BRONX', 74631),\n",
       " ('13 BROOKLYN', 72362),\n",
       " ('02 BRONX', 60257),\n",
       " ('83 QUEENS', 3072),\n",
       " ('80 QUEENS', 2363),\n",
       " ('81 QUEENS', 1420),\n",
       " ('64 MANHATTAN', 904),\n",
       " ('56 BROOKLYN', 834),\n",
       " ('55 BROOKLYN', 767),\n",
       " ('82 QUEENS', 725),\n",
       " ('95 STATEN ISLAND', 531),\n",
       " ('27 BRONX', 469),\n",
       " ('28 BRONX', 433),\n",
       " ('26 BRONX', 397),\n",
       " ('84 QUEENS', 274)]"
      ]
     },
     "execution_count": 188,
     "metadata": {},
     "output_type": "execute_result"
    }
   ],
   "source": [
    "import operator\n",
    "sortedRank = sorted(rank.items(), key=operator.itemgetter(1), reverse=True)\n",
    "sortedRank"
   ]
  },
  {
   "cell_type": "code",
   "execution_count": 196,
   "metadata": {
    "collapsed": false
   },
   "outputs": [
    {
     "data": {
      "text/html": [
       "<div>\n",
       "<table border=\"1\" class=\"dataframe\">\n",
       "  <thead>\n",
       "    <tr style=\"text-align: right;\">\n",
       "      <th></th>\n",
       "      <th>Community Districts</th>\n",
       "      <th>Complaints</th>\n",
       "    </tr>\n",
       "  </thead>\n",
       "  <tbody>\n",
       "    <tr>\n",
       "      <th>0</th>\n",
       "      <td>12 MANHATTAN</td>\n",
       "      <td>268053</td>\n",
       "    </tr>\n",
       "    <tr>\n",
       "      <th>1</th>\n",
       "      <td>12 QUEENS</td>\n",
       "      <td>229383</td>\n",
       "    </tr>\n",
       "    <tr>\n",
       "      <th>2</th>\n",
       "      <td>03 BROOKLYN</td>\n",
       "      <td>197306</td>\n",
       "    </tr>\n",
       "    <tr>\n",
       "      <th>3</th>\n",
       "      <td>07 QUEENS</td>\n",
       "      <td>195961</td>\n",
       "    </tr>\n",
       "    <tr>\n",
       "      <th>4</th>\n",
       "      <td>17 BROOKLYN</td>\n",
       "      <td>191720</td>\n",
       "    </tr>\n",
       "  </tbody>\n",
       "</table>\n",
       "</div>"
      ],
      "text/plain": [
       "  Community Districts  Complaints\n",
       "0        12 MANHATTAN      268053\n",
       "1           12 QUEENS      229383\n",
       "2         03 BROOKLYN      197306\n",
       "3           07 QUEENS      195961\n",
       "4         17 BROOKLYN      191720"
      ]
     },
     "execution_count": 196,
     "metadata": {},
     "output_type": "execute_result"
    }
   ],
   "source": [
    "df_rank = pd.DataFrame(sortedRank)\n",
    "df_rank.columns = ['Community Districts', 'Complaints']\n",
    "df_rank.head()"
   ]
  },
  {
   "cell_type": "code",
   "execution_count": 78,
   "metadata": {
    "collapsed": false
   },
   "outputs": [
    {
     "name": "stdout",
     "output_type": "stream",
     "text": [
      "There are 55 community districts in file\n"
     ]
    }
   ],
   "source": [
    "print('There are %d community districts in file' %(len(df_infr['Qualifying Name'].unique())))"
   ]
  },
  {
   "cell_type": "code",
   "execution_count": 50,
   "metadata": {
    "collapsed": false
   },
   "outputs": [
    {
     "name": "stdout",
     "output_type": "stream",
     "text": [
      "The top 10 complaints Community Districts\n",
      "The 1 in complaints Community Districts is: 12 MANHATTAN with 268053 complaints\n",
      "The 2 in complaints Community Districts is: 12 QUEENS with 229383 complaints\n",
      "The 3 in complaints Community Districts is: 03 BROOKLYN with 197306 complaints\n",
      "The 4 in complaints Community Districts is: 07 QUEENS with 195961 complaints\n",
      "The 5 in complaints Community Districts is: 17 BROOKLYN with 191720 complaints\n",
      "The 6 in complaints Community Districts is: 05 BROOKLYN with 189765 complaints\n",
      "The 7 in complaints Community Districts is: 14 BROOKLYN with 187794 complaints\n",
      "The 8 in complaints Community Districts is: 07 BRONX with 185729 complaints\n",
      "The 9 in complaints Community Districts is: 01 BROOKLYN with 185057 complaints\n",
      "The 10 in complaints Community Districts is: 01 STATEN ISLAND with 182713 complaints\n"
     ]
    }
   ],
   "source": [
    "print ('The top 10 complaints Community Districts')\n",
    "for i in range(0, 10):\n",
    "    print ('The %d in complaints Community Districts is: %s with %d complaints' %(i+1, sortedRank[i][0], sortedRank[i][1]))"
   ]
  },
  {
   "cell_type": "markdown",
   "metadata": {},
   "source": [
    "# 4. Think about the interpretation of your results?\n",
    "What do you have to keep in mind when interpreting your results? Are they generable? Does the way the data is collected influence your results? To better inform city agancies it might be good to explore in more detail the underlying dempgraphics/infrastructure of a Community District becasue this might influence 311 calls. You can do this by merging external data on the Community District level to your analysis data. "
   ]
  },
  {
   "cell_type": "code",
   "execution_count": 51,
   "metadata": {
    "collapsed": false
   },
   "outputs": [],
   "source": [
    "# Population by Community District\n",
    "df_pop = pd.read_csv(PUIdata + \"/Final_Demographics.csv\")"
   ]
  },
  {
   "cell_type": "code",
   "execution_count": 52,
   "metadata": {
    "collapsed": false
   },
   "outputs": [
    {
     "data": {
      "text/html": [
       "<div>\n",
       "<table border=\"1\" class=\"dataframe\">\n",
       "  <thead>\n",
       "    <tr style=\"text-align: right;\">\n",
       "      <th></th>\n",
       "      <th>FIPS</th>\n",
       "      <th>cd_id</th>\n",
       "      <th>Total Population</th>\n",
       "      <th>Population Density (per sq. mile)</th>\n",
       "      <th>% Total Population: Male</th>\n",
       "      <th>% Total Population: 18 to 24 Years</th>\n",
       "      <th>% Total Population: 25 to 34 Years</th>\n",
       "      <th>% Total Population: 35 to 44 Years</th>\n",
       "      <th>% Population 5 Years And Over: Speak Only English</th>\n",
       "      <th>% Population 5 Years And Over: Spanish or Spanish Creole</th>\n",
       "      <th>...</th>\n",
       "      <th>Employed Civilian Population 16 Years And Over: Production, transportation, and material moving  occupations: Production occupations</th>\n",
       "      <th>Employed Civilian Population 16 Years And Over: Production, transportation, and material moving  occupations: Transportation and material moving occupations</th>\n",
       "      <th>% Employed Civilian Population 16 Years And Over: Management, professional, and related occupations</th>\n",
       "      <th>% Employed Civilian Population 16 Years And Over: Service occupations</th>\n",
       "      <th>% Employed Civilian Population 16 Years And Over: Sales and office occupations</th>\n",
       "      <th>% Employed Civilian Population 16 Years And Over: Farming, fishing, and forestry occupations</th>\n",
       "      <th>% Employed Civilian Population 16 Years And Over: Construction, extraction, and maintenance  occupations</th>\n",
       "      <th>% Employed Civilian Population 16 Years And Over: Production, transportation, and material moving  occupations</th>\n",
       "      <th>% Employed Civilian Population 16 Years And Over: Production, transportation, and material moving  occupations: Production occupations</th>\n",
       "      <th>% Employed Civilian Population 16 Years And Over: Production, transportation, and material moving  occupations: Transportation and material moving occupations</th>\n",
       "    </tr>\n",
       "  </thead>\n",
       "  <tbody>\n",
       "    <tr>\n",
       "      <th>0</th>\n",
       "      <td>3603701</td>\n",
       "      <td>BX08</td>\n",
       "      <td>106737</td>\n",
       "      <td>31229.95006</td>\n",
       "      <td>46.65</td>\n",
       "      <td>10.73</td>\n",
       "      <td>15.04</td>\n",
       "      <td>11.32</td>\n",
       "      <td>46.80</td>\n",
       "      <td>39.24</td>\n",
       "      <td>...</td>\n",
       "      <td>665</td>\n",
       "      <td>1518</td>\n",
       "      <td>42.66</td>\n",
       "      <td>28.95</td>\n",
       "      <td>20.89</td>\n",
       "      <td>0.24</td>\n",
       "      <td>2.65</td>\n",
       "      <td>4.60</td>\n",
       "      <td>1.40</td>\n",
       "      <td>3.20</td>\n",
       "    </tr>\n",
       "    <tr>\n",
       "      <th>1</th>\n",
       "      <td>3603702</td>\n",
       "      <td>BX12</td>\n",
       "      <td>134644</td>\n",
       "      <td>19966.67839</td>\n",
       "      <td>46.35</td>\n",
       "      <td>11.35</td>\n",
       "      <td>14.29</td>\n",
       "      <td>12.57</td>\n",
       "      <td>73.09</td>\n",
       "      <td>18.19</td>\n",
       "      <td>...</td>\n",
       "      <td>1156</td>\n",
       "      <td>4174</td>\n",
       "      <td>29.57</td>\n",
       "      <td>33.98</td>\n",
       "      <td>20.40</td>\n",
       "      <td>0.00</td>\n",
       "      <td>7.08</td>\n",
       "      <td>8.97</td>\n",
       "      <td>1.95</td>\n",
       "      <td>7.02</td>\n",
       "    </tr>\n",
       "    <tr>\n",
       "      <th>2</th>\n",
       "      <td>3603703</td>\n",
       "      <td>BX10</td>\n",
       "      <td>121209</td>\n",
       "      <td>12913.81703</td>\n",
       "      <td>45.20</td>\n",
       "      <td>8.62</td>\n",
       "      <td>13.74</td>\n",
       "      <td>12.78</td>\n",
       "      <td>61.79</td>\n",
       "      <td>26.43</td>\n",
       "      <td>...</td>\n",
       "      <td>941</td>\n",
       "      <td>3433</td>\n",
       "      <td>36.20</td>\n",
       "      <td>22.85</td>\n",
       "      <td>25.09</td>\n",
       "      <td>0.00</td>\n",
       "      <td>7.68</td>\n",
       "      <td>8.18</td>\n",
       "      <td>1.76</td>\n",
       "      <td>6.42</td>\n",
       "    </tr>\n",
       "    <tr>\n",
       "      <th>3</th>\n",
       "      <td>3603704</td>\n",
       "      <td>BX11</td>\n",
       "      <td>135839</td>\n",
       "      <td>35677.95453</td>\n",
       "      <td>50.09</td>\n",
       "      <td>8.10</td>\n",
       "      <td>17.43</td>\n",
       "      <td>14.09</td>\n",
       "      <td>43.22</td>\n",
       "      <td>36.45</td>\n",
       "      <td>...</td>\n",
       "      <td>2189</td>\n",
       "      <td>5592</td>\n",
       "      <td>30.06</td>\n",
       "      <td>27.86</td>\n",
       "      <td>22.24</td>\n",
       "      <td>0.00</td>\n",
       "      <td>7.03</td>\n",
       "      <td>12.81</td>\n",
       "      <td>3.60</td>\n",
       "      <td>9.20</td>\n",
       "    </tr>\n",
       "    <tr>\n",
       "      <th>4</th>\n",
       "      <td>3603705</td>\n",
       "      <td>BX03</td>\n",
       "      <td>172247</td>\n",
       "      <td>39405.79222</td>\n",
       "      <td>44.72</td>\n",
       "      <td>14.24</td>\n",
       "      <td>14.89</td>\n",
       "      <td>12.38</td>\n",
       "      <td>36.82</td>\n",
       "      <td>54.24</td>\n",
       "      <td>...</td>\n",
       "      <td>1437</td>\n",
       "      <td>5436</td>\n",
       "      <td>16.80</td>\n",
       "      <td>41.00</td>\n",
       "      <td>22.29</td>\n",
       "      <td>0.03</td>\n",
       "      <td>8.45</td>\n",
       "      <td>11.43</td>\n",
       "      <td>2.39</td>\n",
       "      <td>9.04</td>\n",
       "    </tr>\n",
       "  </tbody>\n",
       "</table>\n",
       "<p>5 rows × 158 columns</p>\n",
       "</div>"
      ],
      "text/plain": [
       "      FIPS cd_id  Total Population  Population Density (per sq. mile)  \\\n",
       "0  3603701  BX08            106737                        31229.95006   \n",
       "1  3603702  BX12            134644                        19966.67839   \n",
       "2  3603703  BX10            121209                        12913.81703   \n",
       "3  3603704  BX11            135839                        35677.95453   \n",
       "4  3603705  BX03            172247                        39405.79222   \n",
       "\n",
       "   % Total Population: Male  % Total Population: 18 to 24 Years  \\\n",
       "0                     46.65                               10.73   \n",
       "1                     46.35                               11.35   \n",
       "2                     45.20                                8.62   \n",
       "3                     50.09                                8.10   \n",
       "4                     44.72                               14.24   \n",
       "\n",
       "   % Total Population: 25 to 34 Years  % Total Population: 35 to 44 Years  \\\n",
       "0                               15.04                               11.32   \n",
       "1                               14.29                               12.57   \n",
       "2                               13.74                               12.78   \n",
       "3                               17.43                               14.09   \n",
       "4                               14.89                               12.38   \n",
       "\n",
       "   % Population 5 Years And Over: Speak Only English  \\\n",
       "0                                              46.80   \n",
       "1                                              73.09   \n",
       "2                                              61.79   \n",
       "3                                              43.22   \n",
       "4                                              36.82   \n",
       "\n",
       "   % Population 5 Years And Over: Spanish or Spanish Creole  \\\n",
       "0                                              39.24          \n",
       "1                                              18.19          \n",
       "2                                              26.43          \n",
       "3                                              36.45          \n",
       "4                                              54.24          \n",
       "\n",
       "                                                                                ...                                                                                \\\n",
       "0                                                                               ...                                                                                 \n",
       "1                                                                               ...                                                                                 \n",
       "2                                                                               ...                                                                                 \n",
       "3                                                                               ...                                                                                 \n",
       "4                                                                               ...                                                                                 \n",
       "\n",
       "   Employed Civilian Population 16 Years And Over: Production, transportation, and material moving  occupations: Production occupations  \\\n",
       "0                                                665                                                                                      \n",
       "1                                               1156                                                                                      \n",
       "2                                                941                                                                                      \n",
       "3                                               2189                                                                                      \n",
       "4                                               1437                                                                                      \n",
       "\n",
       "   Employed Civilian Population 16 Years And Over: Production, transportation, and material moving  occupations: Transportation and material moving occupations  \\\n",
       "0                                               1518                                                                                                              \n",
       "1                                               4174                                                                                                              \n",
       "2                                               3433                                                                                                              \n",
       "3                                               5592                                                                                                              \n",
       "4                                               5436                                                                                                              \n",
       "\n",
       "   % Employed Civilian Population 16 Years And Over: Management, professional, and related occupations  \\\n",
       "0                                              42.66                                                     \n",
       "1                                              29.57                                                     \n",
       "2                                              36.20                                                     \n",
       "3                                              30.06                                                     \n",
       "4                                              16.80                                                     \n",
       "\n",
       "   % Employed Civilian Population 16 Years And Over: Service occupations  \\\n",
       "0                                              28.95                       \n",
       "1                                              33.98                       \n",
       "2                                              22.85                       \n",
       "3                                              27.86                       \n",
       "4                                              41.00                       \n",
       "\n",
       "   % Employed Civilian Population 16 Years And Over: Sales and office occupations  \\\n",
       "0                                              20.89                                \n",
       "1                                              20.40                                \n",
       "2                                              25.09                                \n",
       "3                                              22.24                                \n",
       "4                                              22.29                                \n",
       "\n",
       "   % Employed Civilian Population 16 Years And Over: Farming, fishing, and forestry occupations  \\\n",
       "0                                               0.24                                              \n",
       "1                                               0.00                                              \n",
       "2                                               0.00                                              \n",
       "3                                               0.00                                              \n",
       "4                                               0.03                                              \n",
       "\n",
       "   % Employed Civilian Population 16 Years And Over: Construction, extraction, and maintenance  occupations  \\\n",
       "0                                               2.65                                                          \n",
       "1                                               7.08                                                          \n",
       "2                                               7.68                                                          \n",
       "3                                               7.03                                                          \n",
       "4                                               8.45                                                          \n",
       "\n",
       "   % Employed Civilian Population 16 Years And Over: Production, transportation, and material moving  occupations  \\\n",
       "0                                               4.60                                                                \n",
       "1                                               8.97                                                                \n",
       "2                                               8.18                                                                \n",
       "3                                              12.81                                                                \n",
       "4                                              11.43                                                                \n",
       "\n",
       "   % Employed Civilian Population 16 Years And Over: Production, transportation, and material moving  occupations: Production occupations  \\\n",
       "0                                               1.40                                                                                        \n",
       "1                                               1.95                                                                                        \n",
       "2                                               1.76                                                                                        \n",
       "3                                               3.60                                                                                        \n",
       "4                                               2.39                                                                                        \n",
       "\n",
       "   % Employed Civilian Population 16 Years And Over: Production, transportation, and material moving  occupations: Transportation and material moving occupations  \n",
       "0                                               3.20                                                                                                               \n",
       "1                                               7.02                                                                                                               \n",
       "2                                               6.42                                                                                                               \n",
       "3                                               9.20                                                                                                               \n",
       "4                                               9.04                                                                                                               \n",
       "\n",
       "[5 rows x 158 columns]"
      ]
     },
     "execution_count": 52,
     "metadata": {},
     "output_type": "execute_result"
    }
   ],
   "source": [
    "df_pop.head()"
   ]
  },
  {
   "cell_type": "markdown",
   "metadata": {
    "collapsed": false
   },
   "source": [
    "#### Check variables in file"
   ]
  },
  {
   "cell_type": "code",
   "execution_count": 81,
   "metadata": {
    "collapsed": false,
    "scrolled": false
   },
   "outputs": [
    {
     "data": {
      "text/plain": [
       "Index([u'FIPS', u'cd_id', u'Total Population',\n",
       "       u'Population Density (per sq. mile)', u'% Total Population: Male',\n",
       "       u'% Total Population: 18 to 24 Years',\n",
       "       u'% Total Population: 25 to 34 Years',\n",
       "       u'% Total Population: 35 to 44 Years',\n",
       "       u'% Population 5 Years And Over: Speak Only English',\n",
       "       u'% Population 5 Years And Over: Spanish or Spanish Creole',\n",
       "       u'% Population 5 Years And Over: Spanish or Spanish Creole: Speak English \"very Well\"',\n",
       "       u'% Population 5 Years And Over: Spanish or Spanish Creole: Speak English Less Than \"very Well\"',\n",
       "       u'Population 25 Years and over:',\n",
       "       u'Population 25 Years and over: Less Than High School',\n",
       "       u'Population 25 Years and over: High School Graduate (includes equivalency)',\n",
       "       u'Population 25 Years and over: Some college',\n",
       "       u'Population 25 Years and over: Bachelor's degree',\n",
       "       u'Population 25 Years and over: Master's degree',\n",
       "       u'Population 25 Years and over: Professional school degree',\n",
       "       u'Population 25 Years and over: Doctorate degree',\n",
       "       u'% Population 25 Years and over: Less Than High School',\n",
       "       u'% Population 25 Years and over: High School Graduate (includes equivalency)',\n",
       "       u'% Population 25 Years and over: Some college',\n",
       "       u'% Population 25 Years and over: Bachelor's degree',\n",
       "       u'% Population 25 Years and over: Master's degree',\n",
       "       u'% Population 25 Years and over: Professional school degree',\n",
       "       u'% Population 25 Years and over: Doctorate degree',\n",
       "       u'Population 25 Years and over:.1',\n",
       "       u'Population 25 Years and over: Less Than High School.1',\n",
       "       u'Population 25 Years and over: High School Graduate or more (includes equivalency)',\n",
       "       u'Population 25 Years and over: Some college or more',\n",
       "       u'Population 25 Years and over: Bachelor's degree or more',\n",
       "       u'Population 25 Years and over: Master's degree or more',\n",
       "       u'Population 25 Years and over: Professional school degree or more',\n",
       "       u'Population 25 Years and over: Doctorate degree.1',\n",
       "       u'% Population 25 Years and over: Less Than High School.1',\n",
       "       u'% Population 25 Years and over: High School Graduate or more (includes equivalency)',\n",
       "       u'% Population 25 Years and over: Some college or more',\n",
       "       u'% Population 25 Years and over: Bachelor's degree or more',\n",
       "       u'% Population 25 Years and over: Master's degree or more',\n",
       "       u'% Population 25 Years and over: Professional school degree or more',\n",
       "       u'% Population 25 Years and over: Doctorate degree.1',\n",
       "       u'Population 3 Years and over:',\n",
       "       u'Population 3 Years and over: Enrolled in School',\n",
       "       u'Population 3 Years and over: Not Enrolled in School',\n",
       "       u'% Population 3 Years and over: Enrolled in School',\n",
       "       u'% Population 3 Years and over: Not Enrolled in School',\n",
       "       u'Population 3 Years and over Enrolled In School',\n",
       "       u'Population 3 Years and over Enrolled In School: Public School',\n",
       "       u'Population 3 Years and over Enrolled In School: Public School: Pre-school',\n",
       "       u'Population 3 Years and over Enrolled In School: Public School: K-8',\n",
       "       u'Population 3 Years and over Enrolled In School: Public School: 9-12',\n",
       "       u'Population 3 Years and over Enrolled In School: Public School: College',\n",
       "       u'Population 3 Years and over Enrolled In School: Private School',\n",
       "       u'Population 3 Years and over Enrolled In School: Private School: Pre-school',\n",
       "       u'Population 3 Years and over Enrolled In School: Private School: K-8',\n",
       "       u'Population 3 Years and over Enrolled In School: Private School: 9-12',\n",
       "       u'Population 3 Years and over Enrolled In School: Private School: College',\n",
       "       u'% Population 3 Years and over Enrolled In School: Public School',\n",
       "       u'% Population 3 Years and over Enrolled In School: Public School: Pre-school',\n",
       "       u'% Population 3 Years and over Enrolled In School: Public School: K-8',\n",
       "       u'% Population 3 Years and over Enrolled In School: Public School: 9-12',\n",
       "       u'% Population 3 Years and over Enrolled In School: Public School: College',\n",
       "       u'% Population 3 Years and over Enrolled In School: Private School',\n",
       "       u'% Population 3 Years and over Enrolled In School: Private School: Pre-school',\n",
       "       u'% Population 3 Years and over Enrolled In School: Private School: K-8',\n",
       "       u'% Population 3 Years and over Enrolled In School: Private School: 9-12',\n",
       "       u'% Population 3 Years and over Enrolled In School: Private School: College',\n",
       "       u'Employed civilian Population 16 Years and over:',\n",
       "       u'Employed civilian Population 16 Years and over: Management, business, and financial operations  occupations',\n",
       "       u'Employed civilian Population 16 Years and over: Professional and related occupations',\n",
       "       u'Employed civilian Population 16 Years and over: Healthcare support occupations',\n",
       "       u'Employed civilian Population 16 Years and over: Protective service occupations',\n",
       "       u'Employed civilian Population 16 Years and over: Food preparation and serving related occupations',\n",
       "       u'Employed civilian Population 16 Years and over: Building and grounds cleaning and maintenance  occupations'],\n",
       "      dtype='object')"
      ]
     },
     "execution_count": 81,
     "metadata": {},
     "output_type": "execute_result"
    }
   ],
   "source": [
    "df_pop.columns[0:75]"
   ]
  },
  {
   "cell_type": "code",
   "execution_count": 82,
   "metadata": {
    "collapsed": false
   },
   "outputs": [
    {
     "data": {
      "text/plain": [
       "Index([u'Employed civilian Population 16 Years and over: Personal care and service occupations',\n",
       "       u'Employed civilian Population 16 Years and over: Sales and related occupations',\n",
       "       u'Employed civilian Population 16 Years and over: Office and administrative support occupations',\n",
       "       u'Employed civilian Population 16 Years and over: Farming, fishing, and forestry occupations',\n",
       "       u'Employed civilian Population 16 Years and over: Construction, extraction, and maintenance  occupations',\n",
       "       u'Employed civilian Population 16 Years and over: Production occupations',\n",
       "       u'Employed civilian Population 16 Years and over: Transportation and material moving occupations',\n",
       "       u'% Employed civilian Population 16 Years and over: Management, business, and financial operations  occupations',\n",
       "       u'% Employed civilian Population 16 Years and over: Professional and related occupations',\n",
       "       u'% Employed civilian Population 16 Years and over: Healthcare support occupations',\n",
       "       u'% Employed civilian Population 16 Years and over: Protective service occupations',\n",
       "       u'% Employed civilian Population 16 Years and over: Food preparation and serving related occupations',\n",
       "       u'% Employed civilian Population 16 Years and over: Building and grounds cleaning and maintenance  occupations',\n",
       "       u'% Employed civilian Population 16 Years and over: Personal care and service occupations',\n",
       "       u'% Employed civilian Population 16 Years and over: Sales and related occupations',\n",
       "       u'% Employed civilian Population 16 Years and over: Office and administrative support occupations',\n",
       "       u'% Employed civilian Population 16 Years and over: Farming, fishing, and forestry occupations',\n",
       "       u'% Employed civilian Population 16 Years and over: Construction, extraction, and maintenance  occupations',\n",
       "       u'% Employed civilian Population 16 Years and over: Production occupations',\n",
       "       u'% Employed civilian Population 16 Years and over: Transportation and material moving occupations',\n",
       "       u'Employed Civilian Population 16 Years And Over:',\n",
       "       u'Employed Civilian Population 16 Years And Over: Private Sector',\n",
       "       u'Employed Civilian Population 16 Years And Over: Public Sector',\n",
       "       u'Employed Civilian Population 16 Years And Over: Self-Employed (incorporated and not incorporated)',\n",
       "       u'Employed Civilian Population 16 Years And Over: Private Non-Profit',\n",
       "       u'Employed Civilian Population 16 Years And Over: Unpaid Family Workers',\n",
       "       u'% Employed Civilian Population 16 Years And Over: Private Sector',\n",
       "       u'% Employed Civilian Population 16 Years And Over: Public Sector',\n",
       "       u'% Employed Civilian Population 16 Years And Over: Self-Employed (incorporated and not incorporated)',\n",
       "       u'% Employed Civilian Population 16 Years And Over: Private Non-Profit',\n",
       "       u'% Employed Civilian Population 16 Years And Over: Unpaid Family Workers',\n",
       "       u'Households:', u'Households: Less than $10,000',\n",
       "       u'Households: $10,000 to $14,999', u'Households: $15,000 to $19,999',\n",
       "       u'Households: $20,000 to $24,999', u'Households: $25,000 to $29,999',\n",
       "       u'Households: $30,000 to $34,999', u'Households: $35,000 to $39,999',\n",
       "       u'Households: $40,000 to $44,999', u'Households: $45,000 to $49,999',\n",
       "       u'Households: $50,000 to $59,999', u'Households: $60,000 to $74,999',\n",
       "       u'Households: $75,000 to $99,999', u'Households: $100,000 to $124,999',\n",
       "       u'Households: $125,000 to $149,999',\n",
       "       u'Households: $150,000 to $199,999', u'Households: $200,000 or More',\n",
       "       u'% Households: Less than $10,000', u'% Households: $10,000 to $14,999',\n",
       "       u'% Households: $15,000 to $19,999',\n",
       "       u'% Households: $20,000 to $24,999',\n",
       "       u'% Households: $25,000 to $29,999',\n",
       "       u'% Households: $30,000 to $34,999',\n",
       "       u'% Households: $35,000 to $39,999',\n",
       "       u'% Households: $40,000 to $44,999',\n",
       "       u'% Households: $45,000 to $49,999',\n",
       "       u'% Households: $50,000 to $59,999',\n",
       "       u'% Households: $60,000 to $74,999',\n",
       "       u'% Households: $75,000 to $99,999',\n",
       "       u'% Households: $100,000 to $124,999',\n",
       "       u'% Households: $125,000 to $149,999',\n",
       "       u'% Households: $150,000 to $199,999',\n",
       "       u'% Households: $200,000 or More',\n",
       "       u'Median household income (In 2014 Inflation Adjusted Dollars)',\n",
       "       u'Per capita income (In 2014 Inflation Adjusted Dollars)',\n",
       "       u'Employed Civilian Population 16 Years And Over:.1',\n",
       "       u'Employed Civilian Population 16 Years And Over: Management, professional, and related occupations',\n",
       "       u'Employed Civilian Population 16 Years And Over: Service occupations',\n",
       "       u'Employed Civilian Population 16 Years And Over: Sales and office occupations',\n",
       "       u'Employed Civilian Population 16 Years And Over: Farming, fishing, and forestry occupations',\n",
       "       u'Employed Civilian Population 16 Years And Over: Construction, extraction, and maintenance  occupations',\n",
       "       u'Employed Civilian Population 16 Years And Over: Production, transportation, and material moving  occupations',\n",
       "       u'Employed Civilian Population 16 Years And Over: Production, transportation, and material moving  occupations: Production occupations',\n",
       "       u'Employed Civilian Population 16 Years And Over: Production, transportation, and material moving  occupations: Transportation and material moving occupations',\n",
       "       u'% Employed Civilian Population 16 Years And Over: Management, professional, and related occupations',\n",
       "       u'% Employed Civilian Population 16 Years And Over: Service occupations',\n",
       "       u'% Employed Civilian Population 16 Years And Over: Sales and office occupations',\n",
       "       u'% Employed Civilian Population 16 Years And Over: Farming, fishing, and forestry occupations',\n",
       "       u'% Employed Civilian Population 16 Years And Over: Construction, extraction, and maintenance  occupations',\n",
       "       u'% Employed Civilian Population 16 Years And Over: Production, transportation, and material moving  occupations',\n",
       "       u'% Employed Civilian Population 16 Years And Over: Production, transportation, and material moving  occupations: Production occupations',\n",
       "       u'% Employed Civilian Population 16 Years And Over: Production, transportation, and material moving  occupations: Transportation and material moving occupations'],\n",
       "      dtype='object')"
      ]
     },
     "execution_count": 82,
     "metadata": {},
     "output_type": "execute_result"
    }
   ],
   "source": [
    "df_pop.columns[75:]"
   ]
  },
  {
   "cell_type": "markdown",
   "metadata": {
    "collapsed": false
   },
   "source": [
    "#### How many community districts are in file? "
   ]
  },
  {
   "cell_type": "code",
   "execution_count": 69,
   "metadata": {
    "collapsed": false,
    "scrolled": true
   },
   "outputs": [
    {
     "data": {
      "text/plain": [
       "array(['BX08', 'BX12', 'BX10', 'BX11', 'BX03', 'BX06', 'BX07', 'BX05',\n",
       "       'BX04', 'BX09', 'BX01', 'BX02', 'MN12', 'MN09', 'MN10', 'MN11111',\n",
       "       'MN08', 'MN07', 'MN05', 'MN04', 'MN06', 'MN03', 'MN01', 'MN02',\n",
       "       'SI03', 'SI02', 'SI01', 'BK01', 'BK04', 'BK03', 'BK02', 'BK06',\n",
       "       'BK08', 'BK16', 'BK05', 'BK18', 'BK17', 'BK09', 'BK07', 'BK10',\n",
       "       'BK12', 'BK14', 'BK15', 'BK11', 'BK13', 'QN01', 'QN03', 'QN07',\n",
       "       'QN11', 'QN13', 'QN08', 'QN04', 'QN06', 'QN02', 'QN05', 'QN09',\n",
       "       'QN12', 'QN10', 'QN14'], dtype=object)"
      ]
     },
     "execution_count": 69,
     "metadata": {},
     "output_type": "execute_result"
    }
   ],
   "source": [
    "df_pop['cd_id'].unique()"
   ]
  },
  {
   "cell_type": "code",
   "execution_count": 70,
   "metadata": {
    "collapsed": false
   },
   "outputs": [
    {
     "name": "stdout",
     "output_type": "stream",
     "text": [
      "There are 59 community districts in file\n"
     ]
    }
   ],
   "source": [
    "print('There are %d community districts in file' %(len(df_pop['cd_id'].unique())))"
   ]
  },
  {
   "cell_type": "markdown",
   "metadata": {
    "collapsed": true
   },
   "source": [
    "#### Manipulate data to get some information on demographics by Community District. \n",
    "#### Think about who might be more likely to call 311"
   ]
  },
  {
   "cell_type": "markdown",
   "metadata": {},
   "source": [
    "This excerpt show the total population and population density. Probably a High population or high population density are likely to complain more due to high probability (more people) or because on a dense neighborhood there are more interaction, more problems and more complaints."
   ]
  },
  {
   "cell_type": "code",
   "execution_count": 193,
   "metadata": {
    "collapsed": false
   },
   "outputs": [
    {
     "data": {
      "text/html": [
       "<div>\n",
       "<table border=\"1\" class=\"dataframe\">\n",
       "  <thead>\n",
       "    <tr style=\"text-align: right;\">\n",
       "      <th></th>\n",
       "      <th>FIPS</th>\n",
       "      <th>cd_id</th>\n",
       "      <th>Total Population</th>\n",
       "      <th>Population Density (per sq. mile)</th>\n",
       "    </tr>\n",
       "  </thead>\n",
       "  <tbody>\n",
       "    <tr>\n",
       "      <th>0</th>\n",
       "      <td>3603701</td>\n",
       "      <td>BX08</td>\n",
       "      <td>106737</td>\n",
       "      <td>31229.95006</td>\n",
       "    </tr>\n",
       "    <tr>\n",
       "      <th>1</th>\n",
       "      <td>3603702</td>\n",
       "      <td>BX12</td>\n",
       "      <td>134644</td>\n",
       "      <td>19966.67839</td>\n",
       "    </tr>\n",
       "    <tr>\n",
       "      <th>2</th>\n",
       "      <td>3603703</td>\n",
       "      <td>BX10</td>\n",
       "      <td>121209</td>\n",
       "      <td>12913.81703</td>\n",
       "    </tr>\n",
       "    <tr>\n",
       "      <th>3</th>\n",
       "      <td>3603704</td>\n",
       "      <td>BX11</td>\n",
       "      <td>135839</td>\n",
       "      <td>35677.95453</td>\n",
       "    </tr>\n",
       "    <tr>\n",
       "      <th>4</th>\n",
       "      <td>3603705</td>\n",
       "      <td>BX03</td>\n",
       "      <td>172247</td>\n",
       "      <td>39405.79222</td>\n",
       "    </tr>\n",
       "  </tbody>\n",
       "</table>\n",
       "</div>"
      ],
      "text/plain": [
       "      FIPS cd_id  Total Population  Population Density (per sq. mile)\n",
       "0  3603701  BX08            106737                        31229.95006\n",
       "1  3603702  BX12            134644                        19966.67839\n",
       "2  3603703  BX10            121209                        12913.81703\n",
       "3  3603704  BX11            135839                        35677.95453\n",
       "4  3603705  BX03            172247                        39405.79222"
      ]
     },
     "execution_count": 193,
     "metadata": {},
     "output_type": "execute_result"
    }
   ],
   "source": [
    "popDensity = df_pop[[u'FIPS', u'cd_id', u'Total Population', \n",
    "       u'Population Density (per sq. mile)']]\n",
    "popDensity.head()"
   ]
  },
  {
   "cell_type": "code",
   "execution_count": null,
   "metadata": {
    "collapsed": true
   },
   "outputs": [],
   "source": [
    "# Save data frame"
   ]
  },
  {
   "cell_type": "code",
   "execution_count": 116,
   "metadata": {
    "collapsed": false
   },
   "outputs": [],
   "source": [
    "# Infrastructure by Community District\n",
    "df_infr = pd.read_csv(PUIdata + \"/ACS_Computer_Use_and_Internet_2014_1Year_Estimate.csv\")"
   ]
  },
  {
   "cell_type": "code",
   "execution_count": 117,
   "metadata": {
    "collapsed": false
   },
   "outputs": [
    {
     "data": {
      "text/html": [
       "<div>\n",
       "<table border=\"1\" class=\"dataframe\">\n",
       "  <thead>\n",
       "    <tr style=\"text-align: right;\">\n",
       "      <th></th>\n",
       "      <th>FIPS</th>\n",
       "      <th>Geographic Identifier</th>\n",
       "      <th>Qualifying Name</th>\n",
       "      <th>Households</th>\n",
       "      <th>Households: With An Internet Subscription</th>\n",
       "      <th>Households: Dial-Up Alone</th>\n",
       "      <th>Households: Dsl</th>\n",
       "      <th>Households: With Mobile Broadband</th>\n",
       "      <th>Households: Without Mobile Broadband</th>\n",
       "      <th>Households: Cable Modem</th>\n",
       "      <th>...</th>\n",
       "      <th>Households: Mobile Broadband Alone or With Dialup</th>\n",
       "      <th>Households: Internet Access Without A Subscription</th>\n",
       "      <th>Households: No Internet Access</th>\n",
       "      <th>% Households: With An Internet Subscription</th>\n",
       "      <th>Households.1</th>\n",
       "      <th>Households: Has A Computer</th>\n",
       "      <th>Households: With Dial-Up Internet Subscription Alone</th>\n",
       "      <th>Households: With A Broadband Internet Subscription</th>\n",
       "      <th>Households: Without An Internet Subscription</th>\n",
       "      <th>Households: No Computer</th>\n",
       "    </tr>\n",
       "  </thead>\n",
       "  <tbody>\n",
       "    <tr>\n",
       "      <th>0</th>\n",
       "      <td>3603701</td>\n",
       "      <td>79500US3603701</td>\n",
       "      <td>NYC-Bronx Community District 8--Riverdale, New...</td>\n",
       "      <td>42035</td>\n",
       "      <td>31795</td>\n",
       "      <td>444</td>\n",
       "      <td>2813</td>\n",
       "      <td>946</td>\n",
       "      <td>1867</td>\n",
       "      <td>19178</td>\n",
       "      <td>...</td>\n",
       "      <td>2168</td>\n",
       "      <td>2119</td>\n",
       "      <td>8121</td>\n",
       "      <td>75.64</td>\n",
       "      <td>42035</td>\n",
       "      <td>35048</td>\n",
       "      <td>404</td>\n",
       "      <td>30943</td>\n",
       "      <td>3701</td>\n",
       "      <td>6987</td>\n",
       "    </tr>\n",
       "    <tr>\n",
       "      <th>1</th>\n",
       "      <td>3603702</td>\n",
       "      <td>79500US3603702</td>\n",
       "      <td>NYC-Bronx Community District 12--Wakefield, Ne...</td>\n",
       "      <td>44830</td>\n",
       "      <td>32243</td>\n",
       "      <td>178</td>\n",
       "      <td>849</td>\n",
       "      <td>405</td>\n",
       "      <td>444</td>\n",
       "      <td>18653</td>\n",
       "      <td>...</td>\n",
       "      <td>928</td>\n",
       "      <td>1891</td>\n",
       "      <td>10696</td>\n",
       "      <td>71.92</td>\n",
       "      <td>44830</td>\n",
       "      <td>36700</td>\n",
       "      <td>178</td>\n",
       "      <td>31435</td>\n",
       "      <td>5087</td>\n",
       "      <td>8130</td>\n",
       "    </tr>\n",
       "    <tr>\n",
       "      <th>2</th>\n",
       "      <td>3603703</td>\n",
       "      <td>79500US3603703</td>\n",
       "      <td>NYC-Bronx Community District 10--Co-op City, N...</td>\n",
       "      <td>47050</td>\n",
       "      <td>32729</td>\n",
       "      <td>158</td>\n",
       "      <td>1863</td>\n",
       "      <td>398</td>\n",
       "      <td>1465</td>\n",
       "      <td>20044</td>\n",
       "      <td>...</td>\n",
       "      <td>639</td>\n",
       "      <td>2882</td>\n",
       "      <td>11439</td>\n",
       "      <td>69.56</td>\n",
       "      <td>47050</td>\n",
       "      <td>38700</td>\n",
       "      <td>158</td>\n",
       "      <td>32333</td>\n",
       "      <td>6209</td>\n",
       "      <td>8350</td>\n",
       "    </tr>\n",
       "  </tbody>\n",
       "</table>\n",
       "<p>3 rows × 31 columns</p>\n",
       "</div>"
      ],
      "text/plain": [
       "      FIPS Geographic Identifier  \\\n",
       "0  3603701        79500US3603701   \n",
       "1  3603702        79500US3603702   \n",
       "2  3603703        79500US3603703   \n",
       "\n",
       "                                     Qualifying Name  Households  \\\n",
       "0  NYC-Bronx Community District 8--Riverdale, New...       42035   \n",
       "1  NYC-Bronx Community District 12--Wakefield, Ne...       44830   \n",
       "2  NYC-Bronx Community District 10--Co-op City, N...       47050   \n",
       "\n",
       "   Households: With An Internet Subscription  Households: Dial-Up Alone  \\\n",
       "0                                      31795                        444   \n",
       "1                                      32243                        178   \n",
       "2                                      32729                        158   \n",
       "\n",
       "   Households: Dsl  Households: With Mobile Broadband  \\\n",
       "0             2813                                946   \n",
       "1              849                                405   \n",
       "2             1863                                398   \n",
       "\n",
       "   Households: Without Mobile Broadband  Households: Cable Modem  \\\n",
       "0                                  1867                    19178   \n",
       "1                                   444                    18653   \n",
       "2                                  1465                    20044   \n",
       "\n",
       "            ...             Households: Mobile Broadband Alone or With Dialup  \\\n",
       "0           ...                                                          2168   \n",
       "1           ...                                                           928   \n",
       "2           ...                                                           639   \n",
       "\n",
       "   Households: Internet Access Without A Subscription  \\\n",
       "0                                               2119    \n",
       "1                                               1891    \n",
       "2                                               2882    \n",
       "\n",
       "   Households: No Internet Access  \\\n",
       "0                            8121   \n",
       "1                           10696   \n",
       "2                           11439   \n",
       "\n",
       "   % Households: With An Internet Subscription  Households.1  \\\n",
       "0                                        75.64         42035   \n",
       "1                                        71.92         44830   \n",
       "2                                        69.56         47050   \n",
       "\n",
       "   Households: Has A Computer  \\\n",
       "0                       35048   \n",
       "1                       36700   \n",
       "2                       38700   \n",
       "\n",
       "   Households: With Dial-Up Internet Subscription Alone  \\\n",
       "0                                                404      \n",
       "1                                                178      \n",
       "2                                                158      \n",
       "\n",
       "   Households: With A Broadband Internet Subscription  \\\n",
       "0                                              30943    \n",
       "1                                              31435    \n",
       "2                                              32333    \n",
       "\n",
       "   Households: Without An Internet Subscription  Households: No Computer  \n",
       "0                                          3701                     6987  \n",
       "1                                          5087                     8130  \n",
       "2                                          6209                     8350  \n",
       "\n",
       "[3 rows x 31 columns]"
      ]
     },
     "execution_count": 117,
     "metadata": {},
     "output_type": "execute_result"
    }
   ],
   "source": [
    "df_infr.head(3)"
   ]
  },
  {
   "cell_type": "markdown",
   "metadata": {
    "collapsed": false
   },
   "source": [
    "#### Check variables in file"
   ]
  },
  {
   "cell_type": "code",
   "execution_count": 72,
   "metadata": {
    "collapsed": false
   },
   "outputs": [
    {
     "data": {
      "text/plain": [
       "Index([u'FIPS', u'Geographic Identifier', u'Qualifying Name', u'Households',\n",
       "       u'Households: With An Internet Subscription',\n",
       "       u'Households: Dial-Up Alone', u'Households: Dsl',\n",
       "       u'Households: With Mobile Broadband',\n",
       "       u'Households: Without Mobile Broadband', u'Households: Cable Modem',\n",
       "       u'Households: With Mobile Broadband.1',\n",
       "       u'Households: Without Mobile Broadband.1', u'Households: Fiber-Optic',\n",
       "       u'Households: With Mobile Broadband.2',\n",
       "       u'Households: Without Mobile Broadband.2',\n",
       "       u'Households: Satellite Internet Service',\n",
       "       u'Households: With Mobile Broadband.3',\n",
       "       u'Households: Without Mobile Broadband.3',\n",
       "       u'Households: Two or More Fixed Broadband Types, or Other',\n",
       "       u'Households: With Mobile Broadband.4',\n",
       "       u'Households: Without Mobile Broadband.4',\n",
       "       u'Households: Mobile Broadband Alone or With Dialup',\n",
       "       u'Households: Internet Access Without A Subscription',\n",
       "       u'Households: No Internet Access',\n",
       "       u'% Households: With An Internet Subscription', u'Households.1',\n",
       "       u'Households: Has A Computer',\n",
       "       u'Households: With Dial-Up Internet Subscription Alone',\n",
       "       u'Households: With A Broadband Internet Subscription',\n",
       "       u'Households: Without An Internet Subscription',\n",
       "       u'Households: No Computer'],\n",
       "      dtype='object')"
      ]
     },
     "execution_count": 72,
     "metadata": {},
     "output_type": "execute_result"
    }
   ],
   "source": [
    "df_infr.columns"
   ]
  },
  {
   "cell_type": "markdown",
   "metadata": {
    "collapsed": true
   },
   "source": [
    "#### How many community districts are in file? "
   ]
  },
  {
   "cell_type": "code",
   "execution_count": 78,
   "metadata": {
    "collapsed": false
   },
   "outputs": [
    {
     "name": "stdout",
     "output_type": "stream",
     "text": [
      "There are 55 community districts in file\n"
     ]
    }
   ],
   "source": [
    "print('There are %d community districts in file' %(len(df_infr['Qualifying Name'].unique())))"
   ]
  },
  {
   "cell_type": "markdown",
   "metadata": {
    "collapsed": true
   },
   "source": [
    "#### Manipulate data to get some information on internet/broadband useage by Community District\n",
    "#### Aggregate the mobile subscription data"
   ]
  },
  {
   "cell_type": "code",
   "execution_count": 118,
   "metadata": {
    "collapsed": false
   },
   "outputs": [],
   "source": [
    "mobile = df_infr.columns.str.contains(\"Mobile\")==False"
   ]
  },
  {
   "cell_type": "code",
   "execution_count": 119,
   "metadata": {
    "collapsed": false
   },
   "outputs": [],
   "source": [
    "mobile = [i for i, x in enumerate(mobile) if x]"
   ]
  },
  {
   "cell_type": "code",
   "execution_count": 120,
   "metadata": {
    "collapsed": false
   },
   "outputs": [
    {
     "data": {
      "text/plain": [
       "[0, 1, 2, 3, 4, 5, 6, 9, 12, 15, 18, 22, 23, 24, 25, 26, 27, 28, 29, 30]"
      ]
     },
     "execution_count": 120,
     "metadata": {},
     "output_type": "execute_result"
    }
   ],
   "source": [
    "mobile"
   ]
  },
  {
   "cell_type": "code",
   "execution_count": 175,
   "metadata": {
    "collapsed": false
   },
   "outputs": [],
   "source": [
    "mob = df_infr.copy()\n",
    "mob.drop(df_infr.columns[mobile], axis=1, inplace=True)\n",
    "mob.insert(0, 'Qualifying Name', df_infr['Qualifying Name'])\n",
    "mob.insert(0, 'FIPS', df_infr[u'FIPS'])"
   ]
  },
  {
   "cell_type": "code",
   "execution_count": 176,
   "metadata": {
    "collapsed": false
   },
   "outputs": [
    {
     "data": {
      "text/html": [
       "<div>\n",
       "<table border=\"1\" class=\"dataframe\">\n",
       "  <thead>\n",
       "    <tr style=\"text-align: right;\">\n",
       "      <th></th>\n",
       "      <th>FIPS</th>\n",
       "      <th>Qualifying Name</th>\n",
       "      <th>Households: With Mobile Broadband</th>\n",
       "      <th>Households: Without Mobile Broadband</th>\n",
       "      <th>Households: With Mobile Broadband.1</th>\n",
       "      <th>Households: Without Mobile Broadband.1</th>\n",
       "      <th>Households: With Mobile Broadband.2</th>\n",
       "      <th>Households: Without Mobile Broadband.2</th>\n",
       "      <th>Households: With Mobile Broadband.3</th>\n",
       "      <th>Households: Without Mobile Broadband.3</th>\n",
       "      <th>Households: With Mobile Broadband.4</th>\n",
       "      <th>Households: Without Mobile Broadband.4</th>\n",
       "      <th>Households: Mobile Broadband Alone or With Dialup</th>\n",
       "    </tr>\n",
       "  </thead>\n",
       "  <tbody>\n",
       "    <tr>\n",
       "      <th>0</th>\n",
       "      <td>3603701</td>\n",
       "      <td>NYC-Bronx Community District 8--Riverdale, New...</td>\n",
       "      <td>946</td>\n",
       "      <td>1867</td>\n",
       "      <td>10433</td>\n",
       "      <td>8745</td>\n",
       "      <td>433</td>\n",
       "      <td>506</td>\n",
       "      <td>37</td>\n",
       "      <td>38</td>\n",
       "      <td>3510</td>\n",
       "      <td>2668</td>\n",
       "      <td>2168</td>\n",
       "    </tr>\n",
       "    <tr>\n",
       "      <th>1</th>\n",
       "      <td>3603702</td>\n",
       "      <td>NYC-Bronx Community District 12--Wakefield, Ne...</td>\n",
       "      <td>405</td>\n",
       "      <td>444</td>\n",
       "      <td>5577</td>\n",
       "      <td>13076</td>\n",
       "      <td>2358</td>\n",
       "      <td>3858</td>\n",
       "      <td>0</td>\n",
       "      <td>131</td>\n",
       "      <td>2146</td>\n",
       "      <td>3142</td>\n",
       "      <td>928</td>\n",
       "    </tr>\n",
       "    <tr>\n",
       "      <th>2</th>\n",
       "      <td>3603703</td>\n",
       "      <td>NYC-Bronx Community District 10--Co-op City, N...</td>\n",
       "      <td>398</td>\n",
       "      <td>1465</td>\n",
       "      <td>6377</td>\n",
       "      <td>13667</td>\n",
       "      <td>1200</td>\n",
       "      <td>2290</td>\n",
       "      <td>0</td>\n",
       "      <td>0</td>\n",
       "      <td>3450</td>\n",
       "      <td>3085</td>\n",
       "      <td>639</td>\n",
       "    </tr>\n",
       "  </tbody>\n",
       "</table>\n",
       "</div>"
      ],
      "text/plain": [
       "      FIPS                                    Qualifying Name  \\\n",
       "0  3603701  NYC-Bronx Community District 8--Riverdale, New...   \n",
       "1  3603702  NYC-Bronx Community District 12--Wakefield, Ne...   \n",
       "2  3603703  NYC-Bronx Community District 10--Co-op City, N...   \n",
       "\n",
       "   Households: With Mobile Broadband  Households: Without Mobile Broadband  \\\n",
       "0                                946                                  1867   \n",
       "1                                405                                   444   \n",
       "2                                398                                  1465   \n",
       "\n",
       "   Households: With Mobile Broadband.1  \\\n",
       "0                                10433   \n",
       "1                                 5577   \n",
       "2                                 6377   \n",
       "\n",
       "   Households: Without Mobile Broadband.1  \\\n",
       "0                                    8745   \n",
       "1                                   13076   \n",
       "2                                   13667   \n",
       "\n",
       "   Households: With Mobile Broadband.2  \\\n",
       "0                                  433   \n",
       "1                                 2358   \n",
       "2                                 1200   \n",
       "\n",
       "   Households: Without Mobile Broadband.2  \\\n",
       "0                                     506   \n",
       "1                                    3858   \n",
       "2                                    2290   \n",
       "\n",
       "   Households: With Mobile Broadband.3  \\\n",
       "0                                   37   \n",
       "1                                    0   \n",
       "2                                    0   \n",
       "\n",
       "   Households: Without Mobile Broadband.3  \\\n",
       "0                                      38   \n",
       "1                                     131   \n",
       "2                                       0   \n",
       "\n",
       "   Households: With Mobile Broadband.4  \\\n",
       "0                                 3510   \n",
       "1                                 2146   \n",
       "2                                 3450   \n",
       "\n",
       "   Households: Without Mobile Broadband.4  \\\n",
       "0                                    2668   \n",
       "1                                    3142   \n",
       "2                                    3085   \n",
       "\n",
       "   Households: Mobile Broadband Alone or With Dialup  \n",
       "0                                               2168  \n",
       "1                                                928  \n",
       "2                                                639  "
      ]
     },
     "execution_count": 176,
     "metadata": {},
     "output_type": "execute_result"
    }
   ],
   "source": [
    "mob.head(3)"
   ]
  },
  {
   "cell_type": "code",
   "execution_count": null,
   "metadata": {
    "collapsed": true
   },
   "outputs": [],
   "source": [
    "# Aggregate internet type by high and low connections"
   ]
  },
  {
   "cell_type": "code",
   "execution_count": 173,
   "metadata": {
    "collapsed": false
   },
   "outputs": [],
   "source": [
    "connect = df_infr[[u'FIPS', u'Qualifying Name',\n",
    "       u'Households: Dial-Up Alone', u'Households: With Mobile Broadband', u'Households: Dsl',\n",
    "       u'Households: Satellite Internet Service']]"
   ]
  },
  {
   "cell_type": "code",
   "execution_count": 174,
   "metadata": {
    "collapsed": false
   },
   "outputs": [
    {
     "data": {
      "text/html": [
       "<div>\n",
       "<table border=\"1\" class=\"dataframe\">\n",
       "  <thead>\n",
       "    <tr style=\"text-align: right;\">\n",
       "      <th></th>\n",
       "      <th>FIPS</th>\n",
       "      <th>Qualifying Name</th>\n",
       "      <th>Households: Dial-Up Alone</th>\n",
       "      <th>Households: With Mobile Broadband</th>\n",
       "      <th>Households: Dsl</th>\n",
       "      <th>Households: Satellite Internet Service</th>\n",
       "    </tr>\n",
       "  </thead>\n",
       "  <tbody>\n",
       "    <tr>\n",
       "      <th>0</th>\n",
       "      <td>3603701</td>\n",
       "      <td>NYC-Bronx Community District 8--Riverdale, New...</td>\n",
       "      <td>444</td>\n",
       "      <td>946</td>\n",
       "      <td>2813</td>\n",
       "      <td>75</td>\n",
       "    </tr>\n",
       "    <tr>\n",
       "      <th>1</th>\n",
       "      <td>3603702</td>\n",
       "      <td>NYC-Bronx Community District 12--Wakefield, Ne...</td>\n",
       "      <td>178</td>\n",
       "      <td>405</td>\n",
       "      <td>849</td>\n",
       "      <td>131</td>\n",
       "    </tr>\n",
       "    <tr>\n",
       "      <th>2</th>\n",
       "      <td>3603703</td>\n",
       "      <td>NYC-Bronx Community District 10--Co-op City, N...</td>\n",
       "      <td>158</td>\n",
       "      <td>398</td>\n",
       "      <td>1863</td>\n",
       "      <td>0</td>\n",
       "    </tr>\n",
       "    <tr>\n",
       "      <th>3</th>\n",
       "      <td>3603704</td>\n",
       "      <td>NYC-Bronx Community District 11--Pelham Parkwa...</td>\n",
       "      <td>141</td>\n",
       "      <td>474</td>\n",
       "      <td>1478</td>\n",
       "      <td>308</td>\n",
       "    </tr>\n",
       "    <tr>\n",
       "      <th>4</th>\n",
       "      <td>3603705</td>\n",
       "      <td>NYC-Bronx Community District 3 &amp; 6--Belmont, N...</td>\n",
       "      <td>88</td>\n",
       "      <td>651</td>\n",
       "      <td>1297</td>\n",
       "      <td>194</td>\n",
       "    </tr>\n",
       "  </tbody>\n",
       "</table>\n",
       "</div>"
      ],
      "text/plain": [
       "      FIPS                                    Qualifying Name  \\\n",
       "0  3603701  NYC-Bronx Community District 8--Riverdale, New...   \n",
       "1  3603702  NYC-Bronx Community District 12--Wakefield, Ne...   \n",
       "2  3603703  NYC-Bronx Community District 10--Co-op City, N...   \n",
       "3  3603704  NYC-Bronx Community District 11--Pelham Parkwa...   \n",
       "4  3603705  NYC-Bronx Community District 3 & 6--Belmont, N...   \n",
       "\n",
       "   Households: Dial-Up Alone  Households: With Mobile Broadband  \\\n",
       "0                        444                                946   \n",
       "1                        178                                405   \n",
       "2                        158                                398   \n",
       "3                        141                                474   \n",
       "4                         88                                651   \n",
       "\n",
       "   Households: Dsl  Households: Satellite Internet Service  \n",
       "0             2813                                      75  \n",
       "1              849                                     131  \n",
       "2             1863                                       0  \n",
       "3             1478                                     308  \n",
       "4             1297                                     194  "
      ]
     },
     "execution_count": 174,
     "metadata": {},
     "output_type": "execute_result"
    }
   ],
   "source": [
    "connect.head()"
   ]
  },
  {
   "cell_type": "code",
   "execution_count": null,
   "metadata": {
    "collapsed": true
   },
   "outputs": [],
   "source": [
    "# Save data frame "
   ]
  },
  {
   "cell_type": "markdown",
   "metadata": {},
   "source": [
    "# 5. Inform your results by linking datasets\n",
    "Now you want to link the three data frames to produce summary statistics for Community Districts which show a high number of complaints vs. Community Districts which show a lower number of complaints. Please keep in mind that the identifiers used for the linkage (Community Dostrict IDs) should be recored the same way. Use regular expressions to harmonize the identifiers if possible. The identifiers should look like BK01, BK02, etc.\n",
    "https://docs.python.org/2/library/re.html"
   ]
  },
  {
   "cell_type": "code",
   "execution_count": null,
   "metadata": {
    "collapsed": false
   },
   "outputs": [],
   "source": [
    "# Harmonize identifier of dataframe 1"
   ]
  },
  {
   "cell_type": "code",
   "execution_count": 162,
   "metadata": {
    "collapsed": false
   },
   "outputs": [],
   "source": [
    "unComDist = complaints[u'Community Board'].unique()\n",
    "harm_df1 = unComDist.copy()"
   ]
  },
  {
   "cell_type": "code",
   "execution_count": 163,
   "metadata": {
    "collapsed": false,
    "scrolled": true
   },
   "outputs": [
    {
     "data": {
      "text/plain": [
       "array(['13 BROOKLYN', '18 BROOKLYN', '12 BROOKLYN', '02 STATEN ISLAND',\n",
       "       '08 MANHATTAN', '06 BROOKLYN', '10 BRONX', '06 MANHATTAN',\n",
       "       '04 BROOKLYN', '04 QUEENS', '09 MANHATTAN', '14 BROOKLYN',\n",
       "       '05 MANHATTAN', '02 MANHATTAN', '10 QUEENS', '07 QUEENS',\n",
       "       '02 QUEENS', '11 BROOKLYN', '05 QUEENS', '05 BROOKLYN', '09 QUEENS',\n",
       "       '12 MANHATTAN', '01 BROOKLYN', '11 MANHATTAN', '03 BRONX',\n",
       "       '03 STATEN ISLAND', '08 BROOKLYN', '03 BROOKLYN', '07 MANHATTAN',\n",
       "       '10 MANHATTAN', '04 BRONX', '01 MANHATTAN', '07 BRONX', '09 BRONX',\n",
       "       '03 MANHATTAN', '13 QUEENS', '02 BRONX', '12 QUEENS', '16 BROOKLYN',\n",
       "       '08 QUEENS', '04 MANHATTAN', '14 QUEENS', '10 BROOKLYN',\n",
       "       '11 QUEENS', '06 BRONX', '08 BRONX', '05 BRONX', '15 BROOKLYN',\n",
       "       '02 BROOKLYN', '12 BRONX', '03 QUEENS', '06 QUEENS',\n",
       "       '01 STATEN ISLAND', '01 BRONX', '01 QUEENS', '17 BROOKLYN',\n",
       "       '11 BRONX', '09 BROOKLYN', '07 BROOKLYN', '64 MANHATTAN',\n",
       "       '81 QUEENS', '55 BROOKLYN', '83 QUEENS', '28 BRONX', '80 QUEENS',\n",
       "       '26 BRONX', '95 STATEN ISLAND', '82 QUEENS', '27 BRONX',\n",
       "       '56 BROOKLYN', '84 QUEENS'], dtype=object)"
      ]
     },
     "execution_count": 163,
     "metadata": {},
     "output_type": "execute_result"
    }
   ],
   "source": [
    "harm_df1"
   ]
  },
  {
   "cell_type": "code",
   "execution_count": 204,
   "metadata": {
    "collapsed": false
   },
   "outputs": [],
   "source": [
    "harm_df1 = list(df_rank['Community Districts'])"
   ]
  },
  {
   "cell_type": "code",
   "execution_count": 205,
   "metadata": {
    "collapsed": false
   },
   "outputs": [
    {
     "data": {
      "text/plain": [
       "['MN12',\n",
       " 'QN12',\n",
       " 'BK03',\n",
       " 'QN07',\n",
       " 'BK17',\n",
       " 'BK05',\n",
       " 'BK14',\n",
       " 'BX07',\n",
       " 'BK01',\n",
       " 'SI01',\n",
       " 'BX04',\n",
       " 'QN01',\n",
       " 'QN05',\n",
       " 'BX12',\n",
       " 'QN13',\n",
       " 'BX05',\n",
       " 'BK18',\n",
       " 'MN07',\n",
       " 'QN09',\n",
       " 'BK12',\n",
       " 'MN03',\n",
       " 'MN08',\n",
       " 'BX09',\n",
       " 'BK15',\n",
       " 'MN05',\n",
       " 'BK08',\n",
       " 'BK11',\n",
       " 'BK04',\n",
       " 'MN10',\n",
       " 'SI03',\n",
       " 'BK09',\n",
       " 'MN02',\n",
       " 'MN04',\n",
       " 'QN10',\n",
       " 'MN09',\n",
       " 'QN08',\n",
       " 'BX11',\n",
       " 'QN03',\n",
       " 'SI02',\n",
       " 'BK02',\n",
       " 'QN02',\n",
       " 'BK06',\n",
       " 'BK10',\n",
       " 'BK07',\n",
       " 'MN06',\n",
       " 'QN14',\n",
       " 'QN11',\n",
       " 'BX06',\n",
       " 'QN04',\n",
       " 'BX10',\n",
       " 'MN11',\n",
       " 'BX08',\n",
       " 'QN06',\n",
       " 'BK16',\n",
       " 'MN01',\n",
       " 'BX03',\n",
       " 'BX01',\n",
       " 'BK13',\n",
       " 'BX02',\n",
       " 'QN83',\n",
       " 'QN80',\n",
       " 'QN81',\n",
       " 'MN64',\n",
       " 'BK56',\n",
       " 'BK55',\n",
       " 'QN82',\n",
       " 'SI95',\n",
       " 'BX27',\n",
       " 'BX28',\n",
       " 'BX26',\n",
       " 'QN84']"
      ]
     },
     "execution_count": 205,
     "metadata": {},
     "output_type": "execute_result"
    }
   ],
   "source": [
    "for i in range(0, len(harm_df1)):\n",
    "    if 'BRONX' in harm_df1[i]:\n",
    "        harm_df1[i] = 'BX' + harm_df1[i][0:2]\n",
    "    if 'BROOKLYN' in harm_df1[i]:\n",
    "        harm_df1[i] = 'BK' + harm_df1[i][0:2]\n",
    "    if 'MANHATTAN' in harm_df1[i]:\n",
    "        harm_df1[i] = 'MN' + harm_df1[i][0:2]\n",
    "    if 'STATEN ISLAND' in harm_df1[i]:\n",
    "        harm_df1[i] = 'SI' + harm_df1[i][0:2]\n",
    "    if 'QUEENS' in harm_df1[i]:\n",
    "        harm_df1[i] = 'QN' + harm_df1[i][0:2]\n",
    "harm_df1"
   ]
  },
  {
   "cell_type": "code",
   "execution_count": 206,
   "metadata": {
    "collapsed": true
   },
   "outputs": [],
   "source": [
    "df_rank['Community Districts'] = harm_df1"
   ]
  },
  {
   "cell_type": "code",
   "execution_count": 208,
   "metadata": {
    "collapsed": false
   },
   "outputs": [
    {
     "data": {
      "text/html": [
       "<div>\n",
       "<table border=\"1\" class=\"dataframe\">\n",
       "  <thead>\n",
       "    <tr style=\"text-align: right;\">\n",
       "      <th></th>\n",
       "      <th>cd_id</th>\n",
       "      <th>Complaints</th>\n",
       "    </tr>\n",
       "  </thead>\n",
       "  <tbody>\n",
       "    <tr>\n",
       "      <th>0</th>\n",
       "      <td>MN12</td>\n",
       "      <td>268053</td>\n",
       "    </tr>\n",
       "    <tr>\n",
       "      <th>1</th>\n",
       "      <td>QN12</td>\n",
       "      <td>229383</td>\n",
       "    </tr>\n",
       "    <tr>\n",
       "      <th>2</th>\n",
       "      <td>BK03</td>\n",
       "      <td>197306</td>\n",
       "    </tr>\n",
       "    <tr>\n",
       "      <th>3</th>\n",
       "      <td>QN07</td>\n",
       "      <td>195961</td>\n",
       "    </tr>\n",
       "    <tr>\n",
       "      <th>4</th>\n",
       "      <td>BK17</td>\n",
       "      <td>191720</td>\n",
       "    </tr>\n",
       "  </tbody>\n",
       "</table>\n",
       "</div>"
      ],
      "text/plain": [
       "  cd_id  Complaints\n",
       "0  MN12      268053\n",
       "1  QN12      229383\n",
       "2  BK03      197306\n",
       "3  QN07      195961\n",
       "4  BK17      191720"
      ]
     },
     "execution_count": 208,
     "metadata": {},
     "output_type": "execute_result"
    }
   ],
   "source": [
    "df_rank.columns = ['cd_id', 'Complaints']\n",
    "df_rank.head()"
   ]
  },
  {
   "cell_type": "code",
   "execution_count": null,
   "metadata": {
    "collapsed": false
   },
   "outputs": [],
   "source": [
    "# Harmonize identifier of dataframe 2"
   ]
  },
  {
   "cell_type": "code",
   "execution_count": 167,
   "metadata": {
    "collapsed": false
   },
   "outputs": [
    {
     "data": {
      "text/plain": [
       "array(['BX08', 'BX12', 'BX10', 'BX11', 'BX03', 'BX06', 'BX07', 'BX05',\n",
       "       'BX04', 'BX09', 'BX01', 'BX02', 'MN12', 'MN09', 'MN10', 'MN11111',\n",
       "       'MN08', 'MN07', 'MN05', 'MN04', 'MN06', 'MN03', 'MN01', 'MN02',\n",
       "       'SI03', 'SI02', 'SI01', 'BK01', 'BK04', 'BK03', 'BK02', 'BK06',\n",
       "       'BK08', 'BK16', 'BK05', 'BK18', 'BK17', 'BK09', 'BK07', 'BK10',\n",
       "       'BK12', 'BK14', 'BK15', 'BK11', 'BK13', 'QN01', 'QN03', 'QN07',\n",
       "       'QN11', 'QN13', 'QN08', 'QN04', 'QN06', 'QN02', 'QN05', 'QN09',\n",
       "       'QN12', 'QN10', 'QN14'], dtype=object)"
      ]
     },
     "execution_count": 167,
     "metadata": {},
     "output_type": "execute_result"
    }
   ],
   "source": [
    "df_pop['cd_id'].unique()"
   ]
  },
  {
   "cell_type": "code",
   "execution_count": 170,
   "metadata": {
    "collapsed": false
   },
   "outputs": [
    {
     "name": "stderr",
     "output_type": "stream",
     "text": [
      "/opt/rh/anaconda/root/envs/PUI2016_Python2/lib/python2.7/site-packages/ipykernel/__main__.py:4: SettingWithCopyWarning: \n",
      "A value is trying to be set on a copy of a slice from a DataFrame\n",
      "\n",
      "See the caveats in the documentation: http://pandas.pydata.org/pandas-docs/stable/indexing.html#indexing-view-versus-copy\n"
     ]
    },
    {
     "data": {
      "text/plain": [
       "array(['BX08', 'BX12', 'BX10', 'BX11', 'BX03', 'BX06', 'BX07', 'BX05',\n",
       "       'BX04', 'BX09', 'BX01', 'BX02', 'MN12', 'MN09', 'MN10', 'MN11',\n",
       "       'MN08', 'MN07', 'MN05', 'MN04', 'MN06', 'MN03', 'MN01', 'MN02',\n",
       "       'SI03', 'SI02', 'SI01', 'BK01', 'BK04', 'BK03', 'BK02', 'BK06',\n",
       "       'BK08', 'BK16', 'BK05', 'BK18', 'BK17', 'BK09', 'BK07', 'BK10',\n",
       "       'BK12', 'BK14', 'BK15', 'BK11', 'BK13', 'QN01', 'QN03', 'QN07',\n",
       "       'QN11', 'QN13', 'QN08', 'QN04', 'QN06', 'QN02', 'QN05', 'QN09',\n",
       "       'QN12', 'QN10', 'QN14'], dtype=object)"
      ]
     },
     "execution_count": 170,
     "metadata": {},
     "output_type": "execute_result"
    }
   ],
   "source": [
    "# there is a MN111 that we should change\n",
    "for i in range(0, len(df_pop['cd_id'])):\n",
    "    if 'MN11111' in df_pop['cd_id'][i]:\n",
    "        df_pop['cd_id'][i] = 'MN11'\n",
    "df_pop['cd_id'].unique()"
   ]
  },
  {
   "cell_type": "code",
   "execution_count": null,
   "metadata": {
    "collapsed": true
   },
   "outputs": [],
   "source": [
    "# Harmonize identifier of dataframe 3"
   ]
  },
  {
   "cell_type": "code",
   "execution_count": 191,
   "metadata": {
    "collapsed": false
   },
   "outputs": [
    {
     "data": {
      "text/plain": [
       "59"
      ]
     },
     "execution_count": 191,
     "metadata": {},
     "output_type": "execute_result"
    }
   ],
   "source": [
    "# This dataset can be merged by FIPS\n",
    "len(df_infr['FIPS'])\n"
   ]
  },
  {
   "cell_type": "code",
   "execution_count": null,
   "metadata": {
    "collapsed": false
   },
   "outputs": [],
   "source": [
    "# Link the 3 dataframes"
   ]
  },
  {
   "cell_type": "code",
   "execution_count": 195,
   "metadata": {
    "collapsed": false
   },
   "outputs": [
    {
     "data": {
      "text/html": [
       "<div>\n",
       "<table border=\"1\" class=\"dataframe\">\n",
       "  <thead>\n",
       "    <tr style=\"text-align: right;\">\n",
       "      <th></th>\n",
       "      <th>FIPS</th>\n",
       "      <th>Qualifying Name</th>\n",
       "      <th>Households: Dial-Up Alone</th>\n",
       "      <th>Households: With Mobile Broadband</th>\n",
       "      <th>Households: Dsl</th>\n",
       "      <th>Households: Satellite Internet Service</th>\n",
       "      <th>cd_id</th>\n",
       "      <th>Total Population</th>\n",
       "      <th>Population Density (per sq. mile)</th>\n",
       "    </tr>\n",
       "  </thead>\n",
       "  <tbody>\n",
       "    <tr>\n",
       "      <th>0</th>\n",
       "      <td>3603701</td>\n",
       "      <td>NYC-Bronx Community District 8--Riverdale, New...</td>\n",
       "      <td>444</td>\n",
       "      <td>946</td>\n",
       "      <td>2813</td>\n",
       "      <td>75</td>\n",
       "      <td>BX08</td>\n",
       "      <td>106737</td>\n",
       "      <td>31229.95006</td>\n",
       "    </tr>\n",
       "    <tr>\n",
       "      <th>1</th>\n",
       "      <td>3603702</td>\n",
       "      <td>NYC-Bronx Community District 12--Wakefield, Ne...</td>\n",
       "      <td>178</td>\n",
       "      <td>405</td>\n",
       "      <td>849</td>\n",
       "      <td>131</td>\n",
       "      <td>BX12</td>\n",
       "      <td>134644</td>\n",
       "      <td>19966.67839</td>\n",
       "    </tr>\n",
       "    <tr>\n",
       "      <th>2</th>\n",
       "      <td>3603703</td>\n",
       "      <td>NYC-Bronx Community District 10--Co-op City, N...</td>\n",
       "      <td>158</td>\n",
       "      <td>398</td>\n",
       "      <td>1863</td>\n",
       "      <td>0</td>\n",
       "      <td>BX10</td>\n",
       "      <td>121209</td>\n",
       "      <td>12913.81703</td>\n",
       "    </tr>\n",
       "    <tr>\n",
       "      <th>3</th>\n",
       "      <td>3603704</td>\n",
       "      <td>NYC-Bronx Community District 11--Pelham Parkwa...</td>\n",
       "      <td>141</td>\n",
       "      <td>474</td>\n",
       "      <td>1478</td>\n",
       "      <td>308</td>\n",
       "      <td>BX11</td>\n",
       "      <td>135839</td>\n",
       "      <td>35677.95453</td>\n",
       "    </tr>\n",
       "    <tr>\n",
       "      <th>4</th>\n",
       "      <td>3603705</td>\n",
       "      <td>NYC-Bronx Community District 3 &amp; 6--Belmont, N...</td>\n",
       "      <td>88</td>\n",
       "      <td>651</td>\n",
       "      <td>1297</td>\n",
       "      <td>194</td>\n",
       "      <td>BX03</td>\n",
       "      <td>172247</td>\n",
       "      <td>39405.79222</td>\n",
       "    </tr>\n",
       "  </tbody>\n",
       "</table>\n",
       "</div>"
      ],
      "text/plain": [
       "      FIPS                                    Qualifying Name  \\\n",
       "0  3603701  NYC-Bronx Community District 8--Riverdale, New...   \n",
       "1  3603702  NYC-Bronx Community District 12--Wakefield, Ne...   \n",
       "2  3603703  NYC-Bronx Community District 10--Co-op City, N...   \n",
       "3  3603704  NYC-Bronx Community District 11--Pelham Parkwa...   \n",
       "4  3603705  NYC-Bronx Community District 3 & 6--Belmont, N...   \n",
       "\n",
       "   Households: Dial-Up Alone  Households: With Mobile Broadband  \\\n",
       "0                        444                                946   \n",
       "1                        178                                405   \n",
       "2                        158                                398   \n",
       "3                        141                                474   \n",
       "4                         88                                651   \n",
       "\n",
       "   Households: Dsl  Households: Satellite Internet Service cd_id  \\\n",
       "0             2813                                      75  BX08   \n",
       "1              849                                     131  BX12   \n",
       "2             1863                                       0  BX10   \n",
       "3             1478                                     308  BX11   \n",
       "4             1297                                     194  BX03   \n",
       "\n",
       "   Total Population  Population Density (per sq. mile)  \n",
       "0            106737                        31229.95006  \n",
       "1            134644                        19966.67839  \n",
       "2            121209                        12913.81703  \n",
       "3            135839                        35677.95453  \n",
       "4            172247                        39405.79222  "
      ]
     },
     "execution_count": 195,
     "metadata": {},
     "output_type": "execute_result"
    }
   ],
   "source": [
    "# Let's start linkng df 3 and df 2 by FIPS\n",
    "df_2_3 = pd.merge(connect, popDensity, on='FIPS')\n",
    "df_2_3.head()"
   ]
  },
  {
   "cell_type": "code",
   "execution_count": 209,
   "metadata": {
    "collapsed": true
   },
   "outputs": [],
   "source": [
    "df123 = pd.merge(df_2_3, df_rank, on='cd_id')"
   ]
  },
  {
   "cell_type": "code",
   "execution_count": 210,
   "metadata": {
    "collapsed": false
   },
   "outputs": [
    {
     "data": {
      "text/html": [
       "<div>\n",
       "<table border=\"1\" class=\"dataframe\">\n",
       "  <thead>\n",
       "    <tr style=\"text-align: right;\">\n",
       "      <th></th>\n",
       "      <th>FIPS</th>\n",
       "      <th>Qualifying Name</th>\n",
       "      <th>Households: Dial-Up Alone</th>\n",
       "      <th>Households: With Mobile Broadband</th>\n",
       "      <th>Households: Dsl</th>\n",
       "      <th>Households: Satellite Internet Service</th>\n",
       "      <th>cd_id</th>\n",
       "      <th>Total Population</th>\n",
       "      <th>Population Density (per sq. mile)</th>\n",
       "      <th>Complaints</th>\n",
       "    </tr>\n",
       "  </thead>\n",
       "  <tbody>\n",
       "    <tr>\n",
       "      <th>0</th>\n",
       "      <td>3603701</td>\n",
       "      <td>NYC-Bronx Community District 8--Riverdale, New...</td>\n",
       "      <td>444</td>\n",
       "      <td>946</td>\n",
       "      <td>2813</td>\n",
       "      <td>75</td>\n",
       "      <td>BX08</td>\n",
       "      <td>106737</td>\n",
       "      <td>31229.95006</td>\n",
       "      <td>92733</td>\n",
       "    </tr>\n",
       "    <tr>\n",
       "      <th>1</th>\n",
       "      <td>3603702</td>\n",
       "      <td>NYC-Bronx Community District 12--Wakefield, Ne...</td>\n",
       "      <td>178</td>\n",
       "      <td>405</td>\n",
       "      <td>849</td>\n",
       "      <td>131</td>\n",
       "      <td>BX12</td>\n",
       "      <td>134644</td>\n",
       "      <td>19966.67839</td>\n",
       "      <td>168455</td>\n",
       "    </tr>\n",
       "    <tr>\n",
       "      <th>2</th>\n",
       "      <td>3603703</td>\n",
       "      <td>NYC-Bronx Community District 10--Co-op City, N...</td>\n",
       "      <td>158</td>\n",
       "      <td>398</td>\n",
       "      <td>1863</td>\n",
       "      <td>0</td>\n",
       "      <td>BX10</td>\n",
       "      <td>121209</td>\n",
       "      <td>12913.81703</td>\n",
       "      <td>95496</td>\n",
       "    </tr>\n",
       "    <tr>\n",
       "      <th>3</th>\n",
       "      <td>3603704</td>\n",
       "      <td>NYC-Bronx Community District 11--Pelham Parkwa...</td>\n",
       "      <td>141</td>\n",
       "      <td>474</td>\n",
       "      <td>1478</td>\n",
       "      <td>308</td>\n",
       "      <td>BX11</td>\n",
       "      <td>135839</td>\n",
       "      <td>35677.95453</td>\n",
       "      <td>122081</td>\n",
       "    </tr>\n",
       "    <tr>\n",
       "      <th>4</th>\n",
       "      <td>3603705</td>\n",
       "      <td>NYC-Bronx Community District 3 &amp; 6--Belmont, N...</td>\n",
       "      <td>88</td>\n",
       "      <td>651</td>\n",
       "      <td>1297</td>\n",
       "      <td>194</td>\n",
       "      <td>BX03</td>\n",
       "      <td>172247</td>\n",
       "      <td>39405.79222</td>\n",
       "      <td>75134</td>\n",
       "    </tr>\n",
       "  </tbody>\n",
       "</table>\n",
       "</div>"
      ],
      "text/plain": [
       "      FIPS                                    Qualifying Name  \\\n",
       "0  3603701  NYC-Bronx Community District 8--Riverdale, New...   \n",
       "1  3603702  NYC-Bronx Community District 12--Wakefield, Ne...   \n",
       "2  3603703  NYC-Bronx Community District 10--Co-op City, N...   \n",
       "3  3603704  NYC-Bronx Community District 11--Pelham Parkwa...   \n",
       "4  3603705  NYC-Bronx Community District 3 & 6--Belmont, N...   \n",
       "\n",
       "   Households: Dial-Up Alone  Households: With Mobile Broadband  \\\n",
       "0                        444                                946   \n",
       "1                        178                                405   \n",
       "2                        158                                398   \n",
       "3                        141                                474   \n",
       "4                         88                                651   \n",
       "\n",
       "   Households: Dsl  Households: Satellite Internet Service cd_id  \\\n",
       "0             2813                                      75  BX08   \n",
       "1              849                                     131  BX12   \n",
       "2             1863                                       0  BX10   \n",
       "3             1478                                     308  BX11   \n",
       "4             1297                                     194  BX03   \n",
       "\n",
       "   Total Population  Population Density (per sq. mile)  Complaints  \n",
       "0            106737                        31229.95006       92733  \n",
       "1            134644                        19966.67839      168455  \n",
       "2            121209                        12913.81703       95496  \n",
       "3            135839                        35677.95453      122081  \n",
       "4            172247                        39405.79222       75134  "
      ]
     },
     "execution_count": 210,
     "metadata": {},
     "output_type": "execute_result"
    }
   ],
   "source": [
    "df123.head()"
   ]
  },
  {
   "cell_type": "code",
   "execution_count": null,
   "metadata": {
    "collapsed": true
   },
   "outputs": [],
   "source": [
    "# Are the demographics and infrastructure different in Community Districts that show more complaints than others?"
   ]
  },
  {
   "cell_type": "code",
   "execution_count": 211,
   "metadata": {
    "collapsed": false
   },
   "outputs": [
    {
     "data": {
      "text/html": [
       "<div>\n",
       "<table border=\"1\" class=\"dataframe\">\n",
       "  <thead>\n",
       "    <tr style=\"text-align: right;\">\n",
       "      <th></th>\n",
       "      <th>cd_id</th>\n",
       "      <th>Complaints</th>\n",
       "    </tr>\n",
       "  </thead>\n",
       "  <tbody>\n",
       "    <tr>\n",
       "      <th>0</th>\n",
       "      <td>MN12</td>\n",
       "      <td>268053</td>\n",
       "    </tr>\n",
       "    <tr>\n",
       "      <th>1</th>\n",
       "      <td>QN12</td>\n",
       "      <td>229383</td>\n",
       "    </tr>\n",
       "    <tr>\n",
       "      <th>2</th>\n",
       "      <td>BK03</td>\n",
       "      <td>197306</td>\n",
       "    </tr>\n",
       "    <tr>\n",
       "      <th>3</th>\n",
       "      <td>QN07</td>\n",
       "      <td>195961</td>\n",
       "    </tr>\n",
       "    <tr>\n",
       "      <th>4</th>\n",
       "      <td>BK17</td>\n",
       "      <td>191720</td>\n",
       "    </tr>\n",
       "  </tbody>\n",
       "</table>\n",
       "</div>"
      ],
      "text/plain": [
       "  cd_id  Complaints\n",
       "0  MN12      268053\n",
       "1  QN12      229383\n",
       "2  BK03      197306\n",
       "3  QN07      195961\n",
       "4  BK17      191720"
      ]
     },
     "execution_count": 211,
     "metadata": {},
     "output_type": "execute_result"
    }
   ],
   "source": [
    "df_rank.head(5)"
   ]
  },
  {
   "cell_type": "code",
   "execution_count": 220,
   "metadata": {
    "collapsed": false
   },
   "outputs": [
    {
     "data": {
      "text/html": [
       "<div>\n",
       "<table border=\"1\" class=\"dataframe\">\n",
       "  <thead>\n",
       "    <tr style=\"text-align: right;\">\n",
       "      <th></th>\n",
       "      <th>FIPS</th>\n",
       "      <th>Households: Dial-Up Alone</th>\n",
       "      <th>Households: With Mobile Broadband</th>\n",
       "      <th>Households: Dsl</th>\n",
       "      <th>Households: Satellite Internet Service</th>\n",
       "      <th>cd_id</th>\n",
       "      <th>Total Population</th>\n",
       "      <th>Population Density (per sq. mile)</th>\n",
       "      <th>Complaints</th>\n",
       "    </tr>\n",
       "  </thead>\n",
       "  <tbody>\n",
       "    <tr>\n",
       "      <th>0</th>\n",
       "      <td>3603701</td>\n",
       "      <td>444</td>\n",
       "      <td>946</td>\n",
       "      <td>2813</td>\n",
       "      <td>75</td>\n",
       "      <td>BX08</td>\n",
       "      <td>106737</td>\n",
       "      <td>31229.95006</td>\n",
       "      <td>92733</td>\n",
       "    </tr>\n",
       "    <tr>\n",
       "      <th>1</th>\n",
       "      <td>3603702</td>\n",
       "      <td>178</td>\n",
       "      <td>405</td>\n",
       "      <td>849</td>\n",
       "      <td>131</td>\n",
       "      <td>BX12</td>\n",
       "      <td>134644</td>\n",
       "      <td>19966.67839</td>\n",
       "      <td>168455</td>\n",
       "    </tr>\n",
       "    <tr>\n",
       "      <th>2</th>\n",
       "      <td>3603703</td>\n",
       "      <td>158</td>\n",
       "      <td>398</td>\n",
       "      <td>1863</td>\n",
       "      <td>0</td>\n",
       "      <td>BX10</td>\n",
       "      <td>121209</td>\n",
       "      <td>12913.81703</td>\n",
       "      <td>95496</td>\n",
       "    </tr>\n",
       "  </tbody>\n",
       "</table>\n",
       "</div>"
      ],
      "text/plain": [
       "      FIPS  Households: Dial-Up Alone  Households: With Mobile Broadband  \\\n",
       "0  3603701                        444                                946   \n",
       "1  3603702                        178                                405   \n",
       "2  3603703                        158                                398   \n",
       "\n",
       "   Households: Dsl  Households: Satellite Internet Service cd_id  \\\n",
       "0             2813                                      75  BX08   \n",
       "1              849                                     131  BX12   \n",
       "2             1863                                       0  BX10   \n",
       "\n",
       "   Total Population  Population Density (per sq. mile)  Complaints  \n",
       "0            106737                        31229.95006       92733  \n",
       "1            134644                        19966.67839      168455  \n",
       "2            121209                        12913.81703       95496  "
      ]
     },
     "execution_count": 220,
     "metadata": {},
     "output_type": "execute_result"
    }
   ],
   "source": [
    "df123.drop(df123.columns[1],axis=1, inplace=True)\n",
    "df123.head(3)"
   ]
  },
  {
   "cell_type": "code",
   "execution_count": 232,
   "metadata": {
    "collapsed": true
   },
   "outputs": [],
   "source": [
    "df123['Broadband'] = df123['Households: Dsl'] + df123['Households: With Mobile Broadband']\n",
    "df123['Low Connection'] = df123['Households: Dial-Up Alone'] + df123['Households: Satellite Internet Service']"
   ]
  },
  {
   "cell_type": "code",
   "execution_count": 233,
   "metadata": {
    "collapsed": false
   },
   "outputs": [
    {
     "data": {
      "text/html": [
       "<div>\n",
       "<table border=\"1\" class=\"dataframe\">\n",
       "  <thead>\n",
       "    <tr style=\"text-align: right;\">\n",
       "      <th></th>\n",
       "      <th>FIPS</th>\n",
       "      <th>Households: Dial-Up Alone</th>\n",
       "      <th>Households: With Mobile Broadband</th>\n",
       "      <th>Households: Dsl</th>\n",
       "      <th>Households: Satellite Internet Service</th>\n",
       "      <th>cd_id</th>\n",
       "      <th>Total Population</th>\n",
       "      <th>Population Density (per sq. mile)</th>\n",
       "      <th>Complaints</th>\n",
       "      <th>Broadband</th>\n",
       "      <th>Low Connection</th>\n",
       "    </tr>\n",
       "  </thead>\n",
       "  <tbody>\n",
       "    <tr>\n",
       "      <th>0</th>\n",
       "      <td>3603701</td>\n",
       "      <td>444</td>\n",
       "      <td>946</td>\n",
       "      <td>2813</td>\n",
       "      <td>75</td>\n",
       "      <td>BX08</td>\n",
       "      <td>106737</td>\n",
       "      <td>31229.95006</td>\n",
       "      <td>92733</td>\n",
       "      <td>3759</td>\n",
       "      <td>519</td>\n",
       "    </tr>\n",
       "    <tr>\n",
       "      <th>1</th>\n",
       "      <td>3603702</td>\n",
       "      <td>178</td>\n",
       "      <td>405</td>\n",
       "      <td>849</td>\n",
       "      <td>131</td>\n",
       "      <td>BX12</td>\n",
       "      <td>134644</td>\n",
       "      <td>19966.67839</td>\n",
       "      <td>168455</td>\n",
       "      <td>1254</td>\n",
       "      <td>309</td>\n",
       "    </tr>\n",
       "    <tr>\n",
       "      <th>2</th>\n",
       "      <td>3603703</td>\n",
       "      <td>158</td>\n",
       "      <td>398</td>\n",
       "      <td>1863</td>\n",
       "      <td>0</td>\n",
       "      <td>BX10</td>\n",
       "      <td>121209</td>\n",
       "      <td>12913.81703</td>\n",
       "      <td>95496</td>\n",
       "      <td>2261</td>\n",
       "      <td>158</td>\n",
       "    </tr>\n",
       "    <tr>\n",
       "      <th>3</th>\n",
       "      <td>3603704</td>\n",
       "      <td>141</td>\n",
       "      <td>474</td>\n",
       "      <td>1478</td>\n",
       "      <td>308</td>\n",
       "      <td>BX11</td>\n",
       "      <td>135839</td>\n",
       "      <td>35677.95453</td>\n",
       "      <td>122081</td>\n",
       "      <td>1952</td>\n",
       "      <td>449</td>\n",
       "    </tr>\n",
       "    <tr>\n",
       "      <th>4</th>\n",
       "      <td>3603705</td>\n",
       "      <td>88</td>\n",
       "      <td>651</td>\n",
       "      <td>1297</td>\n",
       "      <td>194</td>\n",
       "      <td>BX03</td>\n",
       "      <td>172247</td>\n",
       "      <td>39405.79222</td>\n",
       "      <td>75134</td>\n",
       "      <td>1948</td>\n",
       "      <td>282</td>\n",
       "    </tr>\n",
       "  </tbody>\n",
       "</table>\n",
       "</div>"
      ],
      "text/plain": [
       "      FIPS  Households: Dial-Up Alone  Households: With Mobile Broadband  \\\n",
       "0  3603701                        444                                946   \n",
       "1  3603702                        178                                405   \n",
       "2  3603703                        158                                398   \n",
       "3  3603704                        141                                474   \n",
       "4  3603705                         88                                651   \n",
       "\n",
       "   Households: Dsl  Households: Satellite Internet Service cd_id  \\\n",
       "0             2813                                      75  BX08   \n",
       "1              849                                     131  BX12   \n",
       "2             1863                                       0  BX10   \n",
       "3             1478                                     308  BX11   \n",
       "4             1297                                     194  BX03   \n",
       "\n",
       "   Total Population  Population Density (per sq. mile)  Complaints  Broadband  \\\n",
       "0            106737                        31229.95006       92733       3759   \n",
       "1            134644                        19966.67839      168455       1254   \n",
       "2            121209                        12913.81703       95496       2261   \n",
       "3            135839                        35677.95453      122081       1952   \n",
       "4            172247                        39405.79222       75134       1948   \n",
       "\n",
       "   Low Connection  \n",
       "0             519  \n",
       "1             309  \n",
       "2             158  \n",
       "3             449  \n",
       "4             282  "
      ]
     },
     "execution_count": 233,
     "metadata": {},
     "output_type": "execute_result"
    }
   ],
   "source": [
    "df123.head()"
   ]
  },
  {
   "cell_type": "code",
   "execution_count": 228,
   "metadata": {
    "collapsed": false
   },
   "outputs": [
    {
     "data": {
      "text/plain": [
       "<matplotlib.text.Text at 0x7f0a64cf8390>"
      ]
     },
     "execution_count": 228,
     "metadata": {},
     "output_type": "execute_result"
    },
    {
     "data": {
      "image/png": "[encoded data removed]",
      "text/plain": [
       "<matplotlib.figure.Figure at 0x7f0a66b766d0>"
      ]
     },
     "metadata": {},
     "output_type": "display_data"
    }
   ],
   "source": [
    "pl.figure(figsize = (6, 6))\n",
    "\n",
    "pl.plot(df123['Population Density (per sq. mile)'], df123['Complaints'], 'o')\n",
    "pl.xlabel('Population Density (per sq. mile)')\n",
    "pl.ylabel('Number of Complaints')"
   ]
  },
  {
   "cell_type": "markdown",
   "metadata": {},
   "source": [
    "We see here that an increase on populaton density probably increase the number of complaints. "
   ]
  },
  {
   "cell_type": "code",
   "execution_count": 229,
   "metadata": {
    "collapsed": false
   },
   "outputs": [
    {
     "data": {
      "text/plain": [
       "<matplotlib.text.Text at 0x7f0a64c21550>"
      ]
     },
     "execution_count": 229,
     "metadata": {},
     "output_type": "execute_result"
    },
    {
     "data": {
      "image/png": "[encoded data removed]",
      "text/plain": [
       "<matplotlib.figure.Figure at 0x7f0a64c8fa50>"
      ]
     },
     "metadata": {},
     "output_type": "display_data"
    }
   ],
   "source": [
    "pl.figure(figsize = (6, 6))\n",
    "\n",
    "pl.plot(df123['Total Population'], df123['Complaints'], 'o')\n",
    "pl.xlabel('Total Population')\n",
    "pl.ylabel('Number of Complaints')"
   ]
  },
  {
   "cell_type": "markdown",
   "metadata": {},
   "source": [
    "Here we find that an increase on total population increase the number of complaints. The linear correlation is clear.\n"
   ]
  },
  {
   "cell_type": "code",
   "execution_count": 234,
   "metadata": {
    "collapsed": false,
    "scrolled": false
   },
   "outputs": [
    {
     "data": {
      "text/plain": [
       "<matplotlib.text.Text at 0x7f0a64b59150>"
      ]
     },
     "execution_count": 234,
     "metadata": {},
     "output_type": "execute_result"
    },
    {
     "data": {
      "image/png": "[encoded data removed]",
      "text/plain": [
       "<matplotlib.figure.Figure at 0x7f0a64baa250>"
      ]
     },
     "metadata": {},
     "output_type": "display_data"
    }
   ],
   "source": [
    "pl.figure(figsize = (6, 6))\n",
    "\n",
    "pl.plot(df123['Broadband'], df123['Complaints'], 'o')\n",
    "pl.xlabel('Total Broadband users')\n",
    "pl.ylabel('Number of Complaints')"
   ]
  },
  {
   "cell_type": "code",
   "execution_count": 235,
   "metadata": {
    "collapsed": false,
    "scrolled": false
   },
   "outputs": [
    {
     "data": {
      "text/plain": [
       "<matplotlib.text.Text at 0x7f0a64b6f750>"
      ]
     },
     "execution_count": 235,
     "metadata": {},
     "output_type": "execute_result"
    },
    {
     "data": {
      "image/png": "[encoded data removed]",
      "text/plain": [
       "<matplotlib.figure.Figure at 0x7f0a64ae1d10>"
      ]
     },
     "metadata": {},
     "output_type": "display_data"
    }
   ],
   "source": [
    "pl.figure(figsize = (6, 6))\n",
    "\n",
    "pl.plot(df123['Low Connection'], df123['Complaints'], 'o')\n",
    "pl.xlabel('Total Low Connectivity users')\n",
    "pl.ylabel('Number of Complaints')"
   ]
  },
  {
   "cell_type": "markdown",
   "metadata": {},
   "source": [
    "Here we see that people who can afford broadband connections complain less that others who can't afford a Broadband\n"
   ]
  }
 ],
 "metadata": {
  "celltoolbar": "Raw Cell Format",
  "kernelspec": {
   "display_name": "PUI2016_Python2",
   "language": "python",
   "name": "pui2016_python2"
  },
  "language_info": {
   "codemirror_mode": {
    "name": "ipython",
    "version": 2
   },
   "file_extension": ".py",
   "mimetype": "text/x-python",
   "name": "python",
   "nbconvert_exporter": "python",
   "pygments_lexer": "ipython2",
   "version": "2.7.12"
  }
 },
 "nbformat": 4,
 "nbformat_minor": 0
}
