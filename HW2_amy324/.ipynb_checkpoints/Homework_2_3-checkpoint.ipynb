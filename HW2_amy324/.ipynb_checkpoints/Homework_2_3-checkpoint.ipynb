{
 "cells": [
  {
   "cell_type": "code",
   "execution_count": 36,
   "metadata": {
    "collapsed": false
   },
   "outputs": [
    {
     "name": "stdout",
     "output_type": "stream",
     "text": [
      "Populating the interactive namespace from numpy and matplotlib\n"
     ]
    }
   ],
   "source": [
    "from __future__ import print_function\n",
    "import numpy as np\n",
    "import pylab as pl\n",
    "import matplotlib.pyplot as plt\n",
    "import pandas as pd\n",
    "import os\n",
    "\n",
    "%matplotlib inline\n",
    "%pylab inline"
   ]
  },
  {
   "cell_type": "code",
   "execution_count": 3,
   "metadata": {
    "collapsed": true
   },
   "outputs": [],
   "source": [
    "DFdata = os.getenv('DFDATA')"
   ]
  },
  {
   "cell_type": "code",
   "execution_count": 28,
   "metadata": {
    "collapsed": false
   },
   "outputs": [],
   "source": [
    "math_grades = pd.read_csv(DFdata + \"/zpd4-gad8/1414245852/zpd4-gad8\")"
   ]
  },
  {
   "cell_type": "code",
   "execution_count": 24,
   "metadata": {
    "collapsed": false
   },
   "outputs": [
    {
     "data": {
      "text/html": [
       "<div>\n",
       "<table border=\"1\" class=\"dataframe\">\n",
       "  <thead>\n",
       "    <tr style=\"text-align: right;\">\n",
       "      <th></th>\n",
       "      <th>Borough</th>\n",
       "      <th>Grade</th>\n",
       "      <th>Year</th>\n",
       "      <th>Category</th>\n",
       "      <th>Number Tested</th>\n",
       "      <th>Mean Scale Score</th>\n",
       "      <th>Level 1 #</th>\n",
       "      <th>Level 1 %</th>\n",
       "      <th>Level 2 #</th>\n",
       "      <th>Level 2 %</th>\n",
       "      <th>Level 3 #</th>\n",
       "      <th>Level 3 %</th>\n",
       "      <th>Level 4 #</th>\n",
       "      <th>Level 4 %</th>\n",
       "      <th>Level 3+4 #</th>\n",
       "      <th>Level 3+4 %</th>\n",
       "    </tr>\n",
       "  </thead>\n",
       "  <tbody>\n",
       "    <tr>\n",
       "      <th>0</th>\n",
       "      <td>BRONX</td>\n",
       "      <td>3</td>\n",
       "      <td>2006</td>\n",
       "      <td>ELL</td>\n",
       "      <td>3754</td>\n",
       "      <td>645</td>\n",
       "      <td>876</td>\n",
       "      <td>23.3%</td>\n",
       "      <td>1037</td>\n",
       "      <td>27.6%</td>\n",
       "      <td>1639</td>\n",
       "      <td>43.7%</td>\n",
       "      <td>202</td>\n",
       "      <td>5.4%</td>\n",
       "      <td>1841</td>\n",
       "      <td>49%</td>\n",
       "    </tr>\n",
       "    <tr>\n",
       "      <th>1</th>\n",
       "      <td>BRONX</td>\n",
       "      <td>3</td>\n",
       "      <td>2006</td>\n",
       "      <td>EP</td>\n",
       "      <td>12691</td>\n",
       "      <td>669</td>\n",
       "      <td>1186</td>\n",
       "      <td>9.3%</td>\n",
       "      <td>2220</td>\n",
       "      <td>17.5%</td>\n",
       "      <td>6979</td>\n",
       "      <td>55%</td>\n",
       "      <td>2306</td>\n",
       "      <td>18.2%</td>\n",
       "      <td>9285</td>\n",
       "      <td>73.2%</td>\n",
       "    </tr>\n",
       "    <tr>\n",
       "      <th>2</th>\n",
       "      <td>BRONX</td>\n",
       "      <td>3</td>\n",
       "      <td>2007</td>\n",
       "      <td>ELL</td>\n",
       "      <td>3726</td>\n",
       "      <td>659</td>\n",
       "      <td>489</td>\n",
       "      <td>13.1%</td>\n",
       "      <td>908</td>\n",
       "      <td>24.4%</td>\n",
       "      <td>1953</td>\n",
       "      <td>52.4%</td>\n",
       "      <td>376</td>\n",
       "      <td>10.1%</td>\n",
       "      <td>2329</td>\n",
       "      <td>62.5%</td>\n",
       "    </tr>\n",
       "    <tr>\n",
       "      <th>3</th>\n",
       "      <td>BRONX</td>\n",
       "      <td>3</td>\n",
       "      <td>2007</td>\n",
       "      <td>EP</td>\n",
       "      <td>12463</td>\n",
       "      <td>678</td>\n",
       "      <td>756</td>\n",
       "      <td>6.1%</td>\n",
       "      <td>1732</td>\n",
       "      <td>13.9%</td>\n",
       "      <td>7043</td>\n",
       "      <td>56.5%</td>\n",
       "      <td>2932</td>\n",
       "      <td>23.5%</td>\n",
       "      <td>9975</td>\n",
       "      <td>80%</td>\n",
       "    </tr>\n",
       "    <tr>\n",
       "      <th>4</th>\n",
       "      <td>BRONX</td>\n",
       "      <td>3</td>\n",
       "      <td>2008</td>\n",
       "      <td>ELL</td>\n",
       "      <td>3311</td>\n",
       "      <td>666</td>\n",
       "      <td>205</td>\n",
       "      <td>6.2%</td>\n",
       "      <td>620</td>\n",
       "      <td>18.7%</td>\n",
       "      <td>2242</td>\n",
       "      <td>67.7%</td>\n",
       "      <td>244</td>\n",
       "      <td>7.4%</td>\n",
       "      <td>2486</td>\n",
       "      <td>75.1%</td>\n",
       "    </tr>\n",
       "  </tbody>\n",
       "</table>\n",
       "</div>"
      ],
      "text/plain": [
       "  Borough Grade  Year Category  Number Tested  Mean Scale Score  Level 1 #  \\\n",
       "0   BRONX     3  2006      ELL           3754               645        876   \n",
       "1   BRONX     3  2006       EP          12691               669       1186   \n",
       "2   BRONX     3  2007      ELL           3726               659        489   \n",
       "3   BRONX     3  2007       EP          12463               678        756   \n",
       "4   BRONX     3  2008      ELL           3311               666        205   \n",
       "\n",
       "  Level 1 %  Level 2 # Level 2 %  Level 3 # Level 3 %  Level 4 # Level 4 %  \\\n",
       "0     23.3%       1037     27.6%       1639     43.7%        202      5.4%   \n",
       "1      9.3%       2220     17.5%       6979       55%       2306     18.2%   \n",
       "2     13.1%        908     24.4%       1953     52.4%        376     10.1%   \n",
       "3      6.1%       1732     13.9%       7043     56.5%       2932     23.5%   \n",
       "4      6.2%        620     18.7%       2242     67.7%        244      7.4%   \n",
       "\n",
       "   Level 3+4 # Level 3+4 %  \n",
       "0         1841         49%  \n",
       "1         9285       73.2%  \n",
       "2         2329       62.5%  \n",
       "3         9975         80%  \n",
       "4         2486       75.1%  "
      ]
     },
     "execution_count": 24,
     "metadata": {},
     "output_type": "execute_result"
    }
   ],
   "source": [
    "math_grades.head()"
   ]
  },
  {
   "cell_type": "code",
   "execution_count": 29,
   "metadata": {
    "collapsed": true
   },
   "outputs": [],
   "source": [
    "math_grades.drop(['Borough', 'Category', 'Number Tested', 'Level 1 #', 'Level 1 %', \n",
    "                 'Level 2 #', 'Level 2 %', 'Level 3 #', 'Level 3 %', 'Level 4 #', \n",
    "                 'Level 4 %', 'Level 3+4 #', 'Level 3+4 %', 'Year'], axis=1, inplace=True)"
   ]
  },
  {
   "cell_type": "code",
   "execution_count": 66,
   "metadata": {
    "collapsed": false,
    "scrolled": true
   },
   "outputs": [
    {
     "data": {
      "text/html": [
       "<div>\n",
       "<table border=\"1\" class=\"dataframe\">\n",
       "  <thead>\n",
       "    <tr style=\"text-align: right;\">\n",
       "      <th></th>\n",
       "      <th>Grade</th>\n",
       "      <th>Mean Scale Score</th>\n",
       "    </tr>\n",
       "  </thead>\n",
       "  <tbody>\n",
       "    <tr>\n",
       "      <th>0</th>\n",
       "      <td>3</td>\n",
       "      <td>645</td>\n",
       "    </tr>\n",
       "    <tr>\n",
       "      <th>1</th>\n",
       "      <td>3</td>\n",
       "      <td>669</td>\n",
       "    </tr>\n",
       "    <tr>\n",
       "      <th>2</th>\n",
       "      <td>3</td>\n",
       "      <td>659</td>\n",
       "    </tr>\n",
       "    <tr>\n",
       "      <th>3</th>\n",
       "      <td>3</td>\n",
       "      <td>678</td>\n",
       "    </tr>\n",
       "    <tr>\n",
       "      <th>4</th>\n",
       "      <td>3</td>\n",
       "      <td>666</td>\n",
       "    </tr>\n",
       "  </tbody>\n",
       "</table>\n",
       "</div>"
      ],
      "text/plain": [
       "  Grade  Mean Scale Score\n",
       "0     3               645\n",
       "1     3               669\n",
       "2     3               659\n",
       "3     3               678\n",
       "4     3               666"
      ]
     },
     "execution_count": 66,
     "metadata": {},
     "output_type": "execute_result"
    }
   ],
   "source": [
    "math_grades.head()"
   ]
  },
  {
   "cell_type": "code",
   "execution_count": 78,
   "metadata": {
    "collapsed": true
   },
   "outputs": [],
   "source": [
    "math_grades.Grade = math_grades.Grade.replace('All Grades', 10)"
   ]
  },
  {
   "cell_type": "code",
   "execution_count": 79,
   "metadata": {
    "collapsed": false,
    "scrolled": true
   },
   "outputs": [
    {
     "data": {
      "text/plain": [
       "array(['3', '3', '3', '3', '3', '3', '3', '3', '3', '3', '3', '3', '4',\n",
       "       '4', '4', '4', '4', '4', '4', '4', '4', '4', '4', '4', '5', '5',\n",
       "       '5', '5', '5', '5', '5', '5', '5', '5', '5', '5', '6', '6', '6',\n",
       "       '6', '6', '6', '6', '6', '6', '6', '6', '6', '7', '7', '7', '7',\n",
       "       '7', '7', '7', '7', '7', '7', '7', '7', '8', '8', '8', '8', '8',\n",
       "       '8', '8', '8', '8', '8', '8', '8', 10, 10, 10, 10, 10, 10, 10, 10,\n",
       "       10, 10, 10, 10, '3', '3', '3', '3', '3', '3', '3', '3', '3', '3',\n",
       "       '3', '3', '4', '4', '4', '4', '4', '4', '4', '4', '4', '4', '4',\n",
       "       '4', '5', '5', '5', '5', '5', '5', '5', '5', '5', '5', '5', '5',\n",
       "       '6', '6', '6', '6', '6', '6', '6', '6', '6', '6', '6', '6', '7',\n",
       "       '7', '7', '7', '7', '7', '7', '7', '7', '7', '7', '7', '8', '8',\n",
       "       '8', '8', '8', '8', '8', '8', '8', '8', '8', '8', 10, 10, 10, 10,\n",
       "       10, 10, 10, 10, 10, 10, 10, 10, '3', '3', '3', '3', '3', '3', '3',\n",
       "       '3', '3', '3', '3', '3', '4', '4', '4', '4', '4', '4', '4', '4',\n",
       "       '4', '4', '4', '4', '5', '5', '5', '5', '5', '5', '5', '5', '5',\n",
       "       '5', '5', '5', '6', '6', '6', '6', '6', '6', '6', '6', '6', '6',\n",
       "       '6', '6', '7', '7', '7', '7', '7', '7', '7', '7', '7', '7', '7',\n",
       "       '7', '8', '8', '8', '8', '8', '8', '8', '8', '8', '8', '8', '8', 10,\n",
       "       10, 10, 10, 10, 10, 10, 10, 10, 10, 10, 10, '3', '3', '3', '3', '3',\n",
       "       '3', '3', '3', '3', '3', '3', '3', '4', '4', '4', '4', '4', '4',\n",
       "       '4', '4', '4', '4', '4', '4', '5', '5', '5', '5', '5', '5', '5',\n",
       "       '5', '5', '5', '5', '5', '6', '6', '6', '6', '6', '6', '6', '6',\n",
       "       '6', '6', '6', '6', '7', '7', '7', '7', '7', '7', '7', '7', '7',\n",
       "       '7', '7', '7', '8', '8', '8', '8', '8', '8', '8', '8', '8', '8',\n",
       "       '8', '8', 10, 10, 10, 10, 10, 10, 10, 10, 10, 10, 10, 10, '3', '3',\n",
       "       '3', '3', '3', '3', '3', '3', '3', '3', '3', '3', '4', '4', '4',\n",
       "       '4', '4', '4', '4', '4', '4', '4', '4', '4', '5', '5', '5', '5',\n",
       "       '5', '5', '5', '5', '5', '5', '5', '5', '6', '6', '6', '6', '6',\n",
       "       '6', '6', '6', '6', '6', '6', '6', '7', '7', '7', '7', '7', '7',\n",
       "       '7', '7', '7', '7', '7', '7', '8', '8', '8', '8', '8', '8', '8',\n",
       "       '8', '8', '8', '8', '8', 10, 10, 10, 10, 10, 10, 10, 10, 10, 10, 10,\n",
       "       10], dtype=object)"
      ]
     },
     "execution_count": 79,
     "metadata": {},
     "output_type": "execute_result"
    }
   ],
   "source": [
    "x = np.array(math_grades['Grade'])\n",
    "x"
   ]
  },
  {
   "cell_type": "code",
   "execution_count": 80,
   "metadata": {
    "collapsed": false,
    "scrolled": true
   },
   "outputs": [
    {
     "data": {
      "image/png": "[encoded data removed]",
      "text/plain": [
       "<matplotlib.figure.Figure at 0x7ff80d1bf590>"
      ]
     },
     "metadata": {},
     "output_type": "display_data"
    }
   ],
   "source": [
    "fig = plt.figure()\n",
    "fig.gca()\n",
    "plt.scatter(np.array(math_grades['Grade']), np.array(math_grades['Mean Scale Score']))\n",
    "plt.show()"
   ]
  }
 ],
 "metadata": {
  "kernelspec": {
   "display_name": "PUI2016_Python2",
   "language": "python",
   "name": "pui2016_python2"
  },
  "language_info": {
   "codemirror_mode": {
    "name": "ipython",
    "version": 2
   },
   "file_extension": ".py",
   "mimetype": "text/x-python",
   "name": "python",
   "nbconvert_exporter": "python",
   "pygments_lexer": "ipython2",
   "version": "2.7.12"
  }
 },
 "nbformat": 4,
 "nbformat_minor": 0
}
