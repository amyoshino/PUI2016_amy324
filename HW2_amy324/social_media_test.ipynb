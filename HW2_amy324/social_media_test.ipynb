{
 "cells": [
  {
   "cell_type": "code",
   "execution_count": 1,
   "metadata": {
    "collapsed": false
   },
   "outputs": [
    {
     "name": "stdout",
     "output_type": "stream",
     "text": [
      "Populating the interactive namespace from numpy and matplotlib\n"
     ]
    }
   ],
   "source": [
    "from __future__ import print_function\n",
    "import numpy as np\n",
    "import pylab as pl\n",
    "import matplotlib.pyplot as plt\n",
    "import pandas as pd\n",
    "import os\n",
    "\n",
    "%matplotlib inline\n",
    "%pylab inline"
   ]
  },
  {
   "cell_type": "code",
   "execution_count": 2,
   "metadata": {
    "collapsed": true
   },
   "outputs": [],
   "source": [
    "DFdata = os.getenv('DFDATA')"
   ]
  },
  {
   "cell_type": "code",
   "execution_count": 3,
   "metadata": {
    "collapsed": false
   },
   "outputs": [
    {
     "data": {
      "text/plain": [
       "'/gws/open/NYCOpenData/nycopendata/data'"
      ]
     },
     "execution_count": 3,
     "metadata": {},
     "output_type": "execute_result"
    }
   ],
   "source": [
    "DFdata"
   ]
  },
  {
   "cell_type": "code",
   "execution_count": 4,
   "metadata": {
    "collapsed": false
   },
   "outputs": [
    {
     "name": "stdout",
     "output_type": "stream",
     "text": [
      "/gws/open/NYCOpenData/nycopendata/data\n"
     ]
    }
   ],
   "source": [
    "social_media = pd.read_csv(DFdata + \"/5b3a-rs48/1414245944/5b3a-rs48\")\n",
    "print (DFdata)"
   ]
  },
  {
   "cell_type": "code",
   "execution_count": 5,
   "metadata": {
    "collapsed": false
   },
   "outputs": [
    {
     "data": {
      "text/html": [
       "<div>\n",
       "<table border=\"1\" class=\"dataframe\">\n",
       "  <thead>\n",
       "    <tr style=\"text-align: right;\">\n",
       "      <th></th>\n",
       "      <th>Agency</th>\n",
       "      <th>Platform</th>\n",
       "      <th>Url</th>\n",
       "      <th>Date Sampled</th>\n",
       "      <th>Likes/Followers/Visits/Downloads</th>\n",
       "    </tr>\n",
       "  </thead>\n",
       "  <tbody>\n",
       "    <tr>\n",
       "      <th>0</th>\n",
       "      <td>nycgov</td>\n",
       "      <td>Google+</td>\n",
       "      <td>https://plus.google.com/u/0/b/1040309112776424...</td>\n",
       "      <td>12/12/2012 12:00:00 AM</td>\n",
       "      <td>NaN</td>\n",
       "    </tr>\n",
       "    <tr>\n",
       "      <th>1</th>\n",
       "      <td>TLC</td>\n",
       "      <td>Facebook</td>\n",
       "      <td>http://www.facebook.com/pages/NYC-Taxi-and-Lim...</td>\n",
       "      <td>12/12/2012 12:00:00 AM</td>\n",
       "      <td>505.0</td>\n",
       "    </tr>\n",
       "    <tr>\n",
       "      <th>2</th>\n",
       "      <td>DRIS</td>\n",
       "      <td>YouTube</td>\n",
       "      <td>http://www.youtube.com/nycdeptofrecords</td>\n",
       "      <td>12/12/2012 12:00:00 AM</td>\n",
       "      <td>NaN</td>\n",
       "    </tr>\n",
       "    <tr>\n",
       "      <th>3</th>\n",
       "      <td>Veteran's Affairs</td>\n",
       "      <td>Youtube</td>\n",
       "      <td>http://www.youtube.com/channel/UCi6IvOszIb3hHP...</td>\n",
       "      <td>12/12/2012 12:00:00 AM</td>\n",
       "      <td>NaN</td>\n",
       "    </tr>\n",
       "    <tr>\n",
       "      <th>4</th>\n",
       "      <td>NYC Water</td>\n",
       "      <td>Youtube</td>\n",
       "      <td>http://www.youtube.com/nycwater</td>\n",
       "      <td>12/12/2012 12:00:00 AM</td>\n",
       "      <td>NaN</td>\n",
       "    </tr>\n",
       "  </tbody>\n",
       "</table>\n",
       "</div>"
      ],
      "text/plain": [
       "              Agency  Platform  \\\n",
       "0             nycgov   Google+   \n",
       "1                TLC  Facebook   \n",
       "2               DRIS   YouTube   \n",
       "3  Veteran's Affairs   Youtube   \n",
       "4          NYC Water   Youtube   \n",
       "\n",
       "                                                 Url            Date Sampled  \\\n",
       "0  https://plus.google.com/u/0/b/1040309112776424...  12/12/2012 12:00:00 AM   \n",
       "1  http://www.facebook.com/pages/NYC-Taxi-and-Lim...  12/12/2012 12:00:00 AM   \n",
       "2            http://www.youtube.com/nycdeptofrecords  12/12/2012 12:00:00 AM   \n",
       "3  http://www.youtube.com/channel/UCi6IvOszIb3hHP...  12/12/2012 12:00:00 AM   \n",
       "4                    http://www.youtube.com/nycwater  12/12/2012 12:00:00 AM   \n",
       "\n",
       "   Likes/Followers/Visits/Downloads  \n",
       "0                               NaN  \n",
       "1                             505.0  \n",
       "2                               NaN  \n",
       "3                               NaN  \n",
       "4                               NaN  "
      ]
     },
     "execution_count": 5,
     "metadata": {},
     "output_type": "execute_result"
    }
   ],
   "source": [
    "social_media.head()"
   ]
  },
  {
   "cell_type": "code",
   "execution_count": 6,
   "metadata": {
    "collapsed": true
   },
   "outputs": [],
   "source": [
    "social_media.drop(['Agency', 'Url', 'Likes/Followers/Visits/Downloads'], axis=1, inplace=True)"
   ]
  },
  {
   "cell_type": "code",
   "execution_count": 7,
   "metadata": {
    "collapsed": false,
    "scrolled": true
   },
   "outputs": [
    {
     "data": {
      "text/html": [
       "<div>\n",
       "<table border=\"1\" class=\"dataframe\">\n",
       "  <thead>\n",
       "    <tr style=\"text-align: right;\">\n",
       "      <th></th>\n",
       "      <th>Platform</th>\n",
       "      <th>Date Sampled</th>\n",
       "    </tr>\n",
       "  </thead>\n",
       "  <tbody>\n",
       "    <tr>\n",
       "      <th>0</th>\n",
       "      <td>Google+</td>\n",
       "      <td>12/12/2012 12:00:00 AM</td>\n",
       "    </tr>\n",
       "    <tr>\n",
       "      <th>1</th>\n",
       "      <td>Facebook</td>\n",
       "      <td>12/12/2012 12:00:00 AM</td>\n",
       "    </tr>\n",
       "    <tr>\n",
       "      <th>2</th>\n",
       "      <td>YouTube</td>\n",
       "      <td>12/12/2012 12:00:00 AM</td>\n",
       "    </tr>\n",
       "    <tr>\n",
       "      <th>3</th>\n",
       "      <td>Youtube</td>\n",
       "      <td>12/12/2012 12:00:00 AM</td>\n",
       "    </tr>\n",
       "    <tr>\n",
       "      <th>4</th>\n",
       "      <td>Youtube</td>\n",
       "      <td>12/12/2012 12:00:00 AM</td>\n",
       "    </tr>\n",
       "  </tbody>\n",
       "</table>\n",
       "</div>"
      ],
      "text/plain": [
       "   Platform            Date Sampled\n",
       "0   Google+  12/12/2012 12:00:00 AM\n",
       "1  Facebook  12/12/2012 12:00:00 AM\n",
       "2   YouTube  12/12/2012 12:00:00 AM\n",
       "3   Youtube  12/12/2012 12:00:00 AM\n",
       "4   Youtube  12/12/2012 12:00:00 AM"
      ]
     },
     "execution_count": 7,
     "metadata": {},
     "output_type": "execute_result"
    }
   ],
   "source": [
    "social_media.head()"
   ]
  },
  {
   "cell_type": "code",
   "execution_count": 8,
   "metadata": {
    "collapsed": false
   },
   "outputs": [
    {
     "name": "stdout",
     "output_type": "stream",
     "text": [
      "set(['Pinterest', 'SMS', 'iPhone app', 'Foursquare', 'Android', 'Flickr', 'Linked-In', 'YouTube', 'Facebook', 'TOTAL', 'nyc.gov', 'Google+', 'Vimeo', 'Youtube', 'iPhone', 'Foursquare (Badge Unlock)', 'Instagram', 'Twitter', 'Tumblr', 'Broadcastr', 'WordPress', 'iPhone App', 'Newsletter'])\n"
     ]
    }
   ],
   "source": [
    "social_list = set(social_media.Platform)\n",
    "print (social_list)"
   ]
  },
  {
   "cell_type": "code",
   "execution_count": 9,
   "metadata": {
    "collapsed": true
   },
   "outputs": [],
   "source": [
    "platform_keys = {\n",
    "    'Pinterest' : 0, 'SMS' : 1, 'iPhone app' : 3, 'iPhone' : 3, 'iPhone App' : 3,\n",
    "    'Foursquare' : 4, 'Foursquare (Badge Unlock)' : 4, 'Android' : 5, 'Flickr' : 6, \n",
    "    'Linked-In' : 7, 'YouTube' : 8, 'Youtube' : 8, 'Facebook' : 9, 'TOTAL' : 10,\n",
    "    'nyc.gov' : 11, 'Google+' : 12, 'Vimeo' : 13,  'Instagram' : 14, 'Twitter' : 15,\n",
    "    'Tumblr' : 16, 'Broadcastr' : 17, 'WordPress' : 18,  'Newsletter' : 19\n",
    "}"
   ]
  },
  {
   "cell_type": "code",
   "execution_count": 10,
   "metadata": {
    "collapsed": true
   },
   "outputs": [],
   "source": [
    "social_media['Platforms'] = social_media['Platform'].map(platform_keys) "
   ]
  },
  {
   "cell_type": "code",
   "execution_count": 11,
   "metadata": {
    "collapsed": false,
    "scrolled": true
   },
   "outputs": [
    {
     "data": {
      "text/html": [
       "<div>\n",
       "<table border=\"1\" class=\"dataframe\">\n",
       "  <thead>\n",
       "    <tr style=\"text-align: right;\">\n",
       "      <th></th>\n",
       "      <th>Platform</th>\n",
       "      <th>Date Sampled</th>\n",
       "      <th>Platforms</th>\n",
       "    </tr>\n",
       "  </thead>\n",
       "  <tbody>\n",
       "    <tr>\n",
       "      <th>0</th>\n",
       "      <td>Google+</td>\n",
       "      <td>12/12/2012 12:00:00 AM</td>\n",
       "      <td>12</td>\n",
       "    </tr>\n",
       "    <tr>\n",
       "      <th>1</th>\n",
       "      <td>Facebook</td>\n",
       "      <td>12/12/2012 12:00:00 AM</td>\n",
       "      <td>9</td>\n",
       "    </tr>\n",
       "    <tr>\n",
       "      <th>2</th>\n",
       "      <td>YouTube</td>\n",
       "      <td>12/12/2012 12:00:00 AM</td>\n",
       "      <td>8</td>\n",
       "    </tr>\n",
       "    <tr>\n",
       "      <th>3</th>\n",
       "      <td>Youtube</td>\n",
       "      <td>12/12/2012 12:00:00 AM</td>\n",
       "      <td>8</td>\n",
       "    </tr>\n",
       "    <tr>\n",
       "      <th>4</th>\n",
       "      <td>Youtube</td>\n",
       "      <td>12/12/2012 12:00:00 AM</td>\n",
       "      <td>8</td>\n",
       "    </tr>\n",
       "  </tbody>\n",
       "</table>\n",
       "</div>"
      ],
      "text/plain": [
       "   Platform            Date Sampled  Platforms\n",
       "0   Google+  12/12/2012 12:00:00 AM         12\n",
       "1  Facebook  12/12/2012 12:00:00 AM          9\n",
       "2   YouTube  12/12/2012 12:00:00 AM          8\n",
       "3   Youtube  12/12/2012 12:00:00 AM          8\n",
       "4   Youtube  12/12/2012 12:00:00 AM          8"
      ]
     },
     "execution_count": 11,
     "metadata": {},
     "output_type": "execute_result"
    }
   ],
   "source": [
    "social_media.head()"
   ]
  },
  {
   "cell_type": "code",
   "execution_count": 12,
   "metadata": {
    "collapsed": false,
    "scrolled": true
   },
   "outputs": [],
   "source": [
    "social_media['Date Sampled'] = pd.to_datetime(social_media['Date Sampled'])"
   ]
  },
  {
   "cell_type": "code",
   "execution_count": 18,
   "metadata": {
    "collapsed": false
   },
   "outputs": [
    {
     "data": {
      "image/png": "[encoded data removed]",
      "text/plain": [
       "<matplotlib.figure.Figure at 0x7fa97866d610>"
      ]
     },
     "metadata": {},
     "output_type": "display_data"
    }
   ],
   "source": [
    "fig = plt.figure(figsize=(10,10))\n",
    "fig.gca()\n",
    "plt.plot(np.array(social_media['Date Sampled']), np.array(social_media['Platforms']), '.')\n",
    "plt.show()"
   ]
  },
  {
   "cell_type": "code",
   "execution_count": 45,
   "metadata": {
    "collapsed": false,
    "scrolled": true
   },
   "outputs": [
    {
     "ename": "SyntaxError",
     "evalue": "invalid syntax (<ipython-input-45-71a39f1ff62c>, line 2)",
     "output_type": "error",
     "traceback": [
      "\u001b[0;36m  File \u001b[0;32m\"<ipython-input-45-71a39f1ff62c>\"\u001b[0;36m, line \u001b[0;32m2\u001b[0m\n\u001b[0;31m    social_media.plot(x ='Date Sampled', y ='Platforms'))\u001b[0m\n\u001b[0m                                                        ^\u001b[0m\n\u001b[0;31mSyntaxError\u001b[0m\u001b[0;31m:\u001b[0m invalid syntax\n"
     ]
    }
   ],
   "source": [
    "fig = plt.figure()\n",
    "social_media.plot(x ='Date Sampled', y ='Platforms'))\n",
    "plt.show()"
   ]
  }
 ],
 "metadata": {
  "kernelspec": {
   "display_name": "PUI2016_Python2",
   "language": "python",
   "name": "pui2016_python2"
  },
  "language_info": {
   "codemirror_mode": {
    "name": "ipython",
    "version": 2
   },
   "file_extension": ".py",
   "mimetype": "text/x-python",
   "name": "python",
   "nbconvert_exporter": "python",
   "pygments_lexer": "ipython2",
   "version": "2.7.12"
  }
 },
 "nbformat": 4,
 "nbformat_minor": 0
}
