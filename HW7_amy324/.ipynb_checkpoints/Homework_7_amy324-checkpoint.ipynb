{
 "cells": [
  {
   "cell_type": "code",
   "execution_count": 4,
   "metadata": {
    "collapsed": false
   },
   "outputs": [
    {
     "name": "stdout",
     "output_type": "stream",
     "text": [
      "Populating the interactive namespace from numpy and matplotlib\n"
     ]
    },
    {
     "name": "stderr",
     "output_type": "stream",
     "text": [
      "/opt/rh/anaconda/root/envs/PUI2016_Python2/lib/python2.7/site-packages/IPython/core/magics/pylab.py:161: UserWarning: pylab import has clobbered these variables: ['plt']\n",
      "`%matplotlib` prevents importing * from pylab and numpy\n",
      "  \"\\n`%matplotlib` prevents importing * from pylab and numpy\"\n"
     ]
    }
   ],
   "source": [
    "from __future__ import print_function\n",
    "import numpy as np\n",
    "import pandas as pd\n",
    "import pylab as pl\n",
    "import matplotlib as plt\n",
    "import os\n",
    "import json\n",
    "\n",
    "%pylab inline"
   ]
  },
  {
   "cell_type": "code",
   "execution_count": 5,
   "metadata": {
    "collapsed": false
   },
   "outputs": [
    {
     "data": {
      "text/plain": [
       "'/home/cusp/amy324/PUIdata'"
      ]
     },
     "execution_count": 5,
     "metadata": {},
     "output_type": "execute_result"
    }
   ],
   "source": [
    "os.getenv('PUIDATA')"
   ]
  },
  {
   "cell_type": "code",
   "execution_count": 27,
   "metadata": {
    "collapsed": true
   },
   "outputs": [],
   "source": [
    "url = 'http://www.armazemdedados.rio.rj.gov.br/arquivos/879_rendimento%20mensal%20m%C3%A9dio%20oriundo%20do%20trabalho.XLS'"
   ]
  },
  {
   "cell_type": "code",
   "execution_count": 113,
   "metadata": {
    "collapsed": false
   },
   "outputs": [],
   "source": [
    "data = pd.read_excel(url, header=3)"
   ]
  },
  {
   "cell_type": "code",
   "execution_count": 114,
   "metadata": {
    "collapsed": false,
    "scrolled": true
   },
   "outputs": [
    {
     "data": {
      "text/html": [
       "<div>\n",
       "<table border=\"1\" class=\"dataframe\">\n",
       "  <thead>\n",
       "    <tr style=\"text-align: right;\">\n",
       "      <th></th>\n",
       "      <th>Regiões Administrativas</th>\n",
       "      <th>Masculino</th>\n",
       "      <th>Feminino</th>\n",
       "    </tr>\n",
       "  </thead>\n",
       "  <tbody>\n",
       "    <tr>\n",
       "      <th>0</th>\n",
       "      <td>NaN</td>\n",
       "      <td>NaN</td>\n",
       "      <td>NaN</td>\n",
       "    </tr>\n",
       "    <tr>\n",
       "      <th>1</th>\n",
       "      <td>Rio de Janeiro</td>\n",
       "      <td>589.355990</td>\n",
       "      <td>252.592167</td>\n",
       "    </tr>\n",
       "    <tr>\n",
       "      <th>2</th>\n",
       "      <td>NaN</td>\n",
       "      <td>NaN</td>\n",
       "      <td>NaN</td>\n",
       "    </tr>\n",
       "    <tr>\n",
       "      <th>3</th>\n",
       "      <td>I Portuária</td>\n",
       "      <td>289.797861</td>\n",
       "      <td>129.347992</td>\n",
       "    </tr>\n",
       "    <tr>\n",
       "      <th>4</th>\n",
       "      <td>II Centro</td>\n",
       "      <td>557.897652</td>\n",
       "      <td>319.294736</td>\n",
       "    </tr>\n",
       "  </tbody>\n",
       "</table>\n",
       "</div>"
      ],
      "text/plain": [
       "  Regiões Administrativas   Masculino    Feminino\n",
       "0                     NaN         NaN         NaN\n",
       "1          Rio de Janeiro  589.355990  252.592167\n",
       "2                     NaN         NaN         NaN\n",
       "3             I Portuária  289.797861  129.347992\n",
       "4               II Centro  557.897652  319.294736"
      ]
     },
     "execution_count": 114,
     "metadata": {},
     "output_type": "execute_result"
    }
   ],
   "source": [
    "data.head(5)"
   ]
  },
  {
   "cell_type": "code",
   "execution_count": 115,
   "metadata": {
    "collapsed": false
   },
   "outputs": [],
   "source": [
    "# Cleaning data - excluding row 0 and 2 \n",
    "data.drop([0, 2], axis=0, inplace=True)"
   ]
  },
  {
   "cell_type": "code",
   "execution_count": 116,
   "metadata": {
    "collapsed": false
   },
   "outputs": [
    {
     "data": {
      "text/html": [
       "<div>\n",
       "<table border=\"1\" class=\"dataframe\">\n",
       "  <thead>\n",
       "    <tr style=\"text-align: right;\">\n",
       "      <th></th>\n",
       "      <th>Regiões Administrativas</th>\n",
       "      <th>Masculino</th>\n",
       "      <th>Feminino</th>\n",
       "    </tr>\n",
       "  </thead>\n",
       "  <tbody>\n",
       "    <tr>\n",
       "      <th>1</th>\n",
       "      <td>Rio de Janeiro</td>\n",
       "      <td>589.355990</td>\n",
       "      <td>252.592167</td>\n",
       "    </tr>\n",
       "    <tr>\n",
       "      <th>3</th>\n",
       "      <td>I Portuária</td>\n",
       "      <td>289.797861</td>\n",
       "      <td>129.347992</td>\n",
       "    </tr>\n",
       "    <tr>\n",
       "      <th>4</th>\n",
       "      <td>II Centro</td>\n",
       "      <td>557.897652</td>\n",
       "      <td>319.294736</td>\n",
       "    </tr>\n",
       "    <tr>\n",
       "      <th>5</th>\n",
       "      <td>III Rio Comprido</td>\n",
       "      <td>431.134579</td>\n",
       "      <td>220.902467</td>\n",
       "    </tr>\n",
       "    <tr>\n",
       "      <th>6</th>\n",
       "      <td>IV Botafogo</td>\n",
       "      <td>1402.717898</td>\n",
       "      <td>657.835131</td>\n",
       "    </tr>\n",
       "  </tbody>\n",
       "</table>\n",
       "</div>"
      ],
      "text/plain": [
       "  Regiões Administrativas    Masculino    Feminino\n",
       "1          Rio de Janeiro   589.355990  252.592167\n",
       "3             I Portuária   289.797861  129.347992\n",
       "4               II Centro   557.897652  319.294736\n",
       "5        III Rio Comprido   431.134579  220.902467\n",
       "6             IV Botafogo  1402.717898  657.835131"
      ]
     },
     "execution_count": 116,
     "metadata": {},
     "output_type": "execute_result"
    }
   ],
   "source": [
    "data.head(5)"
   ]
  },
  {
   "cell_type": "code",
   "execution_count": 117,
   "metadata": {
    "collapsed": false
   },
   "outputs": [
    {
     "data": {
      "text/html": [
       "<div>\n",
       "<table border=\"1\" class=\"dataframe\">\n",
       "  <thead>\n",
       "    <tr style=\"text-align: right;\">\n",
       "      <th></th>\n",
       "      <th>Districts</th>\n",
       "      <th>Male (R$)</th>\n",
       "      <th>Female (R$)</th>\n",
       "    </tr>\n",
       "  </thead>\n",
       "  <tbody>\n",
       "    <tr>\n",
       "      <th>1</th>\n",
       "      <td>Rio de Janeiro</td>\n",
       "      <td>589.355990</td>\n",
       "      <td>252.592167</td>\n",
       "    </tr>\n",
       "    <tr>\n",
       "      <th>3</th>\n",
       "      <td>I Portuária</td>\n",
       "      <td>289.797861</td>\n",
       "      <td>129.347992</td>\n",
       "    </tr>\n",
       "    <tr>\n",
       "      <th>4</th>\n",
       "      <td>II Centro</td>\n",
       "      <td>557.897652</td>\n",
       "      <td>319.294736</td>\n",
       "    </tr>\n",
       "    <tr>\n",
       "      <th>5</th>\n",
       "      <td>III Rio Comprido</td>\n",
       "      <td>431.134579</td>\n",
       "      <td>220.902467</td>\n",
       "    </tr>\n",
       "    <tr>\n",
       "      <th>6</th>\n",
       "      <td>IV Botafogo</td>\n",
       "      <td>1402.717898</td>\n",
       "      <td>657.835131</td>\n",
       "    </tr>\n",
       "  </tbody>\n",
       "</table>\n",
       "</div>"
      ],
      "text/plain": [
       "          Districts    Male (R$)  Female (R$)\n",
       "1    Rio de Janeiro   589.355990   252.592167\n",
       "3       I Portuária   289.797861   129.347992\n",
       "4         II Centro   557.897652   319.294736\n",
       "5  III Rio Comprido   431.134579   220.902467\n",
       "6       IV Botafogo  1402.717898   657.835131"
      ]
     },
     "execution_count": 117,
     "metadata": {},
     "output_type": "execute_result"
    }
   ],
   "source": [
    "# Renaming columns names to english\n",
    "data.columns = [\"Districts\", 'Male (R$)', 'Female (R$)']\n",
    "data.head()"
   ]
  },
  {
   "cell_type": "code",
   "execution_count": 118,
   "metadata": {
    "collapsed": false
   },
   "outputs": [],
   "source": [
    "# the first column \"Rio de Janeiro\" is a median of all data, let's make a new data frame just with regions\n",
    "df_rg = data[1::]"
   ]
  },
  {
   "cell_type": "code",
   "execution_count": 119,
   "metadata": {
    "collapsed": false
   },
   "outputs": [
    {
     "data": {
      "text/html": [
       "<div>\n",
       "<table border=\"1\" class=\"dataframe\">\n",
       "  <thead>\n",
       "    <tr style=\"text-align: right;\">\n",
       "      <th></th>\n",
       "      <th>Districts</th>\n",
       "      <th>Male (R$)</th>\n",
       "      <th>Female (R$)</th>\n",
       "    </tr>\n",
       "  </thead>\n",
       "  <tbody>\n",
       "    <tr>\n",
       "      <th>3</th>\n",
       "      <td>I Portuária</td>\n",
       "      <td>289.797861</td>\n",
       "      <td>129.347992</td>\n",
       "    </tr>\n",
       "    <tr>\n",
       "      <th>4</th>\n",
       "      <td>II Centro</td>\n",
       "      <td>557.897652</td>\n",
       "      <td>319.294736</td>\n",
       "    </tr>\n",
       "    <tr>\n",
       "      <th>5</th>\n",
       "      <td>III Rio Comprido</td>\n",
       "      <td>431.134579</td>\n",
       "      <td>220.902467</td>\n",
       "    </tr>\n",
       "    <tr>\n",
       "      <th>6</th>\n",
       "      <td>IV Botafogo</td>\n",
       "      <td>1402.717898</td>\n",
       "      <td>657.835131</td>\n",
       "    </tr>\n",
       "    <tr>\n",
       "      <th>7</th>\n",
       "      <td>V Copacabana</td>\n",
       "      <td>1295.173081</td>\n",
       "      <td>549.100659</td>\n",
       "    </tr>\n",
       "  </tbody>\n",
       "</table>\n",
       "</div>"
      ],
      "text/plain": [
       "          Districts    Male (R$)  Female (R$)\n",
       "3       I Portuária   289.797861   129.347992\n",
       "4         II Centro   557.897652   319.294736\n",
       "5  III Rio Comprido   431.134579   220.902467\n",
       "6       IV Botafogo  1402.717898   657.835131\n",
       "7      V Copacabana  1295.173081   549.100659"
      ]
     },
     "execution_count": 119,
     "metadata": {},
     "output_type": "execute_result"
    }
   ],
   "source": [
    "df_rg.head(5)"
   ]
  },
  {
   "cell_type": "code",
   "execution_count": 120,
   "metadata": {
    "collapsed": false
   },
   "outputs": [
    {
     "data": {
      "text/plain": [
       "Index([u'Districts', u'Male (R$)', u'Female (R$)'], dtype='object')"
      ]
     },
     "execution_count": 120,
     "metadata": {},
     "output_type": "execute_result"
    }
   ],
   "source": [
    "df_rg.keys()"
   ]
  },
  {
   "cell_type": "code",
   "execution_count": 121,
   "metadata": {
    "collapsed": false
   },
   "outputs": [],
   "source": [
    "df_rg = df_rg.dropna()"
   ]
  },
  {
   "cell_type": "code",
   "execution_count": 259,
   "metadata": {
    "collapsed": false,
    "scrolled": true
   },
   "outputs": [
    {
     "data": {
      "text/html": [
       "<div>\n",
       "<table border=\"1\" class=\"dataframe\">\n",
       "  <thead>\n",
       "    <tr style=\"text-align: right;\">\n",
       "      <th></th>\n",
       "      <th>Districts</th>\n",
       "      <th>Male (R$)</th>\n",
       "      <th>Female (R$)</th>\n",
       "      <th>Ratio</th>\n",
       "    </tr>\n",
       "  </thead>\n",
       "  <tbody>\n",
       "    <tr>\n",
       "      <th>3</th>\n",
       "      <td>I Portuária</td>\n",
       "      <td>289.797861</td>\n",
       "      <td>129.347992</td>\n",
       "      <td>2.240451</td>\n",
       "    </tr>\n",
       "    <tr>\n",
       "      <th>4</th>\n",
       "      <td>II Centro</td>\n",
       "      <td>557.897652</td>\n",
       "      <td>319.294736</td>\n",
       "      <td>1.747281</td>\n",
       "    </tr>\n",
       "    <tr>\n",
       "      <th>5</th>\n",
       "      <td>III Rio Comprido</td>\n",
       "      <td>431.134579</td>\n",
       "      <td>220.902467</td>\n",
       "      <td>1.951697</td>\n",
       "    </tr>\n",
       "    <tr>\n",
       "      <th>6</th>\n",
       "      <td>IV Botafogo</td>\n",
       "      <td>1402.717898</td>\n",
       "      <td>657.835131</td>\n",
       "      <td>2.132324</td>\n",
       "    </tr>\n",
       "    <tr>\n",
       "      <th>7</th>\n",
       "      <td>V Copacabana</td>\n",
       "      <td>1295.173081</td>\n",
       "      <td>549.100659</td>\n",
       "      <td>2.358717</td>\n",
       "    </tr>\n",
       "  </tbody>\n",
       "</table>\n",
       "</div>"
      ],
      "text/plain": [
       "          Districts    Male (R$)  Female (R$)     Ratio\n",
       "3       I Portuária   289.797861   129.347992  2.240451\n",
       "4         II Centro   557.897652   319.294736  1.747281\n",
       "5  III Rio Comprido   431.134579   220.902467  1.951697\n",
       "6       IV Botafogo  1402.717898   657.835131  2.132324\n",
       "7      V Copacabana  1295.173081   549.100659  2.358717"
      ]
     },
     "execution_count": 259,
     "metadata": {},
     "output_type": "execute_result"
    }
   ],
   "source": [
    "df_rg['Ratio'] = df_rg['Male (R$)']/df_rg['Female (R$)']\n",
    "df_rg.head()"
   ]
  },
  {
   "cell_type": "code",
   "execution_count": 260,
   "metadata": {
    "collapsed": false,
    "scrolled": true
   },
   "outputs": [
    {
     "name": "stderr",
     "output_type": "stream",
     "text": [
      "/opt/rh/anaconda/root/envs/PUI2016_Python2/lib/python2.7/site-packages/ipykernel/__main__.py:1: FutureWarning: sort(columns=....) is deprecated, use sort_values(by=.....)\n",
      "  if __name__ == '__main__':\n"
     ]
    }
   ],
   "source": [
    "top10 = df_rg.sort(['Ratio'], ascending=0)"
   ]
  },
  {
   "cell_type": "code",
   "execution_count": 261,
   "metadata": {
    "collapsed": false
   },
   "outputs": [],
   "source": [
    "top10 = result[:10]"
   ]
  },
  {
   "cell_type": "code",
   "execution_count": 236,
   "metadata": {
    "collapsed": false,
    "scrolled": true
   },
   "outputs": [
    {
     "data": {
      "text/html": [
       "<div>\n",
       "<table border=\"1\" class=\"dataframe\">\n",
       "  <thead>\n",
       "    <tr style=\"text-align: right;\">\n",
       "      <th></th>\n",
       "      <th>Districts</th>\n",
       "      <th>Male (R$)</th>\n",
       "      <th>Female (R$)</th>\n",
       "      <th>Ratio</th>\n",
       "    </tr>\n",
       "  </thead>\n",
       "  <tbody>\n",
       "    <tr>\n",
       "      <th>26</th>\n",
       "      <td>XXIV Barra da Tijuca</td>\n",
       "      <td>1992.022554</td>\n",
       "      <td>661.810064</td>\n",
       "      <td>3.009961</td>\n",
       "    </tr>\n",
       "    <tr>\n",
       "      <th>21</th>\n",
       "      <td>XIX Santa Cruz</td>\n",
       "      <td>229.825869</td>\n",
       "      <td>82.791312</td>\n",
       "      <td>2.775966</td>\n",
       "    </tr>\n",
       "    <tr>\n",
       "      <th>28</th>\n",
       "      <td>XXVI Guaratiba</td>\n",
       "      <td>256.150862</td>\n",
       "      <td>94.821735</td>\n",
       "      <td>2.701394</td>\n",
       "    </tr>\n",
       "    <tr>\n",
       "      <th>33</th>\n",
       "      <td>XXXIII Realengo</td>\n",
       "      <td>363.611334</td>\n",
       "      <td>137.110633</td>\n",
       "      <td>2.651956</td>\n",
       "    </tr>\n",
       "    <tr>\n",
       "      <th>8</th>\n",
       "      <td>VI Lagoa</td>\n",
       "      <td>2191.016040</td>\n",
       "      <td>826.566181</td>\n",
       "      <td>2.650745</td>\n",
       "    </tr>\n",
       "    <tr>\n",
       "      <th>24</th>\n",
       "      <td>XXII Anchieta</td>\n",
       "      <td>318.557413</td>\n",
       "      <td>120.763743</td>\n",
       "      <td>2.637856</td>\n",
       "    </tr>\n",
       "    <tr>\n",
       "      <th>20</th>\n",
       "      <td>XVIII Campo Grande</td>\n",
       "      <td>327.288669</td>\n",
       "      <td>126.305953</td>\n",
       "      <td>2.591237</td>\n",
       "    </tr>\n",
       "    <tr>\n",
       "      <th>16</th>\n",
       "      <td>XIV Irajá</td>\n",
       "      <td>466.700120</td>\n",
       "      <td>184.016517</td>\n",
       "      <td>2.536186</td>\n",
       "    </tr>\n",
       "    <tr>\n",
       "      <th>22</th>\n",
       "      <td>XX Ilha do Governador</td>\n",
       "      <td>634.448232</td>\n",
       "      <td>252.452774</td>\n",
       "      <td>2.513136</td>\n",
       "    </tr>\n",
       "    <tr>\n",
       "      <th>27</th>\n",
       "      <td>XXV Pavuna</td>\n",
       "      <td>266.518262</td>\n",
       "      <td>106.098961</td>\n",
       "      <td>2.511978</td>\n",
       "    </tr>\n",
       "  </tbody>\n",
       "</table>\n",
       "</div>"
      ],
      "text/plain": [
       "                Districts    Male (R$)  Female (R$)     Ratio\n",
       "26   XXIV Barra da Tijuca  1992.022554   661.810064  3.009961\n",
       "21         XIX Santa Cruz   229.825869    82.791312  2.775966\n",
       "28         XXVI Guaratiba   256.150862    94.821735  2.701394\n",
       "33        XXXIII Realengo   363.611334   137.110633  2.651956\n",
       "8                VI Lagoa  2191.016040   826.566181  2.650745\n",
       "24          XXII Anchieta   318.557413   120.763743  2.637856\n",
       "20     XVIII Campo Grande   327.288669   126.305953  2.591237\n",
       "16              XIV Irajá   466.700120   184.016517  2.536186\n",
       "22  XX Ilha do Governador   634.448232   252.452774  2.513136\n",
       "27             XXV Pavuna   266.518262   106.098961  2.511978"
      ]
     },
     "execution_count": 236,
     "metadata": {},
     "output_type": "execute_result"
    }
   ],
   "source": [
    "top10"
   ]
  },
  {
   "cell_type": "code",
   "execution_count": 282,
   "metadata": {
    "collapsed": false,
    "scrolled": true
   },
   "outputs": [
    {
     "name": "stderr",
     "output_type": "stream",
     "text": [
      "/opt/rh/anaconda/root/envs/PUI2016_Python2/lib/python2.7/site-packages/ipykernel/__main__.py:2: SettingWithCopyWarning: \n",
      "A value is trying to be set on a copy of a slice from a DataFrame\n",
      "\n",
      "See the caveats in the documentation: http://pandas.pydata.org/pandas-docs/stable/indexing.html#indexing-view-versus-copy\n",
      "  from ipykernel import kernelapp as app\n",
      "/opt/rh/anaconda/root/envs/PUI2016_Python2/lib/python2.7/site-packages/IPython/core/interactiveshell.py:2881: SettingWithCopyWarning: \n",
      "A value is trying to be set on a copy of a slice from a DataFrame\n",
      "\n",
      "See the caveats in the documentation: http://pandas.pydata.org/pandas-docs/stable/indexing.html#indexing-view-versus-copy\n",
      "  exec(code_obj, self.user_global_ns, self.user_ns)\n"
     ]
    }
   ],
   "source": [
    "# Rounding Ratios to plot\n",
    "for n in np.array((top10.index)):\n",
    "    top10['Ratio'][n] = round(top10['Ratio'][n], 2)"
   ]
  },
  {
   "cell_type": "code",
   "execution_count": 283,
   "metadata": {
    "collapsed": false
   },
   "outputs": [
    {
     "data": {
      "text/html": [
       "<div>\n",
       "<table border=\"1\" class=\"dataframe\">\n",
       "  <thead>\n",
       "    <tr style=\"text-align: right;\">\n",
       "      <th></th>\n",
       "      <th>Districts</th>\n",
       "      <th>Male (R$)</th>\n",
       "      <th>Female (R$)</th>\n",
       "      <th>Ratio</th>\n",
       "    </tr>\n",
       "  </thead>\n",
       "  <tbody>\n",
       "    <tr>\n",
       "      <th>26</th>\n",
       "      <td>XXIV Barra da Tijuca</td>\n",
       "      <td>1992.022554</td>\n",
       "      <td>661.810064</td>\n",
       "      <td>3.01</td>\n",
       "    </tr>\n",
       "    <tr>\n",
       "      <th>21</th>\n",
       "      <td>XIX Santa Cruz</td>\n",
       "      <td>229.825869</td>\n",
       "      <td>82.791312</td>\n",
       "      <td>2.78</td>\n",
       "    </tr>\n",
       "    <tr>\n",
       "      <th>28</th>\n",
       "      <td>XXVI Guaratiba</td>\n",
       "      <td>256.150862</td>\n",
       "      <td>94.821735</td>\n",
       "      <td>2.70</td>\n",
       "    </tr>\n",
       "    <tr>\n",
       "      <th>33</th>\n",
       "      <td>XXXIII Realengo</td>\n",
       "      <td>363.611334</td>\n",
       "      <td>137.110633</td>\n",
       "      <td>2.65</td>\n",
       "    </tr>\n",
       "    <tr>\n",
       "      <th>8</th>\n",
       "      <td>VI Lagoa</td>\n",
       "      <td>2191.016040</td>\n",
       "      <td>826.566181</td>\n",
       "      <td>2.65</td>\n",
       "    </tr>\n",
       "    <tr>\n",
       "      <th>24</th>\n",
       "      <td>XXII Anchieta</td>\n",
       "      <td>318.557413</td>\n",
       "      <td>120.763743</td>\n",
       "      <td>2.64</td>\n",
       "    </tr>\n",
       "    <tr>\n",
       "      <th>20</th>\n",
       "      <td>XVIII Campo Grande</td>\n",
       "      <td>327.288669</td>\n",
       "      <td>126.305953</td>\n",
       "      <td>2.59</td>\n",
       "    </tr>\n",
       "    <tr>\n",
       "      <th>16</th>\n",
       "      <td>XIV Irajá</td>\n",
       "      <td>466.700120</td>\n",
       "      <td>184.016517</td>\n",
       "      <td>2.54</td>\n",
       "    </tr>\n",
       "    <tr>\n",
       "      <th>22</th>\n",
       "      <td>XX Ilha do Governador</td>\n",
       "      <td>634.448232</td>\n",
       "      <td>252.452774</td>\n",
       "      <td>2.51</td>\n",
       "    </tr>\n",
       "    <tr>\n",
       "      <th>27</th>\n",
       "      <td>XXV Pavuna</td>\n",
       "      <td>266.518262</td>\n",
       "      <td>106.098961</td>\n",
       "      <td>2.51</td>\n",
       "    </tr>\n",
       "  </tbody>\n",
       "</table>\n",
       "</div>"
      ],
      "text/plain": [
       "                Districts    Male (R$)  Female (R$)  Ratio\n",
       "26   XXIV Barra da Tijuca  1992.022554   661.810064   3.01\n",
       "21         XIX Santa Cruz   229.825869    82.791312   2.78\n",
       "28         XXVI Guaratiba   256.150862    94.821735   2.70\n",
       "33        XXXIII Realengo   363.611334   137.110633   2.65\n",
       "8                VI Lagoa  2191.016040   826.566181   2.65\n",
       "24          XXII Anchieta   318.557413   120.763743   2.64\n",
       "20     XVIII Campo Grande   327.288669   126.305953   2.59\n",
       "16              XIV Irajá   466.700120   184.016517   2.54\n",
       "22  XX Ilha do Governador   634.448232   252.452774   2.51\n",
       "27             XXV Pavuna   266.518262   106.098961   2.51"
      ]
     },
     "execution_count": 283,
     "metadata": {},
     "output_type": "execute_result"
    }
   ],
   "source": [
    "top10"
   ]
  },
  {
   "cell_type": "code",
   "execution_count": 237,
   "metadata": {
    "collapsed": false
   },
   "outputs": [],
   "source": [
    "# For labeling purposes, I create a new dataframe to store Districts names\n",
    "t10_dist = pd.DataFrame(top10.Districts.str.split(' ',1).tolist(),\n",
    "                                   columns = ['Districts','New Districts'])"
   ]
  },
  {
   "cell_type": "code",
   "execution_count": 239,
   "metadata": {
    "collapsed": false
   },
   "outputs": [
    {
     "data": {
      "text/html": [
       "<div>\n",
       "<table border=\"1\" class=\"dataframe\">\n",
       "  <thead>\n",
       "    <tr style=\"text-align: right;\">\n",
       "      <th></th>\n",
       "      <th>Districts</th>\n",
       "      <th>New Districts</th>\n",
       "    </tr>\n",
       "  </thead>\n",
       "  <tbody>\n",
       "    <tr>\n",
       "      <th>0</th>\n",
       "      <td>XXIV</td>\n",
       "      <td>Barra da Tijuca</td>\n",
       "    </tr>\n",
       "    <tr>\n",
       "      <th>1</th>\n",
       "      <td>XIX</td>\n",
       "      <td>Santa Cruz</td>\n",
       "    </tr>\n",
       "    <tr>\n",
       "      <th>2</th>\n",
       "      <td>XXVI</td>\n",
       "      <td>Guaratiba</td>\n",
       "    </tr>\n",
       "    <tr>\n",
       "      <th>3</th>\n",
       "      <td>XXXIII</td>\n",
       "      <td>Realengo</td>\n",
       "    </tr>\n",
       "    <tr>\n",
       "      <th>4</th>\n",
       "      <td>VI</td>\n",
       "      <td>Lagoa</td>\n",
       "    </tr>\n",
       "  </tbody>\n",
       "</table>\n",
       "</div>"
      ],
      "text/plain": [
       "  Districts    New Districts\n",
       "0      XXIV  Barra da Tijuca\n",
       "1       XIX       Santa Cruz\n",
       "2      XXVI        Guaratiba\n",
       "3    XXXIII         Realengo\n",
       "4        VI            Lagoa"
      ]
     },
     "execution_count": 239,
     "metadata": {},
     "output_type": "execute_result"
    }
   ],
   "source": [
    "t10_dist.head(5)"
   ]
  },
  {
   "cell_type": "markdown",
   "metadata": {},
   "source": [
    "### Now we have our data cleaned, let's make a plot to see the difference between Males and Females median salaries in Rio De Janeiro, by district"
   ]
  },
  {
   "cell_type": "code",
   "execution_count": 284,
   "metadata": {
    "collapsed": false,
    "scrolled": true
   },
   "outputs": [
    {
     "data": {
      "text/plain": [
       "array([ 1992.02255399,   229.82586913,   256.15086249,   363.61133397,\n",
       "        2191.01604013,   318.5574126 ,   327.28866917,   466.70011982,\n",
       "         634.44823165,   266.51826191])"
      ]
     },
     "execution_count": 284,
     "metadata": {},
     "output_type": "execute_result"
    }
   ],
   "source": [
    "male = np.array(top10['Male (R$)'])\n",
    "female = np.array(top10['Female (R$)'])\n",
    "districts = np.array(t10_dist['New Districts'])\n",
    "ratio = np.array(top10['Ratio'])\n",
    "male"
   ]
  },
  {
   "cell_type": "code",
   "execution_count": 376,
   "metadata": {
    "collapsed": true
   },
   "outputs": [],
   "source": [
    "import matplotlib.cm as cm"
   ]
  },
  {
   "cell_type": "code",
   "execution_count": 285,
   "metadata": {
    "collapsed": false
   },
   "outputs": [],
   "source": [
    "x_1 = np.array([0, 2500])\n",
    "y_1 = x_1"
   ]
  },
  {
   "cell_type": "code",
   "execution_count": 406,
   "metadata": {
    "collapsed": false
   },
   "outputs": [],
   "source": [
    "colors = iter(cm.rainbow(np.linspace(0, 1, 1)))"
   ]
  },
  {
   "cell_type": "code",
   "execution_count": 407,
   "metadata": {
    "collapsed": false
   },
   "outputs": [
    {
     "data": {
      "text/plain": [
       "<iterator at 0x7f8f515cd490>"
      ]
     },
     "execution_count": 407,
     "metadata": {},
     "output_type": "execute_result"
    }
   ],
   "source": [
    "colors"
   ]
  },
  {
   "cell_type": "code",
   "execution_count": 440,
   "metadata": {
    "collapsed": false,
    "scrolled": false
   },
   "outputs": [
    {
     "data": {
      "text/plain": [
       "(0, 850)"
      ]
     },
     "execution_count": 440,
     "metadata": {},
     "output_type": "execute_result"
    },
    {
     "data": {
      "image/png": "[encoded data removed]",
      "text/plain": [
       "<matplotlib.figure.Figure at 0x7f8f51587050>"
      ]
     },
     "metadata": {},
     "output_type": "display_data"
    }
   ],
   "source": [
    "pl.figure(figsize=(11,11))\n",
    "colors = iter(cm.rainbow(np.linspace(0, 1, len(top10))))\n",
    "min, max = (-10, 10)\n",
    "\n",
    "for i in range(0, len(top10)):\n",
    "    r = (float(ratio[i])-min)/(max-min)\n",
    "    g = 0\n",
    "    b = 1-r\n",
    "    pl.plot(male[i], female[i], '.', ms = '18', alpha = 0.8, label=districts[i], color=next(colors))\n",
    "\n",
    "pl.plot(x_1, y_1, label = 'Equity line (equal salaries)')\n",
    "   \n",
    "# Plotting labels\n",
    "for label, x, y in zip(ratio, male, female):\n",
    "    pl.annotate(\n",
    "        label, \n",
    "        xy = (x, y), xytext = (8, 0),\n",
    "        textcoords = 'offset points', ha = 'left', va = 'top',\n",
    "        fontsize=7\n",
    "        )\n",
    "\n",
    "pl.legend(loc='lower right', shadow=False, fontsize=10)\n",
    "\n",
    "pl.title('Top 10 Salary Inequalities Districts in Rio de Janeiro (Brazil)', fontsize=15)\n",
    "pl.annotate('* Ratio (men/women) plotted close to points', xy=(1650, 250), fontsize=7.5)  \n",
    "pl.xlabel(\"Men median salaries in R$\", fontsize = 15)\n",
    "pl.ylabel(\"Women median salaries in R$\", fontsize = 15)\n",
    "\n",
    "pl.xlim(0, 2305)\n",
    "pl.ylim(0, 850)"
   ]
  },
  {
   "cell_type": "markdown",
   "metadata": {},
   "source": [
    "### Caption: \n",
    "#### This plot represent the top 10 ratio between men and women salaries among distrits in Rio de Janeiro, Brazil. The blue line represent the path where points would be if there were equality on salaries.\n",
    "#### On that plot we can see that, woman earn less than 2x comparing to a man in general."
   ]
  },
  {
   "cell_type": "code",
   "execution_count": null,
   "metadata": {
    "collapsed": true
   },
   "outputs": [],
   "source": [
    "pl.figure(figsize=(11,11))\n",
    "colors = iter(cm.rainbow(np.linspace(0, 1, len(top10))))\n",
    "\n",
    "for i in range(0, len(top10)):\n",
    "    pl.plot(male[i], female[i], '.', ms = '18', alpha = 0.8, label=districts[i], color=next(colors))\n",
    "\n",
    "pl.plot(x_1, y_1, label = 'Equity line (equal salaries)')\n",
    "   \n",
    "# Plotting labels\n",
    "for label, x, y in zip(labels, male, female):\n",
    "    pl.annotate(\n",
    "        label, \n",
    "        xy = (x, y), xytext = (8, 0),\n",
    "        textcoords = 'offset points', ha = 'left', va = 'top',\n",
    "        fontsize=7\n",
    "        )\n",
    "\n",
    "#pl.legend(loc='lower right', shadow=False, fontsize=10)\n",
    "\n",
    "pl.title('Top 10 Salary Inequalities Districts in Rio de Janeiro (Brazil)', fontsize=15)\n",
    " \n",
    "pl.xlabel(\"Men median salaries in R$\", fontsize = 15)\n",
    "pl.ylabel(\"Women median salaries in R$\", fontsize = 15)\n",
    "\n",
    "pl.xlim(0, 2305)\n",
    "pl.ylim(0, 850)"
   ]
  }
 ],
 "metadata": {
  "kernelspec": {
   "display_name": "PUI2016_Python2",
   "language": "python",
   "name": "pui2016_python2"
  },
  "language_info": {
   "codemirror_mode": {
    "name": "ipython",
    "version": 2
   },
   "file_extension": ".py",
   "mimetype": "text/x-python",
   "name": "python",
   "nbconvert_exporter": "python",
   "pygments_lexer": "ipython2",
   "version": "2.7.12"
  }
 },
 "nbformat": 4,
 "nbformat_minor": 0
}
